{
 "cells": [
  {
   "cell_type": "markdown",
   "metadata": {},
   "source": [
    "# Disclaimer"
   ]
  },
  {
   "cell_type": "code",
   "execution_count": 47,
   "metadata": {},
   "outputs": [
    {
     "name": "stdout",
     "output_type": "stream",
     "text": [
      "This code is only meant to make Walker's and Nastia's lifes easier\n",
      "Use it at your own risk. After running this, you may choose to compare the result to your manual conversion as this is severely undertested\n"
     ]
    }
   ],
   "source": [
    "print('This code is only meant to make Walker\\'s and Nastia\\'s lifes easier\\nUse it at your own risk. After running this, you may choose to compare the result to your manual conversion as this is severely undertested')"
   ]
  },
  {
   "cell_type": "markdown",
   "metadata": {},
   "source": [
    "# Do not touch!"
   ]
  },
  {
   "cell_type": "code",
   "execution_count": 48,
   "metadata": {},
   "outputs": [],
   "source": [
    "# Actual core.\n",
    "# Please do not modify these unless you know whatcha hell you're doing\n",
    "def three_letter_seq(sequence, thio_end5, thio_end3):\n",
    "    s = ''\n",
    "    if thio_end3 < 0: return ''\n",
    "    for i in range(len(sequence)):\n",
    "        if i == len(sequence) - 1: s = s + '-' + sequence[i] + ('r' if thio_end3 == 0 else 'm')\n",
    "        elif i < thio_end5: s = s + '-' + sequence[i] + 'ms'\n",
    "        elif i > (len(sequence) - thio_end3 - 1): s = s + '-' + sequence[i] + 'ms'\n",
    "        else: s = s + '-' + sequence[i] + 'ro'\n",
    "    return s\n",
    "\n",
    "def single_insertion(tls, pos1, pos2, base, twoprime='r', thio=False):\n",
    "    #just in case user swapped pos1 and pos2\n",
    "    if pos2 < pos1: pos1, pos2 = pos2, pos1\n",
    "    # because Python is zero-based and humans are one-based\n",
    "    pos1, pos2 = pos1 - 1, pos2 - 1\n",
    "    if pos2 - pos1 != 1:\n",
    "        print('No insertion has been made.')\n",
    "        print('Positions entered are not consecutive')\n",
    "        return(tls)\n",
    "    \n",
    "    elif pos1 < -1 or pos1 > len(tls) / 4:\n",
    "        print('No insertion has been made.')\n",
    "        print('Cannot insert there')\n",
    "        return(tls)\n",
    "    \n",
    "    elif base not in 'ACGUX':\n",
    "        print('No insertion has been made.')\n",
    "        print('Base not valid')\n",
    "        return(tls)\n",
    "    \n",
    "    two_prime_abbs = {'OH': 'r', 'Methyl': 'm', 'Fluoro': 'f'}\n",
    "    \n",
    "    if pos1 == len(tls) / 4: mod = '-' + base + two_prime_abbs[twoprime]\n",
    "    else: mod = '-' + base + two_prime_abbs[twoprime] + ('o' if thio == False else 's')\n",
    "    modified_tls = tls[:((pos1 + 1) * 4)] + mod + tls[(pos1 + 1) * 4:]\n",
    "    return modified_tls\n",
    "\n",
    "def single_replacement(tls, pos, base, twoprime='r', thio=False):\n",
    "\n",
    "    # because Python is zero-based and humans are one-based\n",
    "    pos -= 1\n",
    "    \n",
    "    if pos < 0 or pos > len(tls) / 4:\n",
    "        print('No replacement has been made.')\n",
    "        print('Cannot replace base that does not exist.')\n",
    "        return(tls)\n",
    "    \n",
    "    elif base not in 'ACGUX':\n",
    "        print('No replacement has been made.')\n",
    "        print('Base not valid')\n",
    "        return(tls)\n",
    "    \n",
    "    two_prime_abbs = {'OH': 'r', 'Methyl': 'm', 'Fluoro': 'f'}\n",
    "    \n",
    "    if pos == len(tls) / 4: mod = '-' + base + two_prime_abbs[twoprime]\n",
    "        \n",
    "    else: mod = '-' + base + two_prime_abbs[twoprime] + ('o' if thio == False else 's')\n",
    "    modified_tls = tls[:((pos) * 4)] + mod + tls[(pos + 1) * 4:]\n",
    "    return modified_tls"
   ]
  },
  {
   "cell_type": "markdown",
   "metadata": {},
   "source": [
    "# Run this"
   ]
  },
  {
   "cell_type": "code",
   "execution_count": 49,
   "metadata": {},
   "outputs": [],
   "source": [
    "import ipywidgets as widgets\n",
    "style = {'description_width': 'initial'}"
   ]
  },
  {
   "cell_type": "code",
   "execution_count": 55,
   "metadata": {},
   "outputs": [
    {
     "name": "stdout",
     "output_type": "stream",
     "text": [
      "Convert an RNA sequence into a sequence that you can directly feed to the machine.\n",
      "Note: only ACGTU are accepted. All T's will be converted to U\n",
      "Enter a sequence below\n"
     ]
    },
    {
     "data": {
      "application/vnd.jupyter.widget-view+json": {
       "model_id": "76fd04fe28aa4761b1fb32f1561c9701",
       "version_major": 2,
       "version_minor": 0
      },
      "text/html": [
       "<p>Failed to display Jupyter Widget of type <code>Text</code>.</p>\n",
       "<p>\n",
       "  If you're reading this message in the Jupyter Notebook or JupyterLab Notebook, it may mean\n",
       "  that the widgets JavaScript is still loading. If this message persists, it\n",
       "  likely means that the widgets JavaScript library is either not installed or\n",
       "  not enabled. See the <a href=\"https://ipywidgets.readthedocs.io/en/stable/user_install.html\">Jupyter\n",
       "  Widgets Documentation</a> for setup instructions.\n",
       "</p>\n",
       "<p>\n",
       "  If you're reading this message in another frontend (for example, a static\n",
       "  rendering on GitHub or <a href=\"https://nbviewer.jupyter.org/\">NBViewer</a>),\n",
       "  it may mean that your frontend doesn't currently support widgets.\n",
       "</p>\n"
      ],
      "text/plain": [
       "Text(value=u'', description=u'Sequence', placeholder=u'Enter your RNA sequence')"
      ]
     },
     "metadata": {},
     "output_type": "display_data"
    }
   ],
   "source": [
    "print('Convert an RNA sequence into a sequence that you can directly feed to the machine.')\n",
    "print('Note: only ACGTU are accepted. All T\\'s will be converted to U')\n",
    "print('Enter a sequence below')\n",
    "s = widgets.Text(value='', placeholder='Enter your RNA sequence', description='Sequence', disabled=False)\n",
    "display(s)"
   ]
  },
  {
   "cell_type": "code",
   "execution_count": 67,
   "metadata": {},
   "outputs": [
    {
     "name": "stdout",
     "output_type": "stream",
     "text": [
      "CUGUGAGAAAUCACAGAUGCCUGCUCAGUGUUGGUUUUAGAGCUAGAAAUAGCAAGUUAAAAUAAGGCUAGUCCGUUAUCAACUUGAAAAAGUGGCACCGAGUCGGUGCUUUU\n",
      "Sequence length: 113\n"
     ]
    }
   ],
   "source": [
    "#read sequence. Ensure no errors (AGCU) If any T's - convert to U's\n",
    "sequence = s.value.upper()\n",
    "seq = ''\n",
    "flag = 1\n",
    "for i in range(len(sequence)):\n",
    "    if sequence[i] not in 'ACGTU':\n",
    "        flag = 0\n",
    "        break\n",
    "    if sequence[i] == 'T': seq += 'U'\n",
    "    else: seq += sequence[i]\n",
    "\n",
    "if flag != 0:\n",
    "    print(seq)\n",
    "    print(\"Sequence length: \" + str(len(seq)))\n",
    "else: print('Sequence not valid')"
   ]
  },
  {
   "cell_type": "code",
   "execution_count": 68,
   "metadata": {},
   "outputs": [
    {
     "name": "stdout",
     "output_type": "stream",
     "text": [
      "Synthego standard RNA mods include 3 phosphate bridges at the 5'- and 3'-ends being thiophosphorylated\n",
      "Currently we do not handle base modifications\n"
     ]
    },
    {
     "data": {
      "application/vnd.jupyter.widget-view+json": {
       "model_id": "060b43591318452384c500fd6ec5a1a2",
       "version_major": 2,
       "version_minor": 0
      },
      "text/html": [
       "<p>Failed to display Jupyter Widget of type <code>IntText</code>.</p>\n",
       "<p>\n",
       "  If you're reading this message in the Jupyter Notebook or JupyterLab Notebook, it may mean\n",
       "  that the widgets JavaScript is still loading. If this message persists, it\n",
       "  likely means that the widgets JavaScript library is either not installed or\n",
       "  not enabled. See the <a href=\"https://ipywidgets.readthedocs.io/en/stable/user_install.html\">Jupyter\n",
       "  Widgets Documentation</a> for setup instructions.\n",
       "</p>\n",
       "<p>\n",
       "  If you're reading this message in another frontend (for example, a static\n",
       "  rendering on GitHub or <a href=\"https://nbviewer.jupyter.org/\">NBViewer</a>),\n",
       "  it may mean that your frontend doesn't currently support widgets.\n",
       "</p>\n"
      ],
      "text/plain": [
       "IntText(value=3, description=u\"Thiophosphates & OMe at the 5'-end\", style=DescriptionStyle(description_width=u'initial'))"
      ]
     },
     "metadata": {},
     "output_type": "display_data"
    },
    {
     "data": {
      "application/vnd.jupyter.widget-view+json": {
       "model_id": "e6912fe7f1ee4d34bcec1fff3193388d",
       "version_major": 2,
       "version_minor": 0
      },
      "text/html": [
       "<p>Failed to display Jupyter Widget of type <code>IntText</code>.</p>\n",
       "<p>\n",
       "  If you're reading this message in the Jupyter Notebook or JupyterLab Notebook, it may mean\n",
       "  that the widgets JavaScript is still loading. If this message persists, it\n",
       "  likely means that the widgets JavaScript library is either not installed or\n",
       "  not enabled. See the <a href=\"https://ipywidgets.readthedocs.io/en/stable/user_install.html\">Jupyter\n",
       "  Widgets Documentation</a> for setup instructions.\n",
       "</p>\n",
       "<p>\n",
       "  If you're reading this message in another frontend (for example, a static\n",
       "  rendering on GitHub or <a href=\"https://nbviewer.jupyter.org/\">NBViewer</a>),\n",
       "  it may mean that your frontend doesn't currently support widgets.\n",
       "</p>\n"
      ],
      "text/plain": [
       "IntText(value=3, description=u\"Thiophosphates & OMe at the 3'-end\", style=DescriptionStyle(description_width=u'initial'))"
      ]
     },
     "metadata": {},
     "output_type": "display_data"
    }
   ],
   "source": [
    "print('Synthego standard RNA mods include 3 phosphate bridges at the 5\\'- and 3\\'-ends being thiophosphorylated')\n",
    "print('Currently we do not handle base modifications')\n",
    "\n",
    "thio_end5 = widgets.IntText(value=3, description='Thiophosphates & OMe at the 5\\'-end', disabled=False, style=style)\n",
    "thio_end3 = widgets.IntText(value=3, description='Thiophosphates & OMe at the 3\\'-end', disabled=False, style=style)\n",
    "\n",
    "display(thio_end5)\n",
    "display(thio_end3)"
   ]
  },
  {
   "cell_type": "markdown",
   "metadata": {},
   "source": [
    "# Copy your TLS"
   ]
  },
  {
   "cell_type": "code",
   "execution_count": 69,
   "metadata": {},
   "outputs": [
    {
     "name": "stdout",
     "output_type": "stream",
     "text": [
      "Standard three letter sequence is: \n",
      "-Cms-Ums-Gms-Uro-Gro-Aro-Gro-Aro-Aro-Aro-Uro-Cro-Aro-Cro-Aro-Gro-Aro-Uro-Gro-Cro-Cro-Uro-Gro-Cro-Uro-Cro-Aro-Gro-Uro-Gro-Uro-Uro-Gro-Gro-Uro-Uro-Uro-Uro-Aro-Gro-Aro-Gro-Cro-Uro-Aro-Gro-Aro-Aro-Aro-Uro-Aro-Gro-Cro-Aro-Aro-Gro-Uro-Uro-Aro-Aro-Aro-Aro-Uro-Aro-Aro-Gro-Gro-Cro-Uro-Aro-Gro-Uro-Cro-Cro-Gro-Uro-Uro-Aro-Uro-Cro-Aro-Aro-Cro-Uro-Uro-Gro-Aro-Aro-Aro-Aro-Aro-Gro-Uro-Gro-Gro-Cro-Aro-Cro-Cro-Gro-Aro-Gro-Uro-Cro-Gro-Gro-Uro-Gro-Cro-Uro-Ums-Ums-Um\n"
     ]
    }
   ],
   "source": [
    "tls = three_letter_seq(seq, thio_end5.value, thio_end3.value)\n",
    "print('Standard three letter sequence is: ')\n",
    "print(tls)"
   ]
  },
  {
   "cell_type": "markdown",
   "metadata": {},
   "source": [
    "# So you want to do further modifications."
   ]
  },
  {
   "cell_type": "code",
   "execution_count": 64,
   "metadata": {},
   "outputs": [],
   "source": [
    "#Further modifications:\n",
    "#Checkbox - deletions. Start from the 3'-end and enter positions you would like to delete.\n",
    "#Numeric field for positions."
   ]
  },
  {
   "cell_type": "markdown",
   "metadata": {},
   "source": [
    "# Insertions"
   ]
  },
  {
   "cell_type": "code",
   "execution_count": 30,
   "metadata": {},
   "outputs": [
    {
     "name": "stdout",
     "output_type": "stream",
     "text": [
      "If you would like to insert something, enter two positions BETWEEN which you would like to insert stuff.\n",
      "Difference should be exactly 1, otherwise I am not happy.\n",
      "I am aware this is redundant, but it's meant to absolutely ensure noone fucks up.\n",
      "Also please be aware that modifying bases within 3'- and 5'- standard methylated ends does NOT change existing methylated modifications.\n"
     ]
    },
    {
     "data": {
      "application/vnd.jupyter.widget-view+json": {
       "model_id": "c6ce5bcd62cd4656aaf14a0e36e5d6cf",
       "version_major": 2,
       "version_minor": 0
      },
      "text/html": [
       "<p>Failed to display Jupyter Widget of type <code>IntText</code>.</p>\n",
       "<p>\n",
       "  If you're reading this message in the Jupyter Notebook or JupyterLab Notebook, it may mean\n",
       "  that the widgets JavaScript is still loading. If this message persists, it\n",
       "  likely means that the widgets JavaScript library is either not installed or\n",
       "  not enabled. See the <a href=\"https://ipywidgets.readthedocs.io/en/stable/user_install.html\">Jupyter\n",
       "  Widgets Documentation</a> for setup instructions.\n",
       "</p>\n",
       "<p>\n",
       "  If you're reading this message in another frontend (for example, a static\n",
       "  rendering on GitHub or <a href=\"https://nbviewer.jupyter.org/\">NBViewer</a>),\n",
       "  it may mean that your frontend doesn't currently support widgets.\n",
       "</p>\n"
      ],
      "text/plain": [
       "IntText(value=0, description=u'Insert after position:', style=DescriptionStyle(description_width=u'initial'))"
      ]
     },
     "metadata": {},
     "output_type": "display_data"
    },
    {
     "data": {
      "application/vnd.jupyter.widget-view+json": {
       "model_id": "1d3625a1839d4515a6197a349e994e4e",
       "version_major": 2,
       "version_minor": 0
      },
      "text/html": [
       "<p>Failed to display Jupyter Widget of type <code>IntText</code>.</p>\n",
       "<p>\n",
       "  If you're reading this message in the Jupyter Notebook or JupyterLab Notebook, it may mean\n",
       "  that the widgets JavaScript is still loading. If this message persists, it\n",
       "  likely means that the widgets JavaScript library is either not installed or\n",
       "  not enabled. See the <a href=\"https://ipywidgets.readthedocs.io/en/stable/user_install.html\">Jupyter\n",
       "  Widgets Documentation</a> for setup instructions.\n",
       "</p>\n",
       "<p>\n",
       "  If you're reading this message in another frontend (for example, a static\n",
       "  rendering on GitHub or <a href=\"https://nbviewer.jupyter.org/\">NBViewer</a>),\n",
       "  it may mean that your frontend doesn't currently support widgets.\n",
       "</p>\n"
      ],
      "text/plain": [
       "IntText(value=0, description=u'and before position:', style=DescriptionStyle(description_width=u'initial'))"
      ]
     },
     "metadata": {},
     "output_type": "display_data"
    },
    {
     "data": {
      "application/vnd.jupyter.widget-view+json": {
       "model_id": "032be298319e40cfa0b52f6432bc86df",
       "version_major": 2,
       "version_minor": 0
      },
      "text/html": [
       "<p>Failed to display Jupyter Widget of type <code>Select</code>.</p>\n",
       "<p>\n",
       "  If you're reading this message in the Jupyter Notebook or JupyterLab Notebook, it may mean\n",
       "  that the widgets JavaScript is still loading. If this message persists, it\n",
       "  likely means that the widgets JavaScript library is either not installed or\n",
       "  not enabled. See the <a href=\"https://ipywidgets.readthedocs.io/en/stable/user_install.html\">Jupyter\n",
       "  Widgets Documentation</a> for setup instructions.\n",
       "</p>\n",
       "<p>\n",
       "  If you're reading this message in another frontend (for example, a static\n",
       "  rendering on GitHub or <a href=\"https://nbviewer.jupyter.org/\">NBViewer</a>),\n",
       "  it may mean that your frontend doesn't currently support widgets.\n",
       "</p>\n"
      ],
      "text/plain": [
       "Select(description=u'Base to insert:', options=('None', 'A', 'C', 'G', 'U', 'X'), style=DescriptionStyle(description_width=u'initial'), value='None')"
      ]
     },
     "metadata": {},
     "output_type": "display_data"
    },
    {
     "data": {
      "application/vnd.jupyter.widget-view+json": {
       "model_id": "bfcd37fc28a045e18ba2628e5f91ce7d",
       "version_major": 2,
       "version_minor": 0
      },
      "text/html": [
       "<p>Failed to display Jupyter Widget of type <code>RadioButtons</code>.</p>\n",
       "<p>\n",
       "  If you're reading this message in the Jupyter Notebook or JupyterLab Notebook, it may mean\n",
       "  that the widgets JavaScript is still loading. If this message persists, it\n",
       "  likely means that the widgets JavaScript library is either not installed or\n",
       "  not enabled. See the <a href=\"https://ipywidgets.readthedocs.io/en/stable/user_install.html\">Jupyter\n",
       "  Widgets Documentation</a> for setup instructions.\n",
       "</p>\n",
       "<p>\n",
       "  If you're reading this message in another frontend (for example, a static\n",
       "  rendering on GitHub or <a href=\"https://nbviewer.jupyter.org/\">NBViewer</a>),\n",
       "  it may mean that your frontend doesn't currently support widgets.\n",
       "</p>\n"
      ],
      "text/plain": [
       "RadioButtons(description=u\"2'-\", options=('OH', 'Methyl', 'Fluoro'), value='OH')"
      ]
     },
     "metadata": {},
     "output_type": "display_data"
    },
    {
     "data": {
      "application/vnd.jupyter.widget-view+json": {
       "model_id": "bb71f555240946a4b0d6c2dc0e278178",
       "version_major": 2,
       "version_minor": 0
      },
      "text/html": [
       "<p>Failed to display Jupyter Widget of type <code>Checkbox</code>.</p>\n",
       "<p>\n",
       "  If you're reading this message in the Jupyter Notebook or JupyterLab Notebook, it may mean\n",
       "  that the widgets JavaScript is still loading. If this message persists, it\n",
       "  likely means that the widgets JavaScript library is either not installed or\n",
       "  not enabled. See the <a href=\"https://ipywidgets.readthedocs.io/en/stable/user_install.html\">Jupyter\n",
       "  Widgets Documentation</a> for setup instructions.\n",
       "</p>\n",
       "<p>\n",
       "  If you're reading this message in another frontend (for example, a static\n",
       "  rendering on GitHub or <a href=\"https://nbviewer.jupyter.org/\">NBViewer</a>),\n",
       "  it may mean that your frontend doesn't currently support widgets.\n",
       "</p>\n"
      ],
      "text/plain": [
       "Checkbox(value=False, description=u'Thiophosphorylated')"
      ]
     },
     "metadata": {},
     "output_type": "display_data"
    }
   ],
   "source": [
    "#while True - keep entering #string field for positions\n",
    "print('If you would like to insert something, enter two positions BETWEEN which you would like to insert stuff.')\n",
    "print('Difference should be exactly 1, otherwise I am not happy.')\n",
    "print('I am aware this is redundant, but it\\'s meant to absolutely ensure noone fucks up.')\n",
    "print('Also please be aware that modifying bases within 3\\'- and 5\\'- standard methylated ends does NOT change existing methylated modifications.')\n",
    "after_i = widgets.IntText(value=0, description='Insert after position:', disabled=False, style=style)\n",
    "before_i = widgets.IntText(value=0, description='and before position:', disabled=False, style=style)\n",
    "base_i = widgets.Select(options=['None', 'A', 'C', 'G', 'U', 'X'], value='None', description='Base to insert:', disabled=False, style=style)\n",
    "twoprime_i = widgets.RadioButtons(options=['OH', 'Methyl', 'Fluoro'], value='OH', description='2\\'-', disabled=False)\n",
    "thio_i = widgets.Checkbox(value=False, description='Thiophosphorylated', disabled=False)\n",
    "display(after_i)\n",
    "display(before_i)\n",
    "display(base_i)\n",
    "display(twoprime_i)\n",
    "display(thio_i)"
   ]
  },
  {
   "cell_type": "code",
   "execution_count": 10,
   "metadata": {},
   "outputs": [
    {
     "name": "stdout",
     "output_type": "stream",
     "text": [
      "-Ams-Gms-Cms-Uro-Gro-Aro-Gro-Aro-Aro-Aro-Uro-Cro-Aro-Gfo-Gro-Cro-Uro-Gro-Cro-Aro-Gro-Aro-Aro-Gro-Gro-Gro-Aro-Uro-Uro-Cro-Cro-Aro-Uro-Gro-Gro-Uro-Uro-Uro-Uro-Aro-Gro-Aro-Gro-Cro-Uro-Aro-Gro-Aro-Aro-Aro-Uro-Aro-Gro-Cro-Aro-Aro-Gro-Uro-Uro-Aro-Aro-Aro-Aro-Uro-Aro-Aro-Gro-Gro-Cro-Uro-Aro-Gro-Uro-Cro-Cro-Gro-Uro-Uro-Aro-Uro-Cro-Aro-Aro-Cro-Uro-Uro-Gro-Aro-Aro-Aro-Aro-Aro-Gro-Uro-Gro-Gro-Cro-Aro-Cro-Cro-Gro-Aro-Gro-Uro-Cro-Gro-Gro-Uro-Gro-Cro-Uro-Ums-Ums-Um\n",
      "455\n"
     ]
    }
   ],
   "source": [
    "tls = single_insertion(tls, after_i.value, before_i.value, base_i.value, twoprime_i.value, thio_i.value)\n",
    "print(tls)\n",
    "print(len(tls))"
   ]
  },
  {
   "cell_type": "markdown",
   "metadata": {},
   "source": [
    "# Replacements"
   ]
  },
  {
   "cell_type": "code",
   "execution_count": 70,
   "metadata": {},
   "outputs": [
    {
     "name": "stdout",
     "output_type": "stream",
     "text": [
      "If you would like to REPLACE something, enter a position at which you like to replace stuff.\n",
      "Also please be aware that replacing bases within 3'- and 5'- standard methylated ends DOES change existing methylated modifications.\n"
     ]
    },
    {
     "data": {
      "application/vnd.jupyter.widget-view+json": {
       "model_id": "fbe2d3a295314133bd8898ca8e7ea192",
       "version_major": 2,
       "version_minor": 0
      },
      "text/html": [
       "<p>Failed to display Jupyter Widget of type <code>IntText</code>.</p>\n",
       "<p>\n",
       "  If you're reading this message in the Jupyter Notebook or JupyterLab Notebook, it may mean\n",
       "  that the widgets JavaScript is still loading. If this message persists, it\n",
       "  likely means that the widgets JavaScript library is either not installed or\n",
       "  not enabled. See the <a href=\"https://ipywidgets.readthedocs.io/en/stable/user_install.html\">Jupyter\n",
       "  Widgets Documentation</a> for setup instructions.\n",
       "</p>\n",
       "<p>\n",
       "  If you're reading this message in another frontend (for example, a static\n",
       "  rendering on GitHub or <a href=\"https://nbviewer.jupyter.org/\">NBViewer</a>),\n",
       "  it may mean that your frontend doesn't currently support widgets.\n",
       "</p>\n"
      ],
      "text/plain": [
       "IntText(value=0, description=u'Insert at position:', style=DescriptionStyle(description_width=u'initial'))"
      ]
     },
     "metadata": {},
     "output_type": "display_data"
    },
    {
     "data": {
      "application/vnd.jupyter.widget-view+json": {
       "model_id": "32def8dbeb9a414d9cdb422374b18054",
       "version_major": 2,
       "version_minor": 0
      },
      "text/html": [
       "<p>Failed to display Jupyter Widget of type <code>Select</code>.</p>\n",
       "<p>\n",
       "  If you're reading this message in the Jupyter Notebook or JupyterLab Notebook, it may mean\n",
       "  that the widgets JavaScript is still loading. If this message persists, it\n",
       "  likely means that the widgets JavaScript library is either not installed or\n",
       "  not enabled. See the <a href=\"https://ipywidgets.readthedocs.io/en/stable/user_install.html\">Jupyter\n",
       "  Widgets Documentation</a> for setup instructions.\n",
       "</p>\n",
       "<p>\n",
       "  If you're reading this message in another frontend (for example, a static\n",
       "  rendering on GitHub or <a href=\"https://nbviewer.jupyter.org/\">NBViewer</a>),\n",
       "  it may mean that your frontend doesn't currently support widgets.\n",
       "</p>\n"
      ],
      "text/plain": [
       "Select(description=u'Base to insert:', options=('None', 'A', 'C', 'G', 'U', 'X'), style=DescriptionStyle(description_width=u'initial'), value='None')"
      ]
     },
     "metadata": {},
     "output_type": "display_data"
    },
    {
     "data": {
      "application/vnd.jupyter.widget-view+json": {
       "model_id": "abeedaeb3f61461abc83f1f66611d41a",
       "version_major": 2,
       "version_minor": 0
      },
      "text/html": [
       "<p>Failed to display Jupyter Widget of type <code>RadioButtons</code>.</p>\n",
       "<p>\n",
       "  If you're reading this message in the Jupyter Notebook or JupyterLab Notebook, it may mean\n",
       "  that the widgets JavaScript is still loading. If this message persists, it\n",
       "  likely means that the widgets JavaScript library is either not installed or\n",
       "  not enabled. See the <a href=\"https://ipywidgets.readthedocs.io/en/stable/user_install.html\">Jupyter\n",
       "  Widgets Documentation</a> for setup instructions.\n",
       "</p>\n",
       "<p>\n",
       "  If you're reading this message in another frontend (for example, a static\n",
       "  rendering on GitHub or <a href=\"https://nbviewer.jupyter.org/\">NBViewer</a>),\n",
       "  it may mean that your frontend doesn't currently support widgets.\n",
       "</p>\n"
      ],
      "text/plain": [
       "RadioButtons(description=u\"2'-\", options=('OH', 'Methyl', 'Fluoro'), value='OH')"
      ]
     },
     "metadata": {},
     "output_type": "display_data"
    },
    {
     "data": {
      "application/vnd.jupyter.widget-view+json": {
       "model_id": "1c1248031add4798a82d43314d5df3f9",
       "version_major": 2,
       "version_minor": 0
      },
      "text/html": [
       "<p>Failed to display Jupyter Widget of type <code>Checkbox</code>.</p>\n",
       "<p>\n",
       "  If you're reading this message in the Jupyter Notebook or JupyterLab Notebook, it may mean\n",
       "  that the widgets JavaScript is still loading. If this message persists, it\n",
       "  likely means that the widgets JavaScript library is either not installed or\n",
       "  not enabled. See the <a href=\"https://ipywidgets.readthedocs.io/en/stable/user_install.html\">Jupyter\n",
       "  Widgets Documentation</a> for setup instructions.\n",
       "</p>\n",
       "<p>\n",
       "  If you're reading this message in another frontend (for example, a static\n",
       "  rendering on GitHub or <a href=\"https://nbviewer.jupyter.org/\">NBViewer</a>),\n",
       "  it may mean that your frontend doesn't currently support widgets.\n",
       "</p>\n"
      ],
      "text/plain": [
       "Checkbox(value=False, description=u'Thiophosphorylated')"
      ]
     },
     "metadata": {},
     "output_type": "display_data"
    }
   ],
   "source": [
    "#Further modifications:\n",
    "#while True - keep entering #string field for positions\n",
    "print('If you would like to REPLACE something, enter a position at which you like to replace stuff.')\n",
    "print('Also please be aware that replacing bases within 3\\'- and 5\\'- standard methylated ends DOES change existing methylated modifications.')\n",
    "pos_r = widgets.IntText(value=0, description='Insert at position:', disabled=False, style=style)\n",
    "base_r = widgets.Select(options=['None', 'A', 'C', 'G', 'U', 'X'], value='None', description='Base to insert:', disabled=False, style=style)\n",
    "twoprime_r = widgets.RadioButtons(options=['OH', 'Methyl', 'Fluoro'], value='OH', description='2\\'-', disabled=False)\n",
    "thio_r = widgets.Checkbox(value=False, description='Thiophosphorylated', disabled=False)\n",
    "display(pos_r)\n",
    "display(base_r)\n",
    "display(twoprime_r)\n",
    "display(thio_r)"
   ]
  },
  {
   "cell_type": "code",
   "execution_count": 71,
   "metadata": {},
   "outputs": [
    {
     "name": "stdout",
     "output_type": "stream",
     "text": [
      "-Cms-Ums-Gms-Uro-Gro-Aro-Gro-Aro-Gfo-Aro-Uro-Cro-Aro-Cro-Aro-Gro-Aro-Uro-Gro-Cro-Cro-Uro-Gro-Cro-Uro-Cro-Aro-Gro-Uro-Gro-Uro-Uro-Gro-Gro-Uro-Uro-Uro-Uro-Aro-Gro-Aro-Gro-Cro-Uro-Aro-Gro-Aro-Aro-Aro-Uro-Aro-Gro-Cro-Aro-Aro-Gro-Uro-Uro-Aro-Aro-Aro-Aro-Uro-Aro-Aro-Gro-Gro-Cro-Uro-Aro-Gro-Uro-Cro-Cro-Gro-Uro-Uro-Aro-Uro-Cro-Aro-Aro-Cro-Uro-Uro-Gro-Aro-Aro-Aro-Aro-Aro-Gro-Uro-Gro-Gro-Cro-Aro-Cro-Cro-Gro-Aro-Gro-Uro-Cro-Gro-Gro-Uro-Gro-Cro-Uro-Ums-Ums-Um\n",
      "451\n"
     ]
    }
   ],
   "source": [
    "tls = single_replacement(tls, pos_r.value, base_r.value, twoprime_r.value, thio_r.value)\n",
    "print(tls)\n",
    "print(len(tls))"
   ]
  },
  {
   "cell_type": "markdown",
   "metadata": {},
   "source": [
    "# You already did that manually? Double check it!"
   ]
  },
  {
   "cell_type": "code",
   "execution_count": 20,
   "metadata": {},
   "outputs": [
    {
     "name": "stdout",
     "output_type": "stream",
     "text": [
      "Your manual result: \n"
     ]
    },
    {
     "data": {
      "application/vnd.jupyter.widget-view+json": {
       "model_id": "d241b424899c49feb55c07d7da7980c7",
       "version_major": 2,
       "version_minor": 0
      },
      "text/html": [
       "<p>Failed to display Jupyter Widget of type <code>Text</code>.</p>\n",
       "<p>\n",
       "  If you're reading this message in the Jupyter Notebook or JupyterLab Notebook, it may mean\n",
       "  that the widgets JavaScript is still loading. If this message persists, it\n",
       "  likely means that the widgets JavaScript library is either not installed or\n",
       "  not enabled. See the <a href=\"https://ipywidgets.readthedocs.io/en/stable/user_install.html\">Jupyter\n",
       "  Widgets Documentation</a> for setup instructions.\n",
       "</p>\n",
       "<p>\n",
       "  If you're reading this message in another frontend (for example, a static\n",
       "  rendering on GitHub or <a href=\"https://nbviewer.jupyter.org/\">NBViewer</a>),\n",
       "  it may mean that your frontend doesn't currently support widgets.\n",
       "</p>\n"
      ],
      "text/plain": [
       "Text(value=u'', description=u'Sequence', placeholder=u'Enter your RNA sequence')"
      ]
     },
     "metadata": {},
     "output_type": "display_data"
    }
   ],
   "source": [
    "print('Your manual result: ')\n",
    "manual = widgets.Text(value='', placeholder='Enter your RNA sequence', description='Sequence', disabled=False)\n",
    "display(manual)"
   ]
  },
  {
   "cell_type": "code",
   "execution_count": 37,
   "metadata": {},
   "outputs": [
    {
     "name": "stdout",
     "output_type": "stream",
     "text": [
      "False\n",
      "451\n",
      "451\n"
     ]
    }
   ],
   "source": [
    "print(tls == manual.value)\n",
    "print(len(tls))\n",
    "print(len(manual.value))"
   ]
  },
  {
   "cell_type": "code",
   "execution_count": null,
   "metadata": {},
   "outputs": [],
   "source": []
  }
 ],
 "metadata": {
  "kernelspec": {
   "display_name": "Python 2",
   "language": "python",
   "name": "python2"
  },
  "language_info": {
   "codemirror_mode": {
    "name": "ipython",
    "version": 2
   },
   "file_extension": ".py",
   "mimetype": "text/x-python",
   "name": "python",
   "nbconvert_exporter": "python",
   "pygments_lexer": "ipython2",
   "version": "2.7.12"
  },
  "widgets": {
   "application/vnd.jupyter.widget-state+json": {
    "state": {
     "003c28953dfc4bd09aab76988ea4326f": {
      "model_module": "@jupyter-widgets/base",
      "model_module_version": "1.0.0",
      "model_name": "LayoutModel",
      "state": {}
     },
     "00552c7b59f04fca99e51cd8ded67caa": {
      "model_module": "@jupyter-widgets/base",
      "model_module_version": "1.0.0",
      "model_name": "LayoutModel",
      "state": {}
     },
     "0061045ed35844878def7ba87f2668c4": {
      "model_module": "@jupyter-widgets/controls",
      "model_module_version": "1.1.0",
      "model_name": "DescriptionStyleModel",
      "state": {
       "description_width": ""
      }
     },
     "00abc2f16324451ba8cd2056efefa024": {
      "model_module": "@jupyter-widgets/base",
      "model_module_version": "1.0.0",
      "model_name": "LayoutModel",
      "state": {}
     },
     "00f139e9d9ed4aefae48be022e8c9064": {
      "model_module": "@jupyter-widgets/controls",
      "model_module_version": "1.1.0",
      "model_name": "IntTextModel",
      "state": {
       "description": "Any:",
       "layout": "IPY_MODEL_44e9f65d741c4fddb9b3b9178aa71486",
       "step": 1,
       "style": "IPY_MODEL_09c7b8cc57314ccc85eec5c1dcba917a",
       "value": 9
      }
     },
     "01543a3157294abe9289a52901089665": {
      "model_module": "@jupyter-widgets/controls",
      "model_module_version": "1.1.0",
      "model_name": "DescriptionStyleModel",
      "state": {
       "description_width": ""
      }
     },
     "01cad7b8dbec4a3d9e5a234029d97b88": {
      "model_module": "@jupyter-widgets/controls",
      "model_module_version": "1.1.0",
      "model_name": "DescriptionStyleModel",
      "state": {
       "description_width": ""
      }
     },
     "0273bd1e87104cb8ad9836c700a6a30b": {
      "model_module": "@jupyter-widgets/controls",
      "model_module_version": "1.1.0",
      "model_name": "IntTextModel",
      "state": {
       "description": "Insert after position:",
       "layout": "IPY_MODEL_6363bad3ea1548a7ad22d9a080ddab05",
       "step": 1,
       "style": "IPY_MODEL_0e9f16eff71b49f39dfd188362cbb787",
       "value": 21
      }
     },
     "02e28257317a41cbae4daa14c14d729c": {
      "model_module": "@jupyter-widgets/controls",
      "model_module_version": "1.1.0",
      "model_name": "DescriptionStyleModel",
      "state": {
       "description_width": ""
      }
     },
     "0342801395ca417889109db2f58a9f4e": {
      "model_module": "@jupyter-widgets/base",
      "model_module_version": "1.0.0",
      "model_name": "LayoutModel",
      "state": {}
     },
     "035dd6cf98334bb39af1f3d3c9ef09f6": {
      "model_module": "@jupyter-widgets/controls",
      "model_module_version": "1.1.0",
      "model_name": "SelectModel",
      "state": {
       "_options_labels": [
        "None",
        "A",
        "C",
        "G",
        "U",
        "X"
       ],
       "description": "Base to insert:",
       "index": 0,
       "layout": "IPY_MODEL_d70087f677b04e898c978a2c3668c616",
       "style": "IPY_MODEL_e0ef5b1bfc3245049505c3f1da0d87ea"
      }
     },
     "0370b4156da04cf1b3a6fe5bfb8edd5c": {
      "model_module": "@jupyter-widgets/controls",
      "model_module_version": "1.1.0",
      "model_name": "DescriptionStyleModel",
      "state": {
       "description_width": "initial"
      }
     },
     "03b39ad7501c4b2889afff76810c72d8": {
      "model_module": "@jupyter-widgets/controls",
      "model_module_version": "1.1.0",
      "model_name": "DescriptionStyleModel",
      "state": {
       "description_width": "initial"
      }
     },
     "03d224f0799d4ff6b5138d617bd44963": {
      "model_module": "@jupyter-widgets/base",
      "model_module_version": "1.0.0",
      "model_name": "LayoutModel",
      "state": {}
     },
     "03d79e6c6fa54de782d253831a24d6e8": {
      "model_module": "@jupyter-widgets/controls",
      "model_module_version": "1.1.0",
      "model_name": "RadioButtonsModel",
      "state": {
       "_options_labels": [
        "OH",
        "Methyl",
        "Fluoro"
       ],
       "description": "2'-",
       "index": 2,
       "layout": "IPY_MODEL_d816275ff0a84441832f2e3f7750f012",
       "style": "IPY_MODEL_e950852c12b34c2ab0dd7b2a9a85c90d"
      }
     },
     "04038ceffcdd4e0cb5d11185c3b5f816": {
      "model_module": "@jupyter-widgets/controls",
      "model_module_version": "1.1.0",
      "model_name": "IntTextModel",
      "state": {
       "description": "and before position:",
       "layout": "IPY_MODEL_6dcc60e16bcf4db5951747113c2025e1",
       "step": 1,
       "style": "IPY_MODEL_a907dd59196c41ddaa7a8dc6e46ebfde",
       "value": 5
      }
     },
     "047a98456c3647728438b60ac13ec353": {
      "model_module": "@jupyter-widgets/controls",
      "model_module_version": "1.1.0",
      "model_name": "TextModel",
      "state": {
       "description": "Sequence",
       "layout": "IPY_MODEL_7cf5ef326e0a4473976855b24cb2b142",
       "placeholder": "Enter your RNA sequence",
       "style": "IPY_MODEL_0612f19f3d1d44d7a56d8dea71954e87",
       "value": "-Gms-Ams-Ams-Aro-Gfo-Gro-Cro-Uro-Gro-Cro-Aro-Gro-Aro-Aro-Gro-Gro-Gro-Aro-Uro-Uro-Cro-Cro-Aro-Uro-Gro-Gro-Uro-Uro-Uro-Uro-Aro-Gro-Aro-Gro-Cro-Uro-Aro-Gro-Aro-Aro-Aro-Uro-Aro-Gro-Cro-Aro-Aro-Gro-Uro-Uro-Aro-Aro-Aro-Aro-Uro-Aro-Aro-Gro-Gro-Cro-Uro-Aro-Gro-Uro-Cro-Cro-Gro-Uro-Uro-Aro-Uro-Cro-Aro-Aro-Cro-Uro-Uro-Gro-Aro-Aro-Aro-Aro-Aro-Gro-Uro-Gro-Gro-Cro-Aro-Cro-Cro-Gro-Aro-Gro-Uro-Cro-Gro-Gro-Uro-Gro-Cro-Uro-Ums-Ums-Um"
      }
     },
     "04fd4cc3cb894ea29c888b22871a59a7": {
      "model_module": "@jupyter-widgets/base",
      "model_module_version": "1.0.0",
      "model_name": "LayoutModel",
      "state": {}
     },
     "0612f19f3d1d44d7a56d8dea71954e87": {
      "model_module": "@jupyter-widgets/controls",
      "model_module_version": "1.1.0",
      "model_name": "DescriptionStyleModel",
      "state": {
       "description_width": ""
      }
     },
     "062872d0a6ee4528b553e64d533f5668": {
      "model_module": "@jupyter-widgets/controls",
      "model_module_version": "1.1.0",
      "model_name": "IntTextModel",
      "state": {
       "description": "Thiophosphates & MeO at the 3'-end",
       "layout": "IPY_MODEL_a14be892ff6c4b338922257ae9475f45",
       "step": 1,
       "style": "IPY_MODEL_fc3367d91d2042ffbc531608b9687026",
       "value": 3
      }
     },
     "06d3c60d000d4465bfc614cde2f586e0": {
      "model_module": "@jupyter-widgets/controls",
      "model_module_version": "1.1.0",
      "model_name": "IntTextModel",
      "state": {
       "description": "and before position:",
       "layout": "IPY_MODEL_44b29006911f4e408c23b2eee0109ba0",
       "step": 1,
       "style": "IPY_MODEL_90b995b612a84cd795f9ad7922b17adb",
       "value": 2
      }
     },
     "079b6380a3de4b05905d3104de362b47": {
      "model_module": "@jupyter-widgets/controls",
      "model_module_version": "1.1.0",
      "model_name": "CheckboxModel",
      "state": {
       "description": "Thiophosphorylated",
       "disabled": false,
       "layout": "IPY_MODEL_85ac9159008841c480515ed47a5aab31",
       "style": "IPY_MODEL_1aab5f620b6f4bdeb22792e9a6ca6d35",
       "value": false
      }
     },
     "080aaac0f7eb43e59e37f5508d62fa66": {
      "model_module": "@jupyter-widgets/controls",
      "model_module_version": "1.1.0",
      "model_name": "DescriptionStyleModel",
      "state": {
       "description_width": ""
      }
     },
     "089bdcf46cb8469dbfd5f8e4b8ba4bbb": {
      "model_module": "@jupyter-widgets/base",
      "model_module_version": "1.0.0",
      "model_name": "LayoutModel",
      "state": {}
     },
     "09268e53bf804590ba821147bb2c6360": {
      "model_module": "@jupyter-widgets/base",
      "model_module_version": "1.0.0",
      "model_name": "LayoutModel",
      "state": {}
     },
     "092eecc06fe84771a19803816d0ea3ce": {
      "model_module": "@jupyter-widgets/base",
      "model_module_version": "1.0.0",
      "model_name": "LayoutModel",
      "state": {}
     },
     "0931a16704c0464aa2f0e49610a4c668": {
      "model_module": "@jupyter-widgets/controls",
      "model_module_version": "1.1.0",
      "model_name": "IntTextModel",
      "state": {
       "description": "Thiophosphates & OMe at the 3'-end",
       "layout": "IPY_MODEL_e47c8754f2b0452499308e3789e00eff",
       "step": 1,
       "style": "IPY_MODEL_ed317e5a2ef8467c8cd924431a85f357",
       "value": 3
      }
     },
     "09568e6641624dc6979ab75f94cf73cc": {
      "model_module": "@jupyter-widgets/controls",
      "model_module_version": "1.1.0",
      "model_name": "IntTextModel",
      "state": {
       "description": "Number of thiophosphates at the 5'-end",
       "layout": "IPY_MODEL_8f5c59a7462a4cffa1ea47cf7f5ffdeb",
       "step": 1,
       "style": "IPY_MODEL_52d22b97062e464b8161d2df10069645",
       "value": 3
      }
     },
     "099184ef257c42bbb231e17b4561d3e2": {
      "model_module": "@jupyter-widgets/controls",
      "model_module_version": "1.1.0",
      "model_name": "IntTextModel",
      "state": {
       "description": "and before position:",
       "layout": "IPY_MODEL_72b5fe1448eb4497ad4a145117533abe",
       "step": 1,
       "style": "IPY_MODEL_24422d02cea94450b5af664654646a1d"
      }
     },
     "09c7b8cc57314ccc85eec5c1dcba917a": {
      "model_module": "@jupyter-widgets/controls",
      "model_module_version": "1.1.0",
      "model_name": "DescriptionStyleModel",
      "state": {
       "description_width": ""
      }
     },
     "0a208c4e16994c84b804fdb65f76456d": {
      "model_module": "@jupyter-widgets/controls",
      "model_module_version": "1.1.0",
      "model_name": "SelectModel",
      "state": {
       "_options_labels": [
        "None",
        "A",
        "C",
        "G",
        "U",
        "X"
       ],
       "description": "Base to insert:",
       "index": 3,
       "layout": "IPY_MODEL_cd5c14e37e3f465bae514bb6daa119eb",
       "style": "IPY_MODEL_c425ccbb6fd14a55810951db9421d986"
      }
     },
     "0ae44b3e20ee42509077b855f6009a28": {
      "model_module": "@jupyter-widgets/controls",
      "model_module_version": "1.1.0",
      "model_name": "DescriptionStyleModel",
      "state": {
       "description_width": ""
      }
     },
     "0b6172a6ae314af3bc2be99b42a96088": {
      "model_module": "@jupyter-widgets/controls",
      "model_module_version": "1.1.0",
      "model_name": "DescriptionStyleModel",
      "state": {
       "description_width": ""
      }
     },
     "0b7bbaa55355423d84469f53d4cc5473": {
      "model_module": "@jupyter-widgets/base",
      "model_module_version": "1.0.0",
      "model_name": "LayoutModel",
      "state": {}
     },
     "0c67d1c2ec504220a75945e4562784a6": {
      "model_module": "@jupyter-widgets/controls",
      "model_module_version": "1.1.0",
      "model_name": "DescriptionStyleModel",
      "state": {
       "description_width": ""
      }
     },
     "0c6f074b8e7e4b6daba10adeb2505462": {
      "model_module": "@jupyter-widgets/base",
      "model_module_version": "1.0.0",
      "model_name": "LayoutModel",
      "state": {}
     },
     "0c7080e9f8914566a1cabce571a458c5": {
      "model_module": "@jupyter-widgets/controls",
      "model_module_version": "1.1.0",
      "model_name": "IntTextModel",
      "state": {
       "description": "Thiophosphates & OMe at the 5'-end",
       "layout": "IPY_MODEL_bf4fa7d354ff4b0ca652502cd1958111",
       "step": 1,
       "style": "IPY_MODEL_1c8e64dc7e1a4f6d97f3b61d36a2705e",
       "value": 3
      }
     },
     "0c919791e9bd45959353cd6958095c7a": {
      "model_module": "@jupyter-widgets/controls",
      "model_module_version": "1.1.0",
      "model_name": "IntTextModel",
      "state": {
       "description": "Any:",
       "layout": "IPY_MODEL_d23d77c4e65544ca8173c72ca291dade",
       "step": 1,
       "style": "IPY_MODEL_31714ba2a12e451db9a4f38891e230f6",
       "value": 7
      }
     },
     "0c93b454404e4a2bb413ebc05714b4b4": {
      "model_module": "@jupyter-widgets/controls",
      "model_module_version": "1.1.0",
      "model_name": "IntTextModel",
      "state": {
       "description": "Insert at position:",
       "layout": "IPY_MODEL_556cd0dbbe704320a9c3be7e7cc32acf",
       "step": 1,
       "style": "IPY_MODEL_6fb74d957eec41ddaabd22dd87b49c8b"
      }
     },
     "0c9e1817b1fa41f29ca02d03f10c2c53": {
      "model_module": "@jupyter-widgets/base",
      "model_module_version": "1.0.0",
      "model_name": "LayoutModel",
      "state": {}
     },
     "0e9f16eff71b49f39dfd188362cbb787": {
      "model_module": "@jupyter-widgets/controls",
      "model_module_version": "1.1.0",
      "model_name": "DescriptionStyleModel",
      "state": {
       "description_width": "initial"
      }
     },
     "0efed0229a23403fbede734d55adffda": {
      "model_module": "@jupyter-widgets/controls",
      "model_module_version": "1.1.0",
      "model_name": "DescriptionStyleModel",
      "state": {
       "description_width": ""
      }
     },
     "0f0639eaff044935a8560f8921f16364": {
      "model_module": "@jupyter-widgets/base",
      "model_module_version": "1.0.0",
      "model_name": "LayoutModel",
      "state": {}
     },
     "0f223f25339c44079a451ac97e4ecfd0": {
      "model_module": "@jupyter-widgets/base",
      "model_module_version": "1.0.0",
      "model_name": "LayoutModel",
      "state": {}
     },
     "0f2d4a8197224eddbd71cc138c772bec": {
      "model_module": "@jupyter-widgets/controls",
      "model_module_version": "1.1.0",
      "model_name": "IntTextModel",
      "state": {
       "description": "Thiophosphates & OMe at the 5'-end",
       "layout": "IPY_MODEL_98265c748d8f481c8a8b7a7219cd19ad",
       "step": 1,
       "style": "IPY_MODEL_7130ca3941d24de6aab2d39d432507d4",
       "value": 3
      }
     },
     "0f8f56192acc42aaa38539945045cb1f": {
      "model_module": "@jupyter-widgets/base",
      "model_module_version": "1.0.0",
      "model_name": "LayoutModel",
      "state": {}
     },
     "10179b68ead84b4da1ebc3667ac51d93": {
      "model_module": "@jupyter-widgets/controls",
      "model_module_version": "1.1.0",
      "model_name": "DescriptionStyleModel",
      "state": {
       "description_width": ""
      }
     },
     "103684c2eb8942bc9b2d9930524134da": {
      "model_module": "@jupyter-widgets/controls",
      "model_module_version": "1.1.0",
      "model_name": "DescriptionStyleModel",
      "state": {
       "description_width": "initial"
      }
     },
     "104ed1e184bf4c039b9a356c44787246": {
      "model_module": "@jupyter-widgets/controls",
      "model_module_version": "1.1.0",
      "model_name": "DescriptionStyleModel",
      "state": {
       "description_width": "initial"
      }
     },
     "10c4409cf3194ae1907b3a0fc89ab948": {
      "model_module": "@jupyter-widgets/controls",
      "model_module_version": "1.1.0",
      "model_name": "RadioButtonsModel",
      "state": {
       "_options_labels": [
        "OH",
        "Methyl",
        "Fluoro"
       ],
       "description": "2'-",
       "index": 2,
       "layout": "IPY_MODEL_a7ee73d4737446fd92d74e2438a9f831",
       "style": "IPY_MODEL_a5ee257bf9c348428cd6404311ee690a"
      }
     },
     "10e1b84ad3d94a2894e294df0eb783b2": {
      "model_module": "@jupyter-widgets/controls",
      "model_module_version": "1.1.0",
      "model_name": "IntTextModel",
      "state": {
       "description": "Thiophosphates & OMe at the 3'-end",
       "layout": "IPY_MODEL_4bc68008da2f4c4cbc79448c4bc8f364",
       "step": 1,
       "style": "IPY_MODEL_74de7b85f56c4b8db82a8a08249109ca"
      }
     },
     "110a05657db14c98b34f5a7c58bbcf5b": {
      "model_module": "@jupyter-widgets/controls",
      "model_module_version": "1.1.0",
      "model_name": "CheckboxModel",
      "state": {
       "description": "Thiophosphorylated",
       "disabled": false,
       "layout": "IPY_MODEL_7447e862c4ad4587a57aed7f7dffb03c",
       "style": "IPY_MODEL_ced32c972128485e86e5c2e3ebc216e0",
       "value": true
      }
     },
     "114a67a401234337bf87c3ba62e51763": {
      "model_module": "@jupyter-widgets/base",
      "model_module_version": "1.0.0",
      "model_name": "LayoutModel",
      "state": {}
     },
     "11632b45416e44529b01910337b132a6": {
      "model_module": "@jupyter-widgets/controls",
      "model_module_version": "1.1.0",
      "model_name": "DescriptionStyleModel",
      "state": {
       "description_width": ""
      }
     },
     "1174b4c248904334a3345cbac8ee1ba1": {
      "model_module": "@jupyter-widgets/controls",
      "model_module_version": "1.1.0",
      "model_name": "DescriptionStyleModel",
      "state": {
       "description_width": ""
      }
     },
     "12481cbc5f654922b4e6b11179cf4576": {
      "model_module": "@jupyter-widgets/base",
      "model_module_version": "1.0.0",
      "model_name": "LayoutModel",
      "state": {}
     },
     "128569ef7f944e13b9af6fbcacd1f83c": {
      "model_module": "@jupyter-widgets/controls",
      "model_module_version": "1.1.0",
      "model_name": "SelectModel",
      "state": {
       "_options_labels": [
        "None",
        "A",
        "C",
        "G",
        "U",
        "X"
       ],
       "description": "Base to insert:",
       "index": 2,
       "layout": "IPY_MODEL_22b61e939ffc4f30af663acbe3e6cbff",
       "style": "IPY_MODEL_4feb2d3118694786b30cf10cd67c2893"
      }
     },
     "1290411bc10b4a33a90da817c1fb1890": {
      "model_module": "@jupyter-widgets/base",
      "model_module_version": "1.0.0",
      "model_name": "LayoutModel",
      "state": {}
     },
     "13409ea0f26844fca7eb42d3d430ea75": {
      "model_module": "@jupyter-widgets/controls",
      "model_module_version": "1.1.0",
      "model_name": "IntTextModel",
      "state": {
       "description": "Thiophosphates & OMe at the 5'-end",
       "layout": "IPY_MODEL_04fd4cc3cb894ea29c888b22871a59a7",
       "step": 1,
       "style": "IPY_MODEL_c3874f10ae8d4c89b662f07e143403e7",
       "value": 3
      }
     },
     "13516173ac604f5f9a36139b7356bbed": {
      "model_module": "@jupyter-widgets/controls",
      "model_module_version": "1.1.0",
      "model_name": "DescriptionStyleModel",
      "state": {
       "description_width": "initial"
      }
     },
     "135f0797cc6b4f54b3e3eca2e26e924c": {
      "model_module": "@jupyter-widgets/controls",
      "model_module_version": "1.1.0",
      "model_name": "DescriptionStyleModel",
      "state": {
       "description_width": "initial"
      }
     },
     "13d3c4dbd5b3401aa35121bc1d9afa28": {
      "model_module": "@jupyter-widgets/controls",
      "model_module_version": "1.1.0",
      "model_name": "DescriptionStyleModel",
      "state": {
       "description_width": "initial"
      }
     },
     "13fd5d192f7b4c73a1e982a1fc480789": {
      "model_module": "@jupyter-widgets/base",
      "model_module_version": "1.0.0",
      "model_name": "LayoutModel",
      "state": {}
     },
     "14c67d38f4f34caf9b5b5ebb7431da4a": {
      "model_module": "@jupyter-widgets/controls",
      "model_module_version": "1.1.0",
      "model_name": "DescriptionStyleModel",
      "state": {
       "description_width": ""
      }
     },
     "151d4e1d374e46938575a162a854c07d": {
      "model_module": "@jupyter-widgets/base",
      "model_module_version": "1.0.0",
      "model_name": "LayoutModel",
      "state": {}
     },
     "1521fb2e6771469f86dae91f9dc7273e": {
      "model_module": "@jupyter-widgets/controls",
      "model_module_version": "1.1.0",
      "model_name": "SelectModel",
      "state": {
       "_options_labels": [
        "",
        "A",
        "C",
        "G",
        "U",
        "X"
       ],
       "description": "Base to insert:",
       "index": 5,
       "layout": "IPY_MODEL_83fbe62a3af14bb29b8a5c57dfef3bcf",
       "style": "IPY_MODEL_45ed6c786df643abafd5ffaa6f8218ea"
      }
     },
     "155b91a2d0804677955038e12c060d95": {
      "model_module": "@jupyter-widgets/base",
      "model_module_version": "1.0.0",
      "model_name": "LayoutModel",
      "state": {}
     },
     "159a553c020c46f09d5088ea45c92bfb": {
      "model_module": "@jupyter-widgets/controls",
      "model_module_version": "1.1.0",
      "model_name": "IntTextModel",
      "state": {
       "description": "Thiophosphates at the 3'-end",
       "layout": "IPY_MODEL_114a67a401234337bf87c3ba62e51763",
       "step": 1,
       "style": "IPY_MODEL_da090c63afae4e5e80b5d20fa643bc5b",
       "value": 3
      }
     },
     "159e67fa9692480f9529327fd5693920": {
      "model_module": "@jupyter-widgets/controls",
      "model_module_version": "1.1.0",
      "model_name": "DescriptionStyleModel",
      "state": {
       "description_width": "initial"
      }
     },
     "15a9be45ce784562a7e72cf3fd1d66eb": {
      "model_module": "@jupyter-widgets/controls",
      "model_module_version": "1.1.0",
      "model_name": "IntTextModel",
      "state": {
       "description": "Number of thiophosphates at the 5'-end",
       "layout": "IPY_MODEL_77f18f0f313f486cb1efeeb13e16419d",
       "step": 1,
       "style": "IPY_MODEL_02e28257317a41cbae4daa14c14d729c",
       "value": 3
      }
     },
     "164027c3d37240d7980db15ec53fed4e": {
      "model_module": "@jupyter-widgets/controls",
      "model_module_version": "1.1.0",
      "model_name": "IntTextModel",
      "state": {
       "description": "Insert after position:",
       "layout": "IPY_MODEL_ab21d8f706cf402a8b696c6d208eccae",
       "step": 1,
       "style": "IPY_MODEL_13516173ac604f5f9a36139b7356bbed"
      }
     },
     "1677c6cf64d145a5a7f05fb7d4a4f5c0": {
      "model_module": "@jupyter-widgets/controls",
      "model_module_version": "1.1.0",
      "model_name": "DescriptionStyleModel",
      "state": {
       "description_width": ""
      }
     },
     "17500b05d5854ef3b2f8401e3e65dc53": {
      "model_module": "@jupyter-widgets/controls",
      "model_module_version": "1.1.0",
      "model_name": "CheckboxModel",
      "state": {
       "description": "Thiophosphorylated",
       "disabled": false,
       "layout": "IPY_MODEL_1290411bc10b4a33a90da817c1fb1890",
       "style": "IPY_MODEL_be28f845caf640c18d329531a0017ae2",
       "value": true
      }
     },
     "17a61c56f91045bab41c12421d912e4f": {
      "model_module": "@jupyter-widgets/base",
      "model_module_version": "1.0.0",
      "model_name": "LayoutModel",
      "state": {}
     },
     "18586247a2164645bad8e71f6392f342": {
      "model_module": "@jupyter-widgets/base",
      "model_module_version": "1.0.0",
      "model_name": "LayoutModel",
      "state": {}
     },
     "188e767eabb14b68a514809c43189c78": {
      "model_module": "@jupyter-widgets/controls",
      "model_module_version": "1.1.0",
      "model_name": "DescriptionStyleModel",
      "state": {
       "description_width": "initial"
      }
     },
     "18dcd53b3299445bb9f56fef8e61ebd2": {
      "model_module": "@jupyter-widgets/controls",
      "model_module_version": "1.1.0",
      "model_name": "RadioButtonsModel",
      "state": {
       "_options_labels": [
        "OH",
        "Methyl",
        "Fluoro"
       ],
       "description": "2'-",
       "index": 2,
       "layout": "IPY_MODEL_9a1aa17129244e54ae34e2f2d605ea42",
       "style": "IPY_MODEL_8b8441226c1a41b7a90cacce59a70710"
      }
     },
     "1904c7d9c822454780170327f11c90a8": {
      "model_module": "@jupyter-widgets/controls",
      "model_module_version": "1.1.0",
      "model_name": "DescriptionStyleModel",
      "state": {
       "description_width": "initial"
      }
     },
     "19a9265516cb4aeb981f34de382f365e": {
      "model_module": "@jupyter-widgets/base",
      "model_module_version": "1.0.0",
      "model_name": "LayoutModel",
      "state": {}
     },
     "19bcb855ebdf45b78e42a976f2fd54cd": {
      "model_module": "@jupyter-widgets/base",
      "model_module_version": "1.0.0",
      "model_name": "LayoutModel",
      "state": {}
     },
     "19d70b7154e84ca0b86ad068070e9918": {
      "model_module": "@jupyter-widgets/controls",
      "model_module_version": "1.1.0",
      "model_name": "IntTextModel",
      "state": {
       "description": "Thiophosphates & OMe at the 3'-end",
       "layout": "IPY_MODEL_4dd034105a034a74935e45976a661652",
       "step": 1,
       "style": "IPY_MODEL_104ed1e184bf4c039b9a356c44787246"
      }
     },
     "1aab5f620b6f4bdeb22792e9a6ca6d35": {
      "model_module": "@jupyter-widgets/controls",
      "model_module_version": "1.1.0",
      "model_name": "DescriptionStyleModel",
      "state": {
       "description_width": ""
      }
     },
     "1b1c670d5c5b4dc08e33343cfc1849be": {
      "model_module": "@jupyter-widgets/controls",
      "model_module_version": "1.1.0",
      "model_name": "CheckboxModel",
      "state": {
       "description": "Thiophosphorylated",
       "disabled": false,
       "layout": "IPY_MODEL_efcad16b289e4073bf73c5207f2ea9f5",
       "style": "IPY_MODEL_24a936fe4da6478c88616eccc55c4de7",
       "value": false
      }
     },
     "1b65682c5b3e451ea3d1ca611460e823": {
      "model_module": "@jupyter-widgets/controls",
      "model_module_version": "1.1.0",
      "model_name": "SelectModel",
      "state": {
       "_options_labels": [
        "",
        "A",
        "C",
        "G",
        "U",
        "X"
       ],
       "description": "Base to insert:",
       "index": 4,
       "layout": "IPY_MODEL_3764f08011134c588c42e996b4e9b4b3",
       "style": "IPY_MODEL_3f1cef937b284ffebfc78968f2dc27c0"
      }
     },
     "1c55c6b3f261481b8b6e0762ae4477cd": {
      "model_module": "@jupyter-widgets/controls",
      "model_module_version": "1.1.0",
      "model_name": "IntTextModel",
      "state": {
       "description": "Insert after position:",
       "layout": "IPY_MODEL_003c28953dfc4bd09aab76988ea4326f",
       "step": 1,
       "style": "IPY_MODEL_df359ee2b6984f67b17201b2164fef2d",
       "value": 12
      }
     },
     "1c8e64dc7e1a4f6d97f3b61d36a2705e": {
      "model_module": "@jupyter-widgets/controls",
      "model_module_version": "1.1.0",
      "model_name": "DescriptionStyleModel",
      "state": {
       "description_width": "initial"
      }
     },
     "1cbe1384dda5453d93425ad58877e934": {
      "model_module": "@jupyter-widgets/controls",
      "model_module_version": "1.1.0",
      "model_name": "DescriptionStyleModel",
      "state": {
       "description_width": ""
      }
     },
     "1d41a60698264d6491d586dd8e04cc2e": {
      "model_module": "@jupyter-widgets/base",
      "model_module_version": "1.0.0",
      "model_name": "LayoutModel",
      "state": {}
     },
     "1d45529b468948ad86bb4a814b48c7b3": {
      "model_module": "@jupyter-widgets/controls",
      "model_module_version": "1.1.0",
      "model_name": "DescriptionStyleModel",
      "state": {
       "description_width": "initial"
      }
     },
     "1e67224bfcc84965a78594a951675546": {
      "model_module": "@jupyter-widgets/controls",
      "model_module_version": "1.1.0",
      "model_name": "CheckboxModel",
      "state": {
       "description": "Thiophosphorylated",
       "disabled": false,
       "layout": "IPY_MODEL_12481cbc5f654922b4e6b11179cf4576",
       "style": "IPY_MODEL_74ec04e213f64174a5dee286a7748d27",
       "value": true
      }
     },
     "1f6e86bc9a5945adac9b46106a6b03ff": {
      "model_module": "@jupyter-widgets/base",
      "model_module_version": "1.0.0",
      "model_name": "LayoutModel",
      "state": {}
     },
     "20712e491e7b40b2bea56462d6b0a27d": {
      "model_module": "@jupyter-widgets/controls",
      "model_module_version": "1.1.0",
      "model_name": "CheckboxModel",
      "state": {
       "description": "Thiophosphorylated",
       "disabled": false,
       "layout": "IPY_MODEL_4709a8f3bd374fa9935701684a789f89",
       "style": "IPY_MODEL_10179b68ead84b4da1ebc3667ac51d93",
       "value": false
      }
     },
     "20ec2b6e6e204d7ca88702ac60bf716d": {
      "model_module": "@jupyter-widgets/controls",
      "model_module_version": "1.1.0",
      "model_name": "DescriptionStyleModel",
      "state": {
       "description_width": ""
      }
     },
     "217db8281b3a47389478092d2dbb3040": {
      "model_module": "@jupyter-widgets/controls",
      "model_module_version": "1.1.0",
      "model_name": "DescriptionStyleModel",
      "state": {
       "description_width": "initial"
      }
     },
     "21c0fb49a56f465ba3ea3465e9cc1d26": {
      "model_module": "@jupyter-widgets/controls",
      "model_module_version": "1.1.0",
      "model_name": "DescriptionStyleModel",
      "state": {
       "description_width": ""
      }
     },
     "21d22b2c41f74079ac0a1a725901f812": {
      "model_module": "@jupyter-widgets/base",
      "model_module_version": "1.0.0",
      "model_name": "LayoutModel",
      "state": {}
     },
     "21e2a744981e4908b3154807294fa89d": {
      "model_module": "@jupyter-widgets/base",
      "model_module_version": "1.0.0",
      "model_name": "LayoutModel",
      "state": {}
     },
     "2214321844a1474f86d9c24713d16d10": {
      "model_module": "@jupyter-widgets/controls",
      "model_module_version": "1.1.0",
      "model_name": "DescriptionStyleModel",
      "state": {
       "description_width": "initial"
      }
     },
     "2250db762cfd48339584ca811765b6e8": {
      "model_module": "@jupyter-widgets/base",
      "model_module_version": "1.0.0",
      "model_name": "LayoutModel",
      "state": {}
     },
     "227e249e7a72423eaabb2ac1141c8a50": {
      "model_module": "@jupyter-widgets/controls",
      "model_module_version": "1.1.0",
      "model_name": "DescriptionStyleModel",
      "state": {
       "description_width": ""
      }
     },
     "22a476e5d3df46948f4836cb1d5ecb2f": {
      "model_module": "@jupyter-widgets/controls",
      "model_module_version": "1.1.0",
      "model_name": "DescriptionStyleModel",
      "state": {
       "description_width": "initial"
      }
     },
     "22b61e939ffc4f30af663acbe3e6cbff": {
      "model_module": "@jupyter-widgets/base",
      "model_module_version": "1.0.0",
      "model_name": "LayoutModel",
      "state": {}
     },
     "22c67781f1614737ab7a9a5c350305c5": {
      "model_module": "@jupyter-widgets/controls",
      "model_module_version": "1.1.0",
      "model_name": "DescriptionStyleModel",
      "state": {
       "description_width": ""
      }
     },
     "235da29d475c4c849804a27b9415c7e1": {
      "model_module": "@jupyter-widgets/controls",
      "model_module_version": "1.1.0",
      "model_name": "DescriptionStyleModel",
      "state": {
       "description_width": ""
      }
     },
     "2387a53420ed48a38ddc214f726c09ee": {
      "model_module": "@jupyter-widgets/controls",
      "model_module_version": "1.1.0",
      "model_name": "DescriptionStyleModel",
      "state": {
       "description_width": "initial"
      }
     },
     "23883b2085f94f8eb9cf718b1dece3bd": {
      "model_module": "@jupyter-widgets/controls",
      "model_module_version": "1.1.0",
      "model_name": "DescriptionStyleModel",
      "state": {
       "description_width": "initial"
      }
     },
     "23a55540c80942f38ed050b78d14010c": {
      "model_module": "@jupyter-widgets/base",
      "model_module_version": "1.0.0",
      "model_name": "LayoutModel",
      "state": {}
     },
     "241fa41702c743d2a890e520a85269ee": {
      "model_module": "@jupyter-widgets/controls",
      "model_module_version": "1.1.0",
      "model_name": "DescriptionStyleModel",
      "state": {
       "description_width": ""
      }
     },
     "24422d02cea94450b5af664654646a1d": {
      "model_module": "@jupyter-widgets/controls",
      "model_module_version": "1.1.0",
      "model_name": "DescriptionStyleModel",
      "state": {
       "description_width": "initial"
      }
     },
     "24a936fe4da6478c88616eccc55c4de7": {
      "model_module": "@jupyter-widgets/controls",
      "model_module_version": "1.1.0",
      "model_name": "DescriptionStyleModel",
      "state": {
       "description_width": ""
      }
     },
     "24bfe33c14a3426ea9fa559012f14cae": {
      "model_module": "@jupyter-widgets/base",
      "model_module_version": "1.0.0",
      "model_name": "LayoutModel",
      "state": {}
     },
     "250dcf9fcd7b474fb775cb6d1e571944": {
      "model_module": "@jupyter-widgets/base",
      "model_module_version": "1.0.0",
      "model_name": "LayoutModel",
      "state": {}
     },
     "254b3cfd069944af9e01b88f830d1c29": {
      "model_module": "@jupyter-widgets/base",
      "model_module_version": "1.0.0",
      "model_name": "LayoutModel",
      "state": {}
     },
     "2577e764f0ad449583ac7836bce710ba": {
      "model_module": "@jupyter-widgets/controls",
      "model_module_version": "1.1.0",
      "model_name": "CheckboxModel",
      "state": {
       "description": "Check me",
       "disabled": false,
       "layout": "IPY_MODEL_358527a2d5fd406988a51a39a6a77530",
       "style": "IPY_MODEL_01cad7b8dbec4a3d9e5a234029d97b88",
       "value": true
      }
     },
     "25a240ca331d42edb508d0d6da8c9e4c": {
      "model_module": "@jupyter-widgets/controls",
      "model_module_version": "1.1.0",
      "model_name": "CheckboxModel",
      "state": {
       "description": "Thiophosphorylated",
       "disabled": false,
       "layout": "IPY_MODEL_b12f867d3a6e445f8d2de80c7a5cce85",
       "style": "IPY_MODEL_f68c091c1a6d4879a535142059988898",
       "value": false
      }
     },
     "25c51571851b4b00a2e829e8b1721139": {
      "model_module": "@jupyter-widgets/base",
      "model_module_version": "1.0.0",
      "model_name": "LayoutModel",
      "state": {}
     },
     "2622f4b63ea14e16ac93f898bfc0166c": {
      "model_module": "@jupyter-widgets/controls",
      "model_module_version": "1.1.0",
      "model_name": "DescriptionStyleModel",
      "state": {
       "description_width": ""
      }
     },
     "263eb6eeff424220bf7d9b0ac06cadca": {
      "model_module": "@jupyter-widgets/controls",
      "model_module_version": "1.1.0",
      "model_name": "CheckboxModel",
      "state": {
       "description": "Thiophosphorylated",
       "disabled": false,
       "layout": "IPY_MODEL_385e48369a00453dae514525747c2c7b",
       "style": "IPY_MODEL_355599df7a9f4830a048ad6ef45b116e",
       "value": false
      }
     },
     "26995c9eb2a74fcda57f82ce666a3b59": {
      "model_module": "@jupyter-widgets/controls",
      "model_module_version": "1.1.0",
      "model_name": "TextModel",
      "state": {
       "description": "Sequence",
       "layout": "IPY_MODEL_69d8c1e6391f42f3a408121a04763c25",
       "placeholder": "Enter your RNA sequence",
       "style": "IPY_MODEL_bbc135e305d644619ee04bf213d3c39e",
       "value": "GAAAGCUGCAGAAGGGAUUCCAUGGUUUUAGAGCUAGAAAUAGCAAGUUAAAAUAAGGCUAGUCCGUUAUCAACUUGAAAAAGUGGCACCGAGUCGGUGCUUUU"
      }
     },
     "26c60fca92bc49fbb824079c839b73a9": {
      "model_module": "@jupyter-widgets/controls",
      "model_module_version": "1.1.0",
      "model_name": "DescriptionStyleModel",
      "state": {
       "description_width": "initial"
      }
     },
     "26cbb1ce2b064c39b82ba0ccbdfd598e": {
      "model_module": "@jupyter-widgets/base",
      "model_module_version": "1.0.0",
      "model_name": "LayoutModel",
      "state": {}
     },
     "270da30428094c97b289998b77c25641": {
      "model_module": "@jupyter-widgets/controls",
      "model_module_version": "1.1.0",
      "model_name": "IntTextModel",
      "state": {
       "description": "Thiophosphates & OMe at the 5'-end",
       "layout": "IPY_MODEL_d80a9ab608394028857e3326c8617976",
       "step": 1,
       "style": "IPY_MODEL_9762dd6adfbb4df0bd1d5beafed4059d",
       "value": -1
      }
     },
     "27497a1f494b4cb5bd13f09e1945fffc": {
      "model_module": "@jupyter-widgets/base",
      "model_module_version": "1.0.0",
      "model_name": "LayoutModel",
      "state": {}
     },
     "27efafb8e95e47c983f4284071712b76": {
      "model_module": "@jupyter-widgets/base",
      "model_module_version": "1.0.0",
      "model_name": "LayoutModel",
      "state": {}
     },
     "282d8d055fd74189a859625de806843a": {
      "model_module": "@jupyter-widgets/controls",
      "model_module_version": "1.1.0",
      "model_name": "IntTextModel",
      "state": {
       "description": "and before position:",
       "layout": "IPY_MODEL_6f9a649e2ffc49e4aed6c15daa6ce6ef",
       "step": 1,
       "style": "IPY_MODEL_d2dd8f510bd74202aa4d88e84c35044a"
      }
     },
     "29013312b9ac4843b55eb078420fdfa4": {
      "model_module": "@jupyter-widgets/controls",
      "model_module_version": "1.1.0",
      "model_name": "RadioButtonsModel",
      "state": {
       "_options_labels": [
        "OH",
        "Methyl",
        "Fluoro"
       ],
       "description": "2'-",
       "index": 2,
       "layout": "IPY_MODEL_f998261d68c044f18cc81e95ed378ede",
       "style": "IPY_MODEL_0efed0229a23403fbede734d55adffda"
      }
     },
     "294ab23d88b84752a5a1b145598eacd6": {
      "model_module": "@jupyter-widgets/base",
      "model_module_version": "1.0.0",
      "model_name": "LayoutModel",
      "state": {}
     },
     "2998fa9efc1848a188101ecdbedcbd74": {
      "model_module": "@jupyter-widgets/controls",
      "model_module_version": "1.1.0",
      "model_name": "DescriptionStyleModel",
      "state": {
       "description_width": "initial"
      }
     },
     "299e87100eeb4c9ca5885b9f763a06ca": {
      "model_module": "@jupyter-widgets/base",
      "model_module_version": "1.0.0",
      "model_name": "LayoutModel",
      "state": {}
     },
     "29d9e1e58ba44484816674ef18107043": {
      "model_module": "@jupyter-widgets/controls",
      "model_module_version": "1.1.0",
      "model_name": "SelectModel",
      "state": {
       "_options_labels": [
        "",
        "A",
        "C",
        "G",
        "U",
        "X"
       ],
       "description": "Base to insert:",
       "index": 0,
       "layout": "IPY_MODEL_e51a0fb572b64698b978acb7497e752a",
       "style": "IPY_MODEL_c32eee2a5db9454cb093e4a805ad8378"
      }
     },
     "2a780d43596544ab9fb977c685f50d49": {
      "model_module": "@jupyter-widgets/base",
      "model_module_version": "1.0.0",
      "model_name": "LayoutModel",
      "state": {}
     },
     "2a85a16538844eddab490602aac8d9df": {
      "model_module": "@jupyter-widgets/base",
      "model_module_version": "1.0.0",
      "model_name": "LayoutModel",
      "state": {}
     },
     "2ac041d5de2c45e1978d36363fc1c436": {
      "model_module": "@jupyter-widgets/controls",
      "model_module_version": "1.1.0",
      "model_name": "RadioButtonsModel",
      "state": {
       "_options_labels": [
        "r",
        "m",
        "f"
       ],
       "description": "2'-",
       "index": 0,
       "layout": "IPY_MODEL_bd7501d635d441f0a2989fc0e7d953c0",
       "style": "IPY_MODEL_7467366020dd4cd1a5e5012217f89714"
      }
     },
     "2afd2d0c24a14ec68e1b3bfa9747bb60": {
      "model_module": "@jupyter-widgets/base",
      "model_module_version": "1.0.0",
      "model_name": "LayoutModel",
      "state": {}
     },
     "2b87e94c4a944f4a9e532b9f96e10f55": {
      "model_module": "@jupyter-widgets/controls",
      "model_module_version": "1.1.0",
      "model_name": "DescriptionStyleModel",
      "state": {
       "description_width": "initial"
      }
     },
     "2b9ca5bf851a464985e0de9644781832": {
      "model_module": "@jupyter-widgets/controls",
      "model_module_version": "1.1.0",
      "model_name": "TextModel",
      "state": {
       "layout": "IPY_MODEL_18586247a2164645bad8e71f6392f342",
       "style": "IPY_MODEL_11632b45416e44529b01910337b132a6"
      }
     },
     "2bac24609d1e4ec28c835f19a3566284": {
      "model_module": "@jupyter-widgets/base",
      "model_module_version": "1.0.0",
      "model_name": "LayoutModel",
      "state": {}
     },
     "2c0f84c880ac4a32bf6ae058501464d2": {
      "model_module": "@jupyter-widgets/controls",
      "model_module_version": "1.1.0",
      "model_name": "IntTextModel",
      "state": {
       "description": "Insert after position:",
       "layout": "IPY_MODEL_bf16a4a7dcdf4c3fa5387be53257ae8e",
       "step": 1,
       "style": "IPY_MODEL_a82411b30704492099629f022d22a6f8"
      }
     },
     "2c26e26b6ebc44b4a6ff21d8040655b9": {
      "model_module": "@jupyter-widgets/controls",
      "model_module_version": "1.1.0",
      "model_name": "IntTextModel",
      "state": {
       "description": "Insert at position:",
       "layout": "IPY_MODEL_6cc75710d592477d86e7c9a8bc3fd2fb",
       "step": 1,
       "style": "IPY_MODEL_217db8281b3a47389478092d2dbb3040"
      }
     },
     "2ccfd2eac27945758afe44fbabc45b0e": {
      "model_module": "@jupyter-widgets/base",
      "model_module_version": "1.0.0",
      "model_name": "LayoutModel",
      "state": {}
     },
     "2d3a81136333428dba034f300a313066": {
      "model_module": "@jupyter-widgets/base",
      "model_module_version": "1.0.0",
      "model_name": "LayoutModel",
      "state": {}
     },
     "2daad04af1ac486eb60b66f78920daa1": {
      "model_module": "@jupyter-widgets/controls",
      "model_module_version": "1.1.0",
      "model_name": "DescriptionStyleModel",
      "state": {
       "description_width": ""
      }
     },
     "2dc87c542bea47e4b86c870f3c8a44e2": {
      "model_module": "@jupyter-widgets/controls",
      "model_module_version": "1.1.0",
      "model_name": "DescriptionStyleModel",
      "state": {
       "description_width": "initial"
      }
     },
     "2e772965654c4c0dbc6a368668d1975f": {
      "model_module": "@jupyter-widgets/base",
      "model_module_version": "1.0.0",
      "model_name": "LayoutModel",
      "state": {}
     },
     "2e78242d9fb0488785bc8ab207f4cace": {
      "model_module": "@jupyter-widgets/base",
      "model_module_version": "1.0.0",
      "model_name": "LayoutModel",
      "state": {}
     },
     "2ea50ea92ee34542ab2f30ee49bbe245": {
      "model_module": "@jupyter-widgets/controls",
      "model_module_version": "1.1.0",
      "model_name": "TextModel",
      "state": {
       "description": "Sequence",
       "layout": "IPY_MODEL_601d306f69d9428ba880302f90e5dc23",
       "placeholder": "Enter your RNA sequence",
       "style": "IPY_MODEL_4d336213df3f480eb5319cd8d77f72d3",
       "value": "GAAAGCUGCAGAAGGGAUUCCAUGGUUUUAGAGCUAGAAAUAGCAAGUUAAAAUAAGGCUAGUCCGUUAUCAACUUGAAAAAGUGGCACCGAGUCGGUGCUUUU"
      }
     },
     "2f8ccbfbbaa143ae8722373f3e9f2317": {
      "model_module": "@jupyter-widgets/base",
      "model_module_version": "1.0.0",
      "model_name": "LayoutModel",
      "state": {}
     },
     "3002fddbc98d4c85bc0b81d94a1659cf": {
      "model_module": "@jupyter-widgets/controls",
      "model_module_version": "1.1.0",
      "model_name": "DescriptionStyleModel",
      "state": {
       "description_width": "initial"
      }
     },
     "30511b104db14d8e8a46eb1032e78667": {
      "model_module": "@jupyter-widgets/controls",
      "model_module_version": "1.1.0",
      "model_name": "DescriptionStyleModel",
      "state": {
       "description_width": ""
      }
     },
     "30ce55e09de54d51a890331c6157e99f": {
      "model_module": "@jupyter-widgets/base",
      "model_module_version": "1.0.0",
      "model_name": "LayoutModel",
      "state": {}
     },
     "30d8c874fa5d4417ae745b01a13613d1": {
      "model_module": "@jupyter-widgets/controls",
      "model_module_version": "1.1.0",
      "model_name": "IntTextModel",
      "state": {
       "description": "Number of thiophosphates at the 5'-end",
       "layout": "IPY_MODEL_a86de03612f54115bcb07f026b401c09",
       "step": 1,
       "style": "IPY_MODEL_c43a73b8cbf547d58157fd240aa88c65",
       "value": 3
      }
     },
     "30f21fe1b80f460683808cae98d9cd15": {
      "model_module": "@jupyter-widgets/base",
      "model_module_version": "1.0.0",
      "model_name": "LayoutModel",
      "state": {}
     },
     "30f9d48046c54845a97899af392897df": {
      "model_module": "@jupyter-widgets/controls",
      "model_module_version": "1.1.0",
      "model_name": "DescriptionStyleModel",
      "state": {
       "description_width": "initial"
      }
     },
     "311d01fdd41940ca8da93de06f67a944": {
      "model_module": "@jupyter-widgets/base",
      "model_module_version": "1.0.0",
      "model_name": "LayoutModel",
      "state": {}
     },
     "31714ba2a12e451db9a4f38891e230f6": {
      "model_module": "@jupyter-widgets/controls",
      "model_module_version": "1.1.0",
      "model_name": "DescriptionStyleModel",
      "state": {
       "description_width": ""
      }
     },
     "319dcb01dc0048f388b28f4995d545d9": {
      "model_module": "@jupyter-widgets/controls",
      "model_module_version": "1.1.0",
      "model_name": "TextModel",
      "state": {
       "layout": "IPY_MODEL_bb90637f21714ffa9332b1a2e07e6b78",
       "style": "IPY_MODEL_b97804f69578416793280c53aea322bf"
      }
     },
     "3207228d95d64d2988b486f21fbf1881": {
      "model_module": "@jupyter-widgets/controls",
      "model_module_version": "1.1.0",
      "model_name": "DescriptionStyleModel",
      "state": {
       "description_width": "initial"
      }
     },
     "32706d1f713047dc89be617925554a59": {
      "model_module": "@jupyter-widgets/controls",
      "model_module_version": "1.1.0",
      "model_name": "IntTextModel",
      "state": {
       "description": "Thiophosphates & MeO at the 5'-end",
       "layout": "IPY_MODEL_67e66b0b06d24463a8e697f99845db43",
       "step": 1,
       "style": "IPY_MODEL_7b707340307d42f7bca06a998c54c36d",
       "value": 3
      }
     },
     "337d03e7e10e46bf88fe6bf613ddb8af": {
      "model_module": "@jupyter-widgets/controls",
      "model_module_version": "1.1.0",
      "model_name": "IntTextModel",
      "state": {
       "description": "Insert after position:",
       "layout": "IPY_MODEL_92cdc422148248b493f58fb1a4b476d3",
       "step": 1,
       "style": "IPY_MODEL_2998fa9efc1848a188101ecdbedcbd74"
      }
     },
     "33c15da1a60a46ac8504ef4bbac2bb11": {
      "model_module": "@jupyter-widgets/controls",
      "model_module_version": "1.1.0",
      "model_name": "IntTextModel",
      "state": {
       "description": "and before position:",
       "layout": "IPY_MODEL_9d439ff2a29a4110bb1f42b9c287f2ea",
       "step": 1,
       "style": "IPY_MODEL_459131f421a44dfca1e4929b76ec28e3"
      }
     },
     "33c7ebaa95504cd2ad871070aa12c230": {
      "model_module": "@jupyter-widgets/controls",
      "model_module_version": "1.1.0",
      "model_name": "SelectModel",
      "state": {
       "_options_labels": [
        "None",
        "A",
        "C",
        "G",
        "U",
        "X"
       ],
       "description": "Base to insert:",
       "index": 0,
       "layout": "IPY_MODEL_a272ce598558460eae780a5533ea68b0",
       "style": "IPY_MODEL_103684c2eb8942bc9b2d9930524134da"
      }
     },
     "34690486b3084b6a9ba4846a51f7ab59": {
      "model_module": "@jupyter-widgets/controls",
      "model_module_version": "1.1.0",
      "model_name": "DropdownModel",
      "state": {
       "_options_labels": [
        "",
        "A",
        "C",
        "G",
        "U",
        "X"
       ],
       "description": "Base: to insert",
       "index": 0,
       "layout": "IPY_MODEL_5af40fef1f7a4efcaf369d903c60e6c1",
       "style": "IPY_MODEL_d07019f0bd3740c1b8a601cd6d037df8"
      }
     },
     "348dd09fadad4ebabca896be5953bf79": {
      "model_module": "@jupyter-widgets/base",
      "model_module_version": "1.0.0",
      "model_name": "LayoutModel",
      "state": {}
     },
     "34f735f8a54e4e2a828d1059d8ba5e74": {
      "model_module": "@jupyter-widgets/base",
      "model_module_version": "1.0.0",
      "model_name": "LayoutModel",
      "state": {}
     },
     "354ac1e1b9514baab84cadb4026d8290": {
      "model_module": "@jupyter-widgets/controls",
      "model_module_version": "1.1.0",
      "model_name": "SelectModel",
      "state": {
       "_options_labels": [
        "None",
        "A",
        "C",
        "G",
        "U",
        "X"
       ],
       "description": "Base to insert:",
       "index": 4,
       "layout": "IPY_MODEL_c791b6ae4d37491daa5034341b9ff130",
       "style": "IPY_MODEL_4ff53d4e09a04fd29b4faeb94351c6da"
      }
     },
     "355599df7a9f4830a048ad6ef45b116e": {
      "model_module": "@jupyter-widgets/controls",
      "model_module_version": "1.1.0",
      "model_name": "DescriptionStyleModel",
      "state": {
       "description_width": ""
      }
     },
     "3569903597924e10866e7bca9ccc8961": {
      "model_module": "@jupyter-widgets/base",
      "model_module_version": "1.0.0",
      "model_name": "LayoutModel",
      "state": {}
     },
     "358527a2d5fd406988a51a39a6a77530": {
      "model_module": "@jupyter-widgets/base",
      "model_module_version": "1.0.0",
      "model_name": "LayoutModel",
      "state": {}
     },
     "358678c3eda647d4a99fd3ee0f3804ba": {
      "model_module": "@jupyter-widgets/controls",
      "model_module_version": "1.1.0",
      "model_name": "DescriptionStyleModel",
      "state": {
       "description_width": ""
      }
     },
     "358a2f2e070d47e292caad0a9a26a370": {
      "model_module": "@jupyter-widgets/base",
      "model_module_version": "1.0.0",
      "model_name": "LayoutModel",
      "state": {}
     },
     "358c74e0e704493bbbed23edfd83b879": {
      "model_module": "@jupyter-widgets/controls",
      "model_module_version": "1.1.0",
      "model_name": "TextModel",
      "state": {
       "disabled": true,
       "layout": "IPY_MODEL_dfef736f7df64712834fb6f63210e6cd",
       "style": "IPY_MODEL_01543a3157294abe9289a52901089665",
       "value": "Enter your sequence"
      }
     },
     "3626c3860c98415b963a770b94a99a9b": {
      "model_module": "@jupyter-widgets/base",
      "model_module_version": "1.0.0",
      "model_name": "LayoutModel",
      "state": {}
     },
     "364c88a729c640cea248d212c7ee2e6e": {
      "model_module": "@jupyter-widgets/controls",
      "model_module_version": "1.1.0",
      "model_name": "DescriptionStyleModel",
      "state": {
       "description_width": "initial"
      }
     },
     "37530872c1a84b45a00a9fd7a2e29c9e": {
      "model_module": "@jupyter-widgets/base",
      "model_module_version": "1.0.0",
      "model_name": "LayoutModel",
      "state": {}
     },
     "3764f08011134c588c42e996b4e9b4b3": {
      "model_module": "@jupyter-widgets/base",
      "model_module_version": "1.0.0",
      "model_name": "LayoutModel",
      "state": {}
     },
     "37d4c9b377014aabb5050e77fc2e4d05": {
      "model_module": "@jupyter-widgets/base",
      "model_module_version": "1.0.0",
      "model_name": "LayoutModel",
      "state": {}
     },
     "385e48369a00453dae514525747c2c7b": {
      "model_module": "@jupyter-widgets/base",
      "model_module_version": "1.0.0",
      "model_name": "LayoutModel",
      "state": {}
     },
     "391d90f030d5489a97b3e10e6550e05d": {
      "model_module": "@jupyter-widgets/controls",
      "model_module_version": "1.1.0",
      "model_name": "IntTextModel",
      "state": {
       "description": "Thiophosphates & OMe at the 5'-end",
       "layout": "IPY_MODEL_6f3baef137434afbaed57da1c033c940",
       "step": 1,
       "style": "IPY_MODEL_2b87e94c4a944f4a9e532b9f96e10f55",
       "value": 2
      }
     },
     "39db67ae0aae40309765e42b79a29981": {
      "model_module": "@jupyter-widgets/controls",
      "model_module_version": "1.1.0",
      "model_name": "DescriptionStyleModel",
      "state": {
       "description_width": ""
      }
     },
     "3a8e188d3dd14de68f11ca9b6d2a9f1b": {
      "model_module": "@jupyter-widgets/controls",
      "model_module_version": "1.1.0",
      "model_name": "IntTextModel",
      "state": {
       "description": "and before position:",
       "layout": "IPY_MODEL_37d4c9b377014aabb5050e77fc2e4d05",
       "step": 1,
       "style": "IPY_MODEL_87fc1bb631d9442683b3c9aa326a7f52"
      }
     },
     "3aecba4e4c414ddda85330a8f72af948": {
      "model_module": "@jupyter-widgets/base",
      "model_module_version": "1.0.0",
      "model_name": "LayoutModel",
      "state": {}
     },
     "3af54b0638e84c18a449cf4508ee44b5": {
      "model_module": "@jupyter-widgets/controls",
      "model_module_version": "1.1.0",
      "model_name": "CheckboxModel",
      "state": {
       "description": "Thiophosphorylated",
       "disabled": false,
       "layout": "IPY_MODEL_d421964747c34488bcbcb5ba6cfe3cd3",
       "style": "IPY_MODEL_fd0bdc4ba744433e89523e472ab48526",
       "value": false
      }
     },
     "3baa305a8ff74008a634e92a81db0f21": {
      "model_module": "@jupyter-widgets/controls",
      "model_module_version": "1.1.0",
      "model_name": "DescriptionStyleModel",
      "state": {
       "description_width": ""
      }
     },
     "3bd6d29a848b4884a3870ab6c7a2ed91": {
      "model_module": "@jupyter-widgets/controls",
      "model_module_version": "1.1.0",
      "model_name": "DescriptionStyleModel",
      "state": {
       "description_width": ""
      }
     },
     "3bddd14a770f4a63b99ce349330903f6": {
      "model_module": "@jupyter-widgets/controls",
      "model_module_version": "1.1.0",
      "model_name": "IntTextModel",
      "state": {
       "description": "and before position:",
       "layout": "IPY_MODEL_a13482433aa0419c80d39dba328ebe2d",
       "step": 1,
       "style": "IPY_MODEL_e45b09f29ab949c6bd007867d79ecd7d",
       "value": 1
      }
     },
     "3c92b5565857409f939c034ee9b99ff1": {
      "model_module": "@jupyter-widgets/controls",
      "model_module_version": "1.1.0",
      "model_name": "SelectModel",
      "state": {
       "_options_labels": [
        "None",
        "A",
        "C",
        "G",
        "U",
        "X"
       ],
       "description": "Base to insert:",
       "index": 0,
       "layout": "IPY_MODEL_b82b51f3898a43a98813577f63a03113",
       "style": "IPY_MODEL_f529a02c328b4cc9a2db083b8dd844cf"
      }
     },
     "3cf49147e26e4b7ca3deced017ff29b8": {
      "model_module": "@jupyter-widgets/controls",
      "model_module_version": "1.1.0",
      "model_name": "CheckboxModel",
      "state": {
       "description": "Thiophosphorylated",
       "disabled": false,
       "layout": "IPY_MODEL_6c71871faf76483f86c4a4a75da1b978",
       "style": "IPY_MODEL_b92b6d90d70343a6a505faaff27fdb6e",
       "value": false
      }
     },
     "3cf74e1f02d34c668593a7b520b5a936": {
      "model_module": "@jupyter-widgets/controls",
      "model_module_version": "1.1.0",
      "model_name": "RadioButtonsModel",
      "state": {
       "_options_labels": [
        "OH",
        "Methyl",
        "Fluoro"
       ],
       "description": "2'-",
       "index": 0,
       "layout": "IPY_MODEL_4ca932db21354975a3ac83d16c10041c",
       "style": "IPY_MODEL_e346bf74d9e0409ab80c6aba5054ef0a"
      }
     },
     "3df16f7f5ffd4f669059214e60bb7dba": {
      "model_module": "@jupyter-widgets/controls",
      "model_module_version": "1.1.0",
      "model_name": "CheckboxModel",
      "state": {
       "description": "Thiophosphorylated",
       "disabled": false,
       "layout": "IPY_MODEL_3f5df0d23383467e978f0ec9cb8d51ff",
       "style": "IPY_MODEL_70a5c08d8f98488da5ee2f955fbe2874",
       "value": false
      }
     },
     "3ec113014815437cbd6fb1c4a52614d2": {
      "model_module": "@jupyter-widgets/controls",
      "model_module_version": "1.1.0",
      "model_name": "DescriptionStyleModel",
      "state": {
       "description_width": ""
      }
     },
     "3ee1b9a2ee4d42a6b9934f679e82e5f6": {
      "model_module": "@jupyter-widgets/base",
      "model_module_version": "1.0.0",
      "model_name": "LayoutModel",
      "state": {}
     },
     "3f15e43f206f4263b1344a1d0a41b5be": {
      "model_module": "@jupyter-widgets/base",
      "model_module_version": "1.0.0",
      "model_name": "LayoutModel",
      "state": {}
     },
     "3f1cef937b284ffebfc78968f2dc27c0": {
      "model_module": "@jupyter-widgets/controls",
      "model_module_version": "1.1.0",
      "model_name": "DescriptionStyleModel",
      "state": {
       "description_width": "initial"
      }
     },
     "3f5df0d23383467e978f0ec9cb8d51ff": {
      "model_module": "@jupyter-widgets/base",
      "model_module_version": "1.0.0",
      "model_name": "LayoutModel",
      "state": {}
     },
     "3fbdefcd6267438284bd1c75a12f660a": {
      "model_module": "@jupyter-widgets/base",
      "model_module_version": "1.0.0",
      "model_name": "LayoutModel",
      "state": {}
     },
     "3fc3289117824d92856e19c7bd3bf8f5": {
      "model_module": "@jupyter-widgets/controls",
      "model_module_version": "1.1.0",
      "model_name": "TextModel",
      "state": {
       "description": "Sequence",
       "layout": "IPY_MODEL_703952c79d194f20979258238abb2799",
       "placeholder": "Enter your RNA sequence",
       "style": "IPY_MODEL_59fd66d270f045d28ab417912e2620ef",
       "value": "GCUGCAGAAGGGAUUCCAUGGUUUUAGAGCUAGAAAUAGCAAGUUAAAAUAAGGCUAGUCCGUUAUCAACUUGAAAAAGUGGCACCGAGUCGGUGCUUUU"
      }
     },
     "40288f88105747a883a1237733e8029c": {
      "model_module": "@jupyter-widgets/controls",
      "model_module_version": "1.1.0",
      "model_name": "DescriptionStyleModel",
      "state": {
       "description_width": "initial"
      }
     },
     "405d91b2f3654ad5beb0e73b4687c1df": {
      "model_module": "@jupyter-widgets/controls",
      "model_module_version": "1.1.0",
      "model_name": "DescriptionStyleModel",
      "state": {
       "description_width": "initial"
      }
     },
     "4067ab9c694a4167972721732ef04c75": {
      "model_module": "@jupyter-widgets/controls",
      "model_module_version": "1.1.0",
      "model_name": "IntTextModel",
      "state": {
       "description": "Thiophosphates & OMe at the 3'-end",
       "layout": "IPY_MODEL_2f8ccbfbbaa143ae8722373f3e9f2317",
       "step": 1,
       "style": "IPY_MODEL_fc44e4477b3748049c0f5272a1974c4a"
      }
     },
     "4082a8f4476c4ba88f4dd42fadd33a6f": {
      "model_module": "@jupyter-widgets/controls",
      "model_module_version": "1.1.0",
      "model_name": "DescriptionStyleModel",
      "state": {
       "description_width": "initial"
      }
     },
     "408629a4ea8d45b89e66dd716f6944a1": {
      "model_module": "@jupyter-widgets/base",
      "model_module_version": "1.0.0",
      "model_name": "LayoutModel",
      "state": {}
     },
     "40d30f961be14ac89822f4d9f21c3906": {
      "model_module": "@jupyter-widgets/base",
      "model_module_version": "1.0.0",
      "model_name": "LayoutModel",
      "state": {}
     },
     "4128c06ecabe45d29d79aef36888f62f": {
      "model_module": "@jupyter-widgets/controls",
      "model_module_version": "1.1.0",
      "model_name": "DescriptionStyleModel",
      "state": {
       "description_width": ""
      }
     },
     "413c57154b814b5e97d7f6fb91322b49": {
      "model_module": "@jupyter-widgets/base",
      "model_module_version": "1.0.0",
      "model_name": "LayoutModel",
      "state": {}
     },
     "41f1d4db7dd442df85f5f267aee3911c": {
      "model_module": "@jupyter-widgets/controls",
      "model_module_version": "1.1.0",
      "model_name": "DescriptionStyleModel",
      "state": {
       "description_width": ""
      }
     },
     "42f6b8d8e81e4695b9e9b8728b2f0cea": {
      "model_module": "@jupyter-widgets/base",
      "model_module_version": "1.0.0",
      "model_name": "LayoutModel",
      "state": {}
     },
     "433abda073c1465c8fae7309c37a76c5": {
      "model_module": "@jupyter-widgets/base",
      "model_module_version": "1.0.0",
      "model_name": "LayoutModel",
      "state": {}
     },
     "438b3ac660324dd6bead7de246ed5732": {
      "model_module": "@jupyter-widgets/base",
      "model_module_version": "1.0.0",
      "model_name": "LayoutModel",
      "state": {}
     },
     "43e7094441054989b1d1c3e6eec44b65": {
      "model_module": "@jupyter-widgets/controls",
      "model_module_version": "1.1.0",
      "model_name": "DescriptionStyleModel",
      "state": {
       "description_width": "initial"
      }
     },
     "4410d93132e74133812eafae77e70eb0": {
      "model_module": "@jupyter-widgets/controls",
      "model_module_version": "1.1.0",
      "model_name": "DescriptionStyleModel",
      "state": {
       "description_width": ""
      }
     },
     "443a61271b1846cfb20da06660612156": {
      "model_module": "@jupyter-widgets/base",
      "model_module_version": "1.0.0",
      "model_name": "LayoutModel",
      "state": {}
     },
     "44b29006911f4e408c23b2eee0109ba0": {
      "model_module": "@jupyter-widgets/base",
      "model_module_version": "1.0.0",
      "model_name": "LayoutModel",
      "state": {}
     },
     "44e9f65d741c4fddb9b3b9178aa71486": {
      "model_module": "@jupyter-widgets/base",
      "model_module_version": "1.0.0",
      "model_name": "LayoutModel",
      "state": {}
     },
     "453404ba6f2a4d27ba53030f7869dacc": {
      "model_module": "@jupyter-widgets/controls",
      "model_module_version": "1.1.0",
      "model_name": "TextModel",
      "state": {
       "layout": "IPY_MODEL_cf672d02ca894a1ebc3ba1628d2871f4",
       "style": "IPY_MODEL_ef92e843524a459abeb1654eb3bd54c9"
      }
     },
     "459131f421a44dfca1e4929b76ec28e3": {
      "model_module": "@jupyter-widgets/controls",
      "model_module_version": "1.1.0",
      "model_name": "DescriptionStyleModel",
      "state": {
       "description_width": "initial"
      }
     },
     "45ed6c786df643abafd5ffaa6f8218ea": {
      "model_module": "@jupyter-widgets/controls",
      "model_module_version": "1.1.0",
      "model_name": "DescriptionStyleModel",
      "state": {
       "description_width": "initial"
      }
     },
     "46e7a5c06d584ccc9d47ce3c65f0ce48": {
      "model_module": "@jupyter-widgets/controls",
      "model_module_version": "1.1.0",
      "model_name": "DescriptionStyleModel",
      "state": {
       "description_width": ""
      }
     },
     "46fcfc546d2b4001bb49f4040cc44981": {
      "model_module": "@jupyter-widgets/controls",
      "model_module_version": "1.1.0",
      "model_name": "DescriptionStyleModel",
      "state": {
       "description_width": ""
      }
     },
     "4709a8f3bd374fa9935701684a789f89": {
      "model_module": "@jupyter-widgets/base",
      "model_module_version": "1.0.0",
      "model_name": "LayoutModel",
      "state": {}
     },
     "47ce5bae40574256b44f4e615f726ebb": {
      "model_module": "@jupyter-widgets/controls",
      "model_module_version": "1.1.0",
      "model_name": "DescriptionStyleModel",
      "state": {
       "description_width": ""
      }
     },
     "4834b94f89a24c9284dc50a856c579c0": {
      "model_module": "@jupyter-widgets/base",
      "model_module_version": "1.0.0",
      "model_name": "LayoutModel",
      "state": {}
     },
     "4846e76a03314e6c8a63deb2f6b81172": {
      "model_module": "@jupyter-widgets/controls",
      "model_module_version": "1.1.0",
      "model_name": "IntTextModel",
      "state": {
       "description": "5'-end thio",
       "layout": "IPY_MODEL_8e3a0c57f5304eaabc26e52008a0af6d",
       "step": 1,
       "style": "IPY_MODEL_cde2680e63df45a991ceda176a9389ae",
       "value": 3
      }
     },
     "48eb35e3607c46d497cee8700c687717": {
      "model_module": "@jupyter-widgets/controls",
      "model_module_version": "1.1.0",
      "model_name": "SelectModel",
      "state": {
       "_options_labels": [
        "None",
        "A",
        "C",
        "G",
        "U",
        "X"
       ],
       "description": "Base to insert:",
       "index": 3,
       "layout": "IPY_MODEL_26cbb1ce2b064c39b82ba0ccbdfd598e",
       "style": "IPY_MODEL_2214321844a1474f86d9c24713d16d10"
      }
     },
     "4929274e37f349c1a225df784d4a6c20": {
      "model_module": "@jupyter-widgets/base",
      "model_module_version": "1.0.0",
      "model_name": "LayoutModel",
      "state": {}
     },
     "494bf4d8d16b4861abb3b0152b7c7cb9": {
      "model_module": "@jupyter-widgets/controls",
      "model_module_version": "1.1.0",
      "model_name": "DescriptionStyleModel",
      "state": {
       "description_width": "initial"
      }
     },
     "4a9d53b73d434f5a8a05f5ba3526cb94": {
      "model_module": "@jupyter-widgets/controls",
      "model_module_version": "1.1.0",
      "model_name": "TextModel",
      "state": {
       "description": "Sequence",
       "layout": "IPY_MODEL_751d8a87a017470b965a55e2cb4be29c",
       "placeholder": "Enter your RNA sequence",
       "style": "IPY_MODEL_0c67d1c2ec504220a75945e4562784a6",
       "value": "AGCUGAGAAAUCAGCUGCAGAAGGGAUUCCAUGGUUUUAGAGCUAGAAAUAGCAAGUUAAAAUAAGGCUAGUCCGUUAUCAACUUGAAAAAGUGGCACCGAGUCGGUGCUUUU"
      }
     },
     "4b8b76503566480ea6235890b4ee1fb4": {
      "model_module": "@jupyter-widgets/base",
      "model_module_version": "1.0.0",
      "model_name": "LayoutModel",
      "state": {}
     },
     "4b9127e321e7405497626cc289ad6bcf": {
      "model_module": "@jupyter-widgets/base",
      "model_module_version": "1.0.0",
      "model_name": "LayoutModel",
      "state": {}
     },
     "4bc68008da2f4c4cbc79448c4bc8f364": {
      "model_module": "@jupyter-widgets/base",
      "model_module_version": "1.0.0",
      "model_name": "LayoutModel",
      "state": {}
     },
     "4c45ac9de8184456af51427b94ea3ff1": {
      "model_module": "@jupyter-widgets/controls",
      "model_module_version": "1.1.0",
      "model_name": "IntTextModel",
      "state": {
       "description": "Number of thiophosphates at the 5'-end",
       "layout": "IPY_MODEL_f53b90a8e5984a9dbd1d2365930726e9",
       "step": 1,
       "style": "IPY_MODEL_bef977f444774ef39e11fe84e8a6358f",
       "value": 3
      }
     },
     "4c69d94263624074a1f61900648385a2": {
      "model_module": "@jupyter-widgets/controls",
      "model_module_version": "1.1.0",
      "model_name": "CheckboxModel",
      "state": {
       "description": "Thiophosphorylated",
       "disabled": false,
       "layout": "IPY_MODEL_ddff2601708f46158aeb05cc41dff881",
       "style": "IPY_MODEL_2daad04af1ac486eb60b66f78920daa1",
       "value": false
      }
     },
     "4ca932db21354975a3ac83d16c10041c": {
      "model_module": "@jupyter-widgets/base",
      "model_module_version": "1.0.0",
      "model_name": "LayoutModel",
      "state": {}
     },
     "4cb5f20e59334441b5e2bad1df299eb0": {
      "model_module": "@jupyter-widgets/controls",
      "model_module_version": "1.1.0",
      "model_name": "IntTextModel",
      "state": {
       "description": "Thiophosphates & OMe at the 5'-end",
       "layout": "IPY_MODEL_ea7158b4dca749d59b00679106211623",
       "step": 1,
       "style": "IPY_MODEL_f21ad8605852456e838b9b731cacf7fa",
       "value": 3
      }
     },
     "4d336213df3f480eb5319cd8d77f72d3": {
      "model_module": "@jupyter-widgets/controls",
      "model_module_version": "1.1.0",
      "model_name": "DescriptionStyleModel",
      "state": {
       "description_width": ""
      }
     },
     "4dd034105a034a74935e45976a661652": {
      "model_module": "@jupyter-widgets/base",
      "model_module_version": "1.0.0",
      "model_name": "LayoutModel",
      "state": {}
     },
     "4ece39bad49149ef892dc443803ede91": {
      "model_module": "@jupyter-widgets/controls",
      "model_module_version": "1.1.0",
      "model_name": "IntTextModel",
      "state": {
       "description": "Number of thiophosphates at the 5'-end",
       "layout": "IPY_MODEL_bc793f2bf3e849419fd01c94bde665cf",
       "step": 1,
       "style": "IPY_MODEL_d9249d58d57549d294f11795e77041f2",
       "value": 3
      }
     },
     "4feb2d3118694786b30cf10cd67c2893": {
      "model_module": "@jupyter-widgets/controls",
      "model_module_version": "1.1.0",
      "model_name": "DescriptionStyleModel",
      "state": {
       "description_width": "initial"
      }
     },
     "4ff53d4e09a04fd29b4faeb94351c6da": {
      "model_module": "@jupyter-widgets/controls",
      "model_module_version": "1.1.0",
      "model_name": "DescriptionStyleModel",
      "state": {
       "description_width": "initial"
      }
     },
     "4ff91dd2bd0c4b328c64bfc8b6cc70e2": {
      "model_module": "@jupyter-widgets/base",
      "model_module_version": "1.0.0",
      "model_name": "LayoutModel",
      "state": {}
     },
     "50192149bb3c46cba8ff699b53662234": {
      "model_module": "@jupyter-widgets/controls",
      "model_module_version": "1.1.0",
      "model_name": "SelectModel",
      "state": {
       "_options_labels": [
        "None",
        "A",
        "C",
        "G",
        "U",
        "X"
       ],
       "description": "Base to insert:",
       "index": 0,
       "layout": "IPY_MODEL_0c9e1817b1fa41f29ca02d03f10c2c53",
       "style": "IPY_MODEL_7a427ed550a7424da0f361102c41b28b"
      }
     },
     "510fc6db2ceb48a99074df839ff8c25c": {
      "model_module": "@jupyter-widgets/controls",
      "model_module_version": "1.1.0",
      "model_name": "DescriptionStyleModel",
      "state": {
       "description_width": ""
      }
     },
     "52d22b97062e464b8161d2df10069645": {
      "model_module": "@jupyter-widgets/controls",
      "model_module_version": "1.1.0",
      "model_name": "DescriptionStyleModel",
      "state": {
       "description_width": ""
      }
     },
     "52d543b1b63a442bac3f904d944cc403": {
      "model_module": "@jupyter-widgets/controls",
      "model_module_version": "1.1.0",
      "model_name": "DescriptionStyleModel",
      "state": {
       "description_width": ""
      }
     },
     "52d5507038f544b4b1206d49ac4bb92b": {
      "model_module": "@jupyter-widgets/base",
      "model_module_version": "1.0.0",
      "model_name": "LayoutModel",
      "state": {}
     },
     "533cd89e9e3944b99ea094ee8f8842b6": {
      "model_module": "@jupyter-widgets/base",
      "model_module_version": "1.0.0",
      "model_name": "LayoutModel",
      "state": {}
     },
     "534b87a94487464faa73d2e70ba1f794": {
      "model_module": "@jupyter-widgets/controls",
      "model_module_version": "1.1.0",
      "model_name": "IntTextModel",
      "state": {
       "description": "and before position:",
       "layout": "IPY_MODEL_27497a1f494b4cb5bd13f09e1945fffc",
       "step": 1,
       "style": "IPY_MODEL_c41e414a3d3f41d784ca58c315f72b49",
       "value": 22
      }
     },
     "539aa6eeee51499eaa1e9ee298fae83b": {
      "model_module": "@jupyter-widgets/base",
      "model_module_version": "1.0.0",
      "model_name": "LayoutModel",
      "state": {}
     },
     "542b32a25e1b4ccabeebe3383d6d135f": {
      "model_module": "@jupyter-widgets/controls",
      "model_module_version": "1.1.0",
      "model_name": "DescriptionStyleModel",
      "state": {
       "description_width": "initial"
      }
     },
     "5444c6e9301b4686b48176cdcf9b1d3e": {
      "model_module": "@jupyter-widgets/controls",
      "model_module_version": "1.1.0",
      "model_name": "IntTextModel",
      "state": {
       "description": "Thiophosphates & OMe at the 5'-end",
       "layout": "IPY_MODEL_c39f16aa4b314b8ba3cbfe361a43c576",
       "step": 1,
       "style": "IPY_MODEL_aa93dbdd7ac24bba8cc1d775014b86c4",
       "value": 3
      }
     },
     "54940504262a43b5bd9f1259661265e6": {
      "model_module": "@jupyter-widgets/controls",
      "model_module_version": "1.1.0",
      "model_name": "RadioButtonsModel",
      "state": {
       "_options_labels": [
        "OH",
        "Methyl",
        "Fluoro"
       ],
       "description": "2'-",
       "index": 2,
       "layout": "IPY_MODEL_4b8b76503566480ea6235890b4ee1fb4",
       "style": "IPY_MODEL_47ce5bae40574256b44f4e615f726ebb"
      }
     },
     "556cd0dbbe704320a9c3be7e7cc32acf": {
      "model_module": "@jupyter-widgets/base",
      "model_module_version": "1.0.0",
      "model_name": "LayoutModel",
      "state": {}
     },
     "562980604977419c94a08d788a78b152": {
      "model_module": "@jupyter-widgets/base",
      "model_module_version": "1.0.0",
      "model_name": "LayoutModel",
      "state": {}
     },
     "5661f3ef87674f61b4f5111732c4ec94": {
      "model_module": "@jupyter-widgets/controls",
      "model_module_version": "1.1.0",
      "model_name": "DescriptionStyleModel",
      "state": {
       "description_width": "initial"
      }
     },
     "5678419b850e471f9712618f649aa2dc": {
      "model_module": "@jupyter-widgets/controls",
      "model_module_version": "1.1.0",
      "model_name": "DescriptionStyleModel",
      "state": {
       "description_width": "initial"
      }
     },
     "57193d48c3204ddea76c8ce576c5b801": {
      "model_module": "@jupyter-widgets/controls",
      "model_module_version": "1.1.0",
      "model_name": "CheckboxModel",
      "state": {
       "description": "Thiophosphorylated",
       "disabled": false,
       "layout": "IPY_MODEL_a05746e1c7b64e15844ffe19d64d830d",
       "style": "IPY_MODEL_4410d93132e74133812eafae77e70eb0",
       "value": false
      }
     },
     "5766117e1fc14ed0856c607045c6a239": {
      "model_module": "@jupyter-widgets/controls",
      "model_module_version": "1.1.0",
      "model_name": "DescriptionStyleModel",
      "state": {
       "description_width": "initial"
      }
     },
     "57b4f2f37c034231900938e25792de94": {
      "model_module": "@jupyter-widgets/controls",
      "model_module_version": "1.1.0",
      "model_name": "DescriptionStyleModel",
      "state": {
       "description_width": "initial"
      }
     },
     "57b57fb6aec644d39fde88096dee3312": {
      "model_module": "@jupyter-widgets/controls",
      "model_module_version": "1.1.0",
      "model_name": "DescriptionStyleModel",
      "state": {
       "description_width": ""
      }
     },
     "5913202a6f7a4066946540bccc460a4c": {
      "model_module": "@jupyter-widgets/controls",
      "model_module_version": "1.1.0",
      "model_name": "IntTextModel",
      "state": {
       "description": "Insert at position:",
       "layout": "IPY_MODEL_d44cc165c30849f1a8794d4b5681dfaf",
       "step": 1,
       "style": "IPY_MODEL_1904c7d9c822454780170327f11c90a8"
      }
     },
     "59d4362f76ea46d981bf09bcf734f7c8": {
      "model_module": "@jupyter-widgets/controls",
      "model_module_version": "1.1.0",
      "model_name": "IntTextModel",
      "state": {
       "description": "Thiophosphates & OMe at the 5'-end",
       "layout": "IPY_MODEL_092eecc06fe84771a19803816d0ea3ce",
       "step": 1,
       "style": "IPY_MODEL_8bcaae0d66ee4f63a3d2067302fe3ae2",
       "value": 3
      }
     },
     "59fd66d270f045d28ab417912e2620ef": {
      "model_module": "@jupyter-widgets/controls",
      "model_module_version": "1.1.0",
      "model_name": "DescriptionStyleModel",
      "state": {
       "description_width": ""
      }
     },
     "5af40fef1f7a4efcaf369d903c60e6c1": {
      "model_module": "@jupyter-widgets/base",
      "model_module_version": "1.0.0",
      "model_name": "LayoutModel",
      "state": {}
     },
     "5ba8dcfaa8a84ce497e504db23e8c1b1": {
      "model_module": "@jupyter-widgets/base",
      "model_module_version": "1.0.0",
      "model_name": "LayoutModel",
      "state": {}
     },
     "5c4859ae6cf942e28b17da2b4a6dd10a": {
      "model_module": "@jupyter-widgets/controls",
      "model_module_version": "1.1.0",
      "model_name": "SelectModel",
      "state": {
       "_options_labels": [
        "None",
        "A",
        "C",
        "G",
        "U",
        "X"
       ],
       "description": "Base to insert:",
       "index": 5,
       "layout": "IPY_MODEL_3ee1b9a2ee4d42a6b9934f679e82e5f6",
       "style": "IPY_MODEL_40288f88105747a883a1237733e8029c"
      }
     },
     "5c8fcafd0ff646a68aee8666fcba856a": {
      "model_module": "@jupyter-widgets/base",
      "model_module_version": "1.0.0",
      "model_name": "LayoutModel",
      "state": {}
     },
     "5ceeccee28b14f9ea99dc148bbc4c055": {
      "model_module": "@jupyter-widgets/controls",
      "model_module_version": "1.1.0",
      "model_name": "IntTextModel",
      "state": {
       "description": "and before position:",
       "layout": "IPY_MODEL_9bbeccfd818a4610bf460ef7a839f0ae",
       "step": 1,
       "style": "IPY_MODEL_6f227ebfb31d48f4a1b66b3ac2bbb764",
       "value": 13
      }
     },
     "5d2489bab0a945648500bc0b4ea4da4b": {
      "model_module": "@jupyter-widgets/controls",
      "model_module_version": "1.1.0",
      "model_name": "RadioButtonsModel",
      "state": {
       "_options_labels": [
        "OH",
        "Methyl",
        "Fluoro"
       ],
       "description": "2'-",
       "index": 0,
       "layout": "IPY_MODEL_3569903597924e10866e7bca9ccc8961",
       "style": "IPY_MODEL_2622f4b63ea14e16ac93f898bfc0166c"
      }
     },
     "5d8cace2949c4635a3b59aaaadcb0e1b": {
      "model_module": "@jupyter-widgets/controls",
      "model_module_version": "1.1.0",
      "model_name": "DescriptionStyleModel",
      "state": {
       "description_width": ""
      }
     },
     "5e33428e274f4ca7a15487ef1158d3f1": {
      "model_module": "@jupyter-widgets/controls",
      "model_module_version": "1.1.0",
      "model_name": "CheckboxModel",
      "state": {
       "description": "Thiophosphorylated",
       "disabled": false,
       "layout": "IPY_MODEL_75d1878f07db4740afe12f0a9a75f059",
       "style": "IPY_MODEL_b7d8953b92124e66ad95f6520f145ada",
       "value": false
      }
     },
     "5e8d71ebdb0d4b99a1455d6cf3be4c99": {
      "model_module": "@jupyter-widgets/base",
      "model_module_version": "1.0.0",
      "model_name": "LayoutModel",
      "state": {}
     },
     "5f8a23a351a74bdcb8ea2ac64341d68e": {
      "model_module": "@jupyter-widgets/controls",
      "model_module_version": "1.1.0",
      "model_name": "DescriptionStyleModel",
      "state": {
       "description_width": "initial"
      }
     },
     "5fe8efe763fc46eeb9310c7bd29b591c": {
      "model_module": "@jupyter-widgets/base",
      "model_module_version": "1.0.0",
      "model_name": "LayoutModel",
      "state": {}
     },
     "60119d94153e4d9483a33fd0408fb992": {
      "model_module": "@jupyter-widgets/controls",
      "model_module_version": "1.1.0",
      "model_name": "IntTextModel",
      "state": {
       "description": "Insert after position:",
       "layout": "IPY_MODEL_2e772965654c4c0dbc6a368668d1975f",
       "step": 1,
       "style": "IPY_MODEL_e2c2a95e99a248ad9a4e3a6efad9b5b8",
       "value": 1
      }
     },
     "601d306f69d9428ba880302f90e5dc23": {
      "model_module": "@jupyter-widgets/base",
      "model_module_version": "1.0.0",
      "model_name": "LayoutModel",
      "state": {}
     },
     "60821bce2a2d4cacb66abf9223665dbf": {
      "model_module": "@jupyter-widgets/controls",
      "model_module_version": "1.1.0",
      "model_name": "IntTextModel",
      "state": {
       "description": "Any:",
       "layout": "IPY_MODEL_b54a126d15cc491ba01b03dd8282e50a",
       "step": 1,
       "style": "IPY_MODEL_20ec2b6e6e204d7ca88702ac60bf716d",
       "value": 3
      }
     },
     "60968a2191404b9cb757382166285283": {
      "model_module": "@jupyter-widgets/base",
      "model_module_version": "1.0.0",
      "model_name": "LayoutModel",
      "state": {}
     },
     "6144fc3395e748a491d26b626f9c3b15": {
      "model_module": "@jupyter-widgets/base",
      "model_module_version": "1.0.0",
      "model_name": "LayoutModel",
      "state": {}
     },
     "618a4eb1a85a467dae25d00724a6921a": {
      "model_module": "@jupyter-widgets/base",
      "model_module_version": "1.0.0",
      "model_name": "LayoutModel",
      "state": {}
     },
     "61cc01d1cffd4ed7b6d69d7a4eb01951": {
      "model_module": "@jupyter-widgets/controls",
      "model_module_version": "1.1.0",
      "model_name": "DescriptionStyleModel",
      "state": {
       "description_width": "initial"
      }
     },
     "628c0eec900c4a739b416bfc7dcc7ba8": {
      "model_module": "@jupyter-widgets/base",
      "model_module_version": "1.0.0",
      "model_name": "LayoutModel",
      "state": {}
     },
     "6363bad3ea1548a7ad22d9a080ddab05": {
      "model_module": "@jupyter-widgets/base",
      "model_module_version": "1.0.0",
      "model_name": "LayoutModel",
      "state": {}
     },
     "636c1a48abc542d3926a20d7c2557506": {
      "model_module": "@jupyter-widgets/base",
      "model_module_version": "1.0.0",
      "model_name": "LayoutModel",
      "state": {}
     },
     "63f4b3854d344b918fd2a8abebfdcf05": {
      "model_module": "@jupyter-widgets/base",
      "model_module_version": "1.0.0",
      "model_name": "LayoutModel",
      "state": {}
     },
     "6592c680e9aa4dfb872e5af71db856d7": {
      "model_module": "@jupyter-widgets/controls",
      "model_module_version": "1.1.0",
      "model_name": "DescriptionStyleModel",
      "state": {
       "description_width": "initial"
      }
     },
     "663477065add4557aab1efa109d914eb": {
      "model_module": "@jupyter-widgets/controls",
      "model_module_version": "1.1.0",
      "model_name": "IntTextModel",
      "state": {
       "description": "and before position:",
       "layout": "IPY_MODEL_21d22b2c41f74079ac0a1a725901f812",
       "step": 1,
       "style": "IPY_MODEL_afd2bb7f76f04169997f7985f50c514b"
      }
     },
     "66b79338890f424784d4e0a34345a685": {
      "model_module": "@jupyter-widgets/controls",
      "model_module_version": "1.1.0",
      "model_name": "IntTextModel",
      "state": {
       "description": "Thiophosphates & OMe at the 3'-end",
       "layout": "IPY_MODEL_d3bdf173b03248d1924aaf33407b7571",
       "step": 1,
       "style": "IPY_MODEL_159e67fa9692480f9529327fd5693920",
       "value": 3
      }
     },
     "66fce16aba9d44abb461de0fdac64575": {
      "model_module": "@jupyter-widgets/controls",
      "model_module_version": "1.1.0",
      "model_name": "IntTextModel",
      "state": {
       "description": "and before position:",
       "layout": "IPY_MODEL_30f21fe1b80f460683808cae98d9cd15",
       "step": 1,
       "style": "IPY_MODEL_188e767eabb14b68a514809c43189c78",
       "value": 5
      }
     },
     "67cad218cca545168d91bf9ca41cc6ca": {
      "model_module": "@jupyter-widgets/controls",
      "model_module_version": "1.1.0",
      "model_name": "IntTextModel",
      "state": {
       "description": "and before position:",
       "layout": "IPY_MODEL_3aecba4e4c414ddda85330a8f72af948",
       "step": 1,
       "style": "IPY_MODEL_760a1ff3181e431183a35f510c0fb501",
       "value": 1
      }
     },
     "67cb5802ab444671b2655676ae7589dc": {
      "model_module": "@jupyter-widgets/controls",
      "model_module_version": "1.1.0",
      "model_name": "CheckboxModel",
      "state": {
       "description": "Check me",
       "disabled": false,
       "layout": "IPY_MODEL_ace2ed5f7ab94ebd85c9d07316660dbd",
       "style": "IPY_MODEL_d82e4537b4e4496298e5fcd381870f92",
       "value": true
      }
     },
     "67e66b0b06d24463a8e697f99845db43": {
      "model_module": "@jupyter-widgets/base",
      "model_module_version": "1.0.0",
      "model_name": "LayoutModel",
      "state": {}
     },
     "68e9fb58047e4fbc8e94ecd15d8514db": {
      "model_module": "@jupyter-widgets/controls",
      "model_module_version": "1.1.0",
      "model_name": "IntSliderModel",
      "state": {
       "layout": "IPY_MODEL_a4028683e12e49b8a79b625fcecf6c0e",
       "style": "IPY_MODEL_6d10c3e675f24a0bae639c45fba13577",
       "value": 78
      }
     },
     "6905597532684b2683174e58fe15cf4d": {
      "model_module": "@jupyter-widgets/controls",
      "model_module_version": "1.1.0",
      "model_name": "DescriptionStyleModel",
      "state": {
       "description_width": ""
      }
     },
     "6913829a93234865a60accf8c52b569f": {
      "model_module": "@jupyter-widgets/controls",
      "model_module_version": "1.1.0",
      "model_name": "DescriptionStyleModel",
      "state": {
       "description_width": ""
      }
     },
     "699a4d77c13f40c7aa5db548a982e014": {
      "model_module": "@jupyter-widgets/controls",
      "model_module_version": "1.1.0",
      "model_name": "DescriptionStyleModel",
      "state": {
       "description_width": "initial"
      }
     },
     "699a95c502d9476486ff5d6d9f6bf336": {
      "model_module": "@jupyter-widgets/controls",
      "model_module_version": "1.1.0",
      "model_name": "TextModel",
      "state": {
       "description": "Sequence",
       "layout": "IPY_MODEL_c3caf1d41bf2489a952d5da66b3a87da",
       "placeholder": "Enter your RNA sequence",
       "style": "IPY_MODEL_e4fef39f7e994493ae53aa89555b7ba2",
       "value": "AGTCGUTCGAA"
      }
     },
     "69d8c1e6391f42f3a408121a04763c25": {
      "model_module": "@jupyter-widgets/base",
      "model_module_version": "1.0.0",
      "model_name": "LayoutModel",
      "state": {}
     },
     "6aeeb618405440dfa2bff07cc2b39e0c": {
      "model_module": "@jupyter-widgets/base",
      "model_module_version": "1.0.0",
      "model_name": "LayoutModel",
      "state": {}
     },
     "6b24a45ef53d46fda46cc85df9c7841e": {
      "model_module": "@jupyter-widgets/controls",
      "model_module_version": "1.1.0",
      "model_name": "DescriptionStyleModel",
      "state": {
       "description_width": "initial"
      }
     },
     "6b4a7bdf1e11463a928c2f89da0f43e5": {
      "model_module": "@jupyter-widgets/controls",
      "model_module_version": "1.1.0",
      "model_name": "CheckboxModel",
      "state": {
       "description": "Thiophosphorylated",
       "disabled": false,
       "layout": "IPY_MODEL_0342801395ca417889109db2f58a9f4e",
       "style": "IPY_MODEL_cffb12a66e01486990167b2f6dac3114",
       "value": true
      }
     },
     "6bd7ffab7f934ce5a0796a96c81c153d": {
      "model_module": "@jupyter-widgets/controls",
      "model_module_version": "1.1.0",
      "model_name": "DescriptionStyleModel",
      "state": {
       "description_width": ""
      }
     },
     "6beb1995fd954004842364fe79359d1a": {
      "model_module": "@jupyter-widgets/controls",
      "model_module_version": "1.1.0",
      "model_name": "IntTextModel",
      "state": {
       "description": "and before position:",
       "layout": "IPY_MODEL_9266a96c977e4c898b8aee01f3e3b0d0",
       "step": 1,
       "style": "IPY_MODEL_a4cbbc2bb0724e9cb44a526cf1ca7446"
      }
     },
     "6bef4ab4079d494d9dc1ad68c04fe719": {
      "model_module": "@jupyter-widgets/controls",
      "model_module_version": "1.1.0",
      "model_name": "DescriptionStyleModel",
      "state": {
       "description_width": ""
      }
     },
     "6c71871faf76483f86c4a4a75da1b978": {
      "model_module": "@jupyter-widgets/base",
      "model_module_version": "1.0.0",
      "model_name": "LayoutModel",
      "state": {}
     },
     "6cc75710d592477d86e7c9a8bc3fd2fb": {
      "model_module": "@jupyter-widgets/base",
      "model_module_version": "1.0.0",
      "model_name": "LayoutModel",
      "state": {}
     },
     "6d10c3e675f24a0bae639c45fba13577": {
      "model_module": "@jupyter-widgets/controls",
      "model_module_version": "1.1.0",
      "model_name": "SliderStyleModel",
      "state": {
       "description_width": ""
      }
     },
     "6d6a5106e29f45ba9b04bb81b48b28d5": {
      "model_module": "@jupyter-widgets/base",
      "model_module_version": "1.0.0",
      "model_name": "LayoutModel",
      "state": {}
     },
     "6dc8d8d2234849a990cb494cbf601a6c": {
      "model_module": "@jupyter-widgets/controls",
      "model_module_version": "1.1.0",
      "model_name": "IntTextModel",
      "state": {
       "description": "Insert after position:",
       "layout": "IPY_MODEL_8d0fe8aea6854dca95b4b5844e05d040",
       "step": 1,
       "style": "IPY_MODEL_ade8caf9e2f744eabe09105e9582a460"
      }
     },
     "6dcc60e16bcf4db5951747113c2025e1": {
      "model_module": "@jupyter-widgets/base",
      "model_module_version": "1.0.0",
      "model_name": "LayoutModel",
      "state": {}
     },
     "6e6661af2e054f2492367cc3420dc735": {
      "model_module": "@jupyter-widgets/controls",
      "model_module_version": "1.1.0",
      "model_name": "IntTextModel",
      "state": {
       "description": "Thiophosphates & OMe at the 3'-end",
       "layout": "IPY_MODEL_30ce55e09de54d51a890331c6157e99f",
       "step": 1,
       "style": "IPY_MODEL_8dde0f36a18b4c94a6f5fe90dbc660d5",
       "value": 3
      }
     },
     "6e8dee58f1c443919e0195b303709ab7": {
      "model_module": "@jupyter-widgets/base",
      "model_module_version": "1.0.0",
      "model_name": "LayoutModel",
      "state": {}
     },
     "6ef0fc4bce1e423abc92aa962ed413b2": {
      "model_module": "@jupyter-widgets/controls",
      "model_module_version": "1.1.0",
      "model_name": "IntTextModel",
      "state": {
       "description": "Number of thiophosphates at the 5'-end",
       "layout": "IPY_MODEL_1f6e86bc9a5945adac9b46106a6b03ff",
       "step": 1,
       "style": "IPY_MODEL_22c67781f1614737ab7a9a5c350305c5",
       "value": 3
      }
     },
     "6f227ebfb31d48f4a1b66b3ac2bbb764": {
      "model_module": "@jupyter-widgets/controls",
      "model_module_version": "1.1.0",
      "model_name": "DescriptionStyleModel",
      "state": {
       "description_width": "initial"
      }
     },
     "6f3baef137434afbaed57da1c033c940": {
      "model_module": "@jupyter-widgets/base",
      "model_module_version": "1.0.0",
      "model_name": "LayoutModel",
      "state": {}
     },
     "6f72bc25969a4cd39b5c569a20a3b8ce": {
      "model_module": "@jupyter-widgets/controls",
      "model_module_version": "1.1.0",
      "model_name": "DescriptionStyleModel",
      "state": {
       "description_width": "initial"
      }
     },
     "6f9a649e2ffc49e4aed6c15daa6ce6ef": {
      "model_module": "@jupyter-widgets/base",
      "model_module_version": "1.0.0",
      "model_name": "LayoutModel",
      "state": {}
     },
     "6fb74d957eec41ddaabd22dd87b49c8b": {
      "model_module": "@jupyter-widgets/controls",
      "model_module_version": "1.1.0",
      "model_name": "DescriptionStyleModel",
      "state": {
       "description_width": "initial"
      }
     },
     "703952c79d194f20979258238abb2799": {
      "model_module": "@jupyter-widgets/base",
      "model_module_version": "1.0.0",
      "model_name": "LayoutModel",
      "state": {}
     },
     "7040134b684040578485a7ec59766691": {
      "model_module": "@jupyter-widgets/base",
      "model_module_version": "1.0.0",
      "model_name": "LayoutModel",
      "state": {}
     },
     "70a5c08d8f98488da5ee2f955fbe2874": {
      "model_module": "@jupyter-widgets/controls",
      "model_module_version": "1.1.0",
      "model_name": "DescriptionStyleModel",
      "state": {
       "description_width": ""
      }
     },
     "70bcce841bdb4293aa1d825ba2e99ab3": {
      "model_module": "@jupyter-widgets/controls",
      "model_module_version": "1.1.0",
      "model_name": "RadioButtonsModel",
      "state": {
       "_options_labels": [
        "OH",
        "Methyl",
        "Fluoro"
       ],
       "description": "2'-",
       "index": 0,
       "layout": "IPY_MODEL_4929274e37f349c1a225df784d4a6c20",
       "style": "IPY_MODEL_fd5dca5d7ab74ba0b591bbea4497713c"
      }
     },
     "712d9a85288c4f718653570f9bcde20a": {
      "model_module": "@jupyter-widgets/controls",
      "model_module_version": "1.1.0",
      "model_name": "DescriptionStyleModel",
      "state": {
       "description_width": ""
      }
     },
     "7130ca3941d24de6aab2d39d432507d4": {
      "model_module": "@jupyter-widgets/controls",
      "model_module_version": "1.1.0",
      "model_name": "DescriptionStyleModel",
      "state": {
       "description_width": "initial"
      }
     },
     "720dd233aac84c77be0a002b0d8f2a21": {
      "model_module": "@jupyter-widgets/controls",
      "model_module_version": "1.1.0",
      "model_name": "DescriptionStyleModel",
      "state": {
       "description_width": ""
      }
     },
     "721f12e156cc46a28cce53bbc78353db": {
      "model_module": "@jupyter-widgets/controls",
      "model_module_version": "1.1.0",
      "model_name": "TextModel",
      "state": {
       "layout": "IPY_MODEL_dfe2431924f140ddb08d7294098913fc",
       "style": "IPY_MODEL_3baa305a8ff74008a634e92a81db0f21"
      }
     },
     "72b3d46ab36444be8048304f69a1f217": {
      "model_module": "@jupyter-widgets/base",
      "model_module_version": "1.0.0",
      "model_name": "LayoutModel",
      "state": {}
     },
     "72b5fe1448eb4497ad4a145117533abe": {
      "model_module": "@jupyter-widgets/base",
      "model_module_version": "1.0.0",
      "model_name": "LayoutModel",
      "state": {}
     },
     "735725943d3147df863896decbc5400b": {
      "model_module": "@jupyter-widgets/controls",
      "model_module_version": "1.1.0",
      "model_name": "SelectModel",
      "state": {
       "_options_labels": [
        "None",
        "A",
        "C",
        "G",
        "U",
        "X"
       ],
       "description": "Base to insert:",
       "index": 3,
       "layout": "IPY_MODEL_a7fb131cb3464355b5f02546ce6e9fb5",
       "style": "IPY_MODEL_405d91b2f3654ad5beb0e73b4687c1df"
      }
     },
     "73a609d88bc84b4a995ded06962085a5": {
      "model_module": "@jupyter-widgets/base",
      "model_module_version": "1.0.0",
      "model_name": "LayoutModel",
      "state": {}
     },
     "73e6e9be70bd4853926cd08713c828cf": {
      "model_module": "@jupyter-widgets/controls",
      "model_module_version": "1.1.0",
      "model_name": "IntTextModel",
      "state": {
       "description": "Insert after position:",
       "layout": "IPY_MODEL_ef7898b9f6db46279983dd8e4d568ae3",
       "step": 1,
       "style": "IPY_MODEL_770f8adb4f2349a088bb62f2ce17d1b8",
       "value": 9
      }
     },
     "7447e862c4ad4587a57aed7f7dffb03c": {
      "model_module": "@jupyter-widgets/base",
      "model_module_version": "1.0.0",
      "model_name": "LayoutModel",
      "state": {}
     },
     "7467366020dd4cd1a5e5012217f89714": {
      "model_module": "@jupyter-widgets/controls",
      "model_module_version": "1.1.0",
      "model_name": "DescriptionStyleModel",
      "state": {
       "description_width": ""
      }
     },
     "747917275487429284d9b934b066c98b": {
      "model_module": "@jupyter-widgets/controls",
      "model_module_version": "1.1.0",
      "model_name": "TextModel",
      "state": {
       "description": "Sequence",
       "layout": "IPY_MODEL_f75be4ce1ead4489b93d640465237c7a",
       "placeholder": "Enter your RNA sequence",
       "style": "IPY_MODEL_3ec113014815437cbd6fb1c4a52614d2",
       "value": "GAAAGCUGCAGAAGGGAUUCCAUGGUUUUAGAGCUAGAAAUAGCAAGUUAAAAUAAGGCUAGUCCGUUAUCAACUUGAAAAAGUGGCACCGAGUCGGUGCUUUU"
      }
     },
     "74de7b85f56c4b8db82a8a08249109ca": {
      "model_module": "@jupyter-widgets/controls",
      "model_module_version": "1.1.0",
      "model_name": "DescriptionStyleModel",
      "state": {
       "description_width": "initial"
      }
     },
     "74ec04e213f64174a5dee286a7748d27": {
      "model_module": "@jupyter-widgets/controls",
      "model_module_version": "1.1.0",
      "model_name": "DescriptionStyleModel",
      "state": {
       "description_width": ""
      }
     },
     "751d8a87a017470b965a55e2cb4be29c": {
      "model_module": "@jupyter-widgets/base",
      "model_module_version": "1.0.0",
      "model_name": "LayoutModel",
      "state": {}
     },
     "75425e8490124ce7b2fbd0729954deb0": {
      "model_module": "@jupyter-widgets/controls",
      "model_module_version": "1.1.0",
      "model_name": "IntTextModel",
      "state": {
       "description": "Insert after position:",
       "layout": "IPY_MODEL_a007a07755dd489db50945a2e4c3fe60",
       "step": 1,
       "style": "IPY_MODEL_23883b2085f94f8eb9cf718b1dece3bd",
       "value": 4
      }
     },
     "7591242327ed469d8e931642b8afb89d": {
      "model_module": "@jupyter-widgets/base",
      "model_module_version": "1.0.0",
      "model_name": "LayoutModel",
      "state": {}
     },
     "75d1878f07db4740afe12f0a9a75f059": {
      "model_module": "@jupyter-widgets/base",
      "model_module_version": "1.0.0",
      "model_name": "LayoutModel",
      "state": {}
     },
     "760a1ff3181e431183a35f510c0fb501": {
      "model_module": "@jupyter-widgets/controls",
      "model_module_version": "1.1.0",
      "model_name": "DescriptionStyleModel",
      "state": {
       "description_width": "initial"
      }
     },
     "764e46566afc482288b691414809ccf6": {
      "model_module": "@jupyter-widgets/base",
      "model_module_version": "1.0.0",
      "model_name": "LayoutModel",
      "state": {}
     },
     "76c1301ebc4c4c36a0f98ebe9f207da4": {
      "model_module": "@jupyter-widgets/controls",
      "model_module_version": "1.1.0",
      "model_name": "IntTextModel",
      "state": {
       "description": "Any:",
       "layout": "IPY_MODEL_f1092f626cc64e60a31c4dbceb7c2e6b",
       "step": 1,
       "style": "IPY_MODEL_39db67ae0aae40309765e42b79a29981",
       "value": 5
      }
     },
     "770f8adb4f2349a088bb62f2ce17d1b8": {
      "model_module": "@jupyter-widgets/controls",
      "model_module_version": "1.1.0",
      "model_name": "DescriptionStyleModel",
      "state": {
       "description_width": "initial"
      }
     },
     "77f18f0f313f486cb1efeeb13e16419d": {
      "model_module": "@jupyter-widgets/base",
      "model_module_version": "1.0.0",
      "model_name": "LayoutModel",
      "state": {}
     },
     "7858be7289964a0687d5bd3a03fea4e9": {
      "model_module": "@jupyter-widgets/controls",
      "model_module_version": "1.1.0",
      "model_name": "IntTextModel",
      "state": {
       "description": "Number of thiophosphates at the 5'-end",
       "layout": "IPY_MODEL_358a2f2e070d47e292caad0a9a26a370",
       "step": 1,
       "style": "IPY_MODEL_358678c3eda647d4a99fd3ee0f3804ba",
       "value": 3
      }
     },
     "7880618b79154e46afade3ba7800f6b0": {
      "model_module": "@jupyter-widgets/base",
      "model_module_version": "1.0.0",
      "model_name": "LayoutModel",
      "state": {}
     },
     "78a04d73ea664a3a99e215d3a3304c9b": {
      "model_module": "@jupyter-widgets/controls",
      "model_module_version": "1.1.0",
      "model_name": "SelectModel",
      "state": {
       "_options_labels": [
        "None",
        "A",
        "C",
        "G",
        "U",
        "X"
       ],
       "description": "Base to insert:",
       "index": 0,
       "layout": "IPY_MODEL_3626c3860c98415b963a770b94a99a9b",
       "style": "IPY_MODEL_accbdf68b98d43a196f4c13ec1b344f8"
      }
     },
     "78ceef851d4948ec9940b627c00371a0": {
      "model_module": "@jupyter-widgets/base",
      "model_module_version": "1.0.0",
      "model_name": "LayoutModel",
      "state": {}
     },
     "78d3de05fa9f4f23b9e1e0f278dfb8f8": {
      "model_module": "@jupyter-widgets/controls",
      "model_module_version": "1.1.0",
      "model_name": "DescriptionStyleModel",
      "state": {
       "description_width": ""
      }
     },
     "794bc4367c384401a3915cd8c7344774": {
      "model_module": "@jupyter-widgets/base",
      "model_module_version": "1.0.0",
      "model_name": "LayoutModel",
      "state": {}
     },
     "79932b0375b74bda84a720dc1358b3db": {
      "model_module": "@jupyter-widgets/controls",
      "model_module_version": "1.1.0",
      "model_name": "IntTextModel",
      "state": {
       "description": "Any:",
       "layout": "IPY_MODEL_19bcb855ebdf45b78e42a976f2fd54cd",
       "step": 1,
       "style": "IPY_MODEL_db50c0eb39fe4aa2ba4a21ce80813d45",
       "value": 3
      }
     },
     "799345540f6f4ea48b1748e37e729906": {
      "model_module": "@jupyter-widgets/controls",
      "model_module_version": "1.1.0",
      "model_name": "DescriptionStyleModel",
      "state": {
       "description_width": "initial"
      }
     },
     "7a2ec9fac6b140de9e9fdf719776b6cd": {
      "model_module": "@jupyter-widgets/controls",
      "model_module_version": "1.1.0",
      "model_name": "TextModel",
      "state": {
       "description": "Sequence",
       "layout": "IPY_MODEL_413c57154b814b5e97d7f6fb91322b49",
       "placeholder": "Enter your RNA sequence",
       "style": "IPY_MODEL_5d8cace2949c4635a3b59aaaadcb0e1b"
      }
     },
     "7a427ed550a7424da0f361102c41b28b": {
      "model_module": "@jupyter-widgets/controls",
      "model_module_version": "1.1.0",
      "model_name": "DescriptionStyleModel",
      "state": {
       "description_width": "initial"
      }
     },
     "7a98a9efb6084d3d9a710613adb0ad8e": {
      "model_module": "@jupyter-widgets/controls",
      "model_module_version": "1.1.0",
      "model_name": "TextModel",
      "state": {
       "layout": "IPY_MODEL_19a9265516cb4aeb981f34de382f365e",
       "style": "IPY_MODEL_6bef4ab4079d494d9dc1ad68c04fe719",
       "value": "ACGTGTG"
      }
     },
     "7b05ec17d0f54952b28b00d9e365a07a": {
      "model_module": "@jupyter-widgets/controls",
      "model_module_version": "1.1.0",
      "model_name": "TextModel",
      "state": {
       "layout": "IPY_MODEL_c9712483f17c4e5c80898041f45826da",
       "style": "IPY_MODEL_b532075595794f5cbfba7355212ea354",
       "value": "sfdasda"
      }
     },
     "7b21cc34a81c490f9bcffb1ca41b6ed0": {
      "model_module": "@jupyter-widgets/controls",
      "model_module_version": "1.1.0",
      "model_name": "DescriptionStyleModel",
      "state": {
       "description_width": "initial"
      }
     },
     "7b707340307d42f7bca06a998c54c36d": {
      "model_module": "@jupyter-widgets/controls",
      "model_module_version": "1.1.0",
      "model_name": "DescriptionStyleModel",
      "state": {
       "description_width": "initial"
      }
     },
     "7bd0817ad3aa40e9a360a3f33c395ba2": {
      "model_module": "@jupyter-widgets/base",
      "model_module_version": "1.0.0",
      "model_name": "LayoutModel",
      "state": {}
     },
     "7c130634e8e2468687d7a4d588f80668": {
      "model_module": "@jupyter-widgets/controls",
      "model_module_version": "1.1.0",
      "model_name": "DescriptionStyleModel",
      "state": {
       "description_width": ""
      }
     },
     "7c69ca26b26a4fcf93680c102c83fcaf": {
      "model_module": "@jupyter-widgets/controls",
      "model_module_version": "1.1.0",
      "model_name": "DescriptionStyleModel",
      "state": {
       "description_width": ""
      }
     },
     "7c6eed007f724003a508b753cc799ca8": {
      "model_module": "@jupyter-widgets/controls",
      "model_module_version": "1.1.0",
      "model_name": "DescriptionStyleModel",
      "state": {
       "description_width": ""
      }
     },
     "7c95a36c9f5f4ebdbd171c8ff6fe5058": {
      "model_module": "@jupyter-widgets/controls",
      "model_module_version": "1.1.0",
      "model_name": "DescriptionStyleModel",
      "state": {
       "description_width": "initial"
      }
     },
     "7cc5a0f7d4654dbdaa9faeb0b122a4fe": {
      "model_module": "@jupyter-widgets/controls",
      "model_module_version": "1.1.0",
      "model_name": "RadioButtonsModel",
      "state": {
       "_options_labels": [
        "OH",
        "Methyl",
        "Fluoro"
       ],
       "description": "2'-",
       "index": 0,
       "layout": "IPY_MODEL_97369cefedec408fad6409a4ca5fbe50",
       "style": "IPY_MODEL_720dd233aac84c77be0a002b0d8f2a21"
      }
     },
     "7cf5ef326e0a4473976855b24cb2b142": {
      "model_module": "@jupyter-widgets/base",
      "model_module_version": "1.0.0",
      "model_name": "LayoutModel",
      "state": {}
     },
     "7dbdb3e5a3194ef29473db7a50072d95": {
      "model_module": "@jupyter-widgets/controls",
      "model_module_version": "1.1.0",
      "model_name": "IntTextModel",
      "state": {
       "description": "and before position:",
       "layout": "IPY_MODEL_27efafb8e95e47c983f4284071712b76",
       "step": 1,
       "style": "IPY_MODEL_a3f2626e59044f2aa59f70df926d9346",
       "value": 13
      }
     },
     "7e391c2fe3a048369fb1d870310d1188": {
      "model_module": "@jupyter-widgets/controls",
      "model_module_version": "1.1.0",
      "model_name": "SelectModel",
      "state": {
       "_options_labels": [
        "None",
        "A",
        "C",
        "G",
        "U",
        "X"
       ],
       "description": "Base to insert:",
       "index": 0,
       "layout": "IPY_MODEL_42f6b8d8e81e4695b9e9b8728b2f0cea",
       "style": "IPY_MODEL_a2fa5bab229e4937b8542e5f10b605e1"
      }
     },
     "7e5432207b284048b840b906c037542c": {
      "model_module": "@jupyter-widgets/controls",
      "model_module_version": "1.1.0",
      "model_name": "DescriptionStyleModel",
      "state": {
       "description_width": ""
      }
     },
     "7e96f15a5db64142bc7c06d8ce057899": {
      "model_module": "@jupyter-widgets/controls",
      "model_module_version": "1.1.0",
      "model_name": "RadioButtonsModel",
      "state": {
       "_options_labels": [
        "OH",
        "Methyl",
        "Fluoro"
       ],
       "description": "2'-",
       "index": 0,
       "layout": "IPY_MODEL_21e2a744981e4908b3154807294fa89d",
       "style": "IPY_MODEL_712d9a85288c4f718653570f9bcde20a"
      }
     },
     "7f1016deadad41feab5834372fe3ae00": {
      "model_module": "@jupyter-widgets/controls",
      "model_module_version": "1.1.0",
      "model_name": "CheckboxModel",
      "state": {
       "description": "Thiophosphorylated",
       "disabled": false,
       "layout": "IPY_MODEL_311d01fdd41940ca8da93de06f67a944",
       "style": "IPY_MODEL_ca932b09784743efa0598062412505ab",
       "value": true
      }
     },
     "7f79ce0c523b47a38079786549d5b782": {
      "model_module": "@jupyter-widgets/base",
      "model_module_version": "1.0.0",
      "model_name": "LayoutModel",
      "state": {}
     },
     "800274484bc14f22b553b93f9d56ca92": {
      "model_module": "@jupyter-widgets/controls",
      "model_module_version": "1.1.0",
      "model_name": "DescriptionStyleModel",
      "state": {
       "description_width": "initial"
      }
     },
     "8030725b106245f082d0f0691439a1f6": {
      "model_module": "@jupyter-widgets/controls",
      "model_module_version": "1.1.0",
      "model_name": "IntSliderModel",
      "state": {
       "layout": "IPY_MODEL_2bac24609d1e4ec28c835f19a3566284",
       "style": "IPY_MODEL_8e2d18b27a084fbfb651e2e6cf5b620b",
       "value": 83
      }
     },
     "807e8f170a194396a10cb048d66e3916": {
      "model_module": "@jupyter-widgets/controls",
      "model_module_version": "1.1.0",
      "model_name": "RadioButtonsModel",
      "state": {
       "_options_labels": [
        "OH",
        "Methyl",
        "Fluoro"
       ],
       "description": "2'-",
       "index": 2,
       "layout": "IPY_MODEL_9a32b77a89534ecc966b1da5b255e446",
       "style": "IPY_MODEL_d7c25f0408eb4b50b10fb2f1a296efb2"
      }
     },
     "814870d1ed5f45cd99253f245fbb10f7": {
      "model_module": "@jupyter-widgets/base",
      "model_module_version": "1.0.0",
      "model_name": "LayoutModel",
      "state": {}
     },
     "817123da636d43e1b518daeed6eee2ff": {
      "model_module": "@jupyter-widgets/controls",
      "model_module_version": "1.1.0",
      "model_name": "CheckboxModel",
      "state": {
       "description": "Check me",
       "disabled": false,
       "layout": "IPY_MODEL_d5336dd9e5a74f48951b9719a9c0a2bf",
       "style": "IPY_MODEL_f4aa806dc72e495683be89b92755693b",
       "value": true
      }
     },
     "81b2dfc9ffcf4709a2cef3f3cfa3e4f4": {
      "model_module": "@jupyter-widgets/controls",
      "model_module_version": "1.1.0",
      "model_name": "IntTextModel",
      "state": {
       "description": "Insert after position:",
       "layout": "IPY_MODEL_0f8f56192acc42aaa38539945045cb1f",
       "step": 1,
       "style": "IPY_MODEL_9e38f11d3f2a4e9395aabdb3b9e90351"
      }
     },
     "81e5e9a06c91471c9486b0eceacb6e2f": {
      "model_module": "@jupyter-widgets/base",
      "model_module_version": "1.0.0",
      "model_name": "LayoutModel",
      "state": {}
     },
     "823ec4d39e8d4f13ac8842b5bc18b318": {
      "model_module": "@jupyter-widgets/controls",
      "model_module_version": "1.1.0",
      "model_name": "CheckboxModel",
      "state": {
       "description": "Check me",
       "disabled": false,
       "layout": "IPY_MODEL_bd30ee993c244578a7847df6a35c09e4",
       "style": "IPY_MODEL_e97a3fd3c4da4823b0562cd3f97c0813",
       "value": true
      }
     },
     "82e24ec8e47b47078c97e898498b0048": {
      "model_module": "@jupyter-widgets/controls",
      "model_module_version": "1.1.0",
      "model_name": "DescriptionStyleModel",
      "state": {
       "description_width": "initial"
      }
     },
     "83261a07a4e04daa89d6d28b57d3e490": {
      "model_module": "@jupyter-widgets/controls",
      "model_module_version": "1.1.0",
      "model_name": "SelectModel",
      "state": {
       "_options_labels": [
        "None",
        "A",
        "C",
        "G",
        "U",
        "X"
       ],
       "description": "Base to insert:",
       "index": 3,
       "layout": "IPY_MODEL_bbc1ec5a29f54f9e8a0a51f0f6b96db4",
       "style": "IPY_MODEL_880d133cb4714887a9f7dee612b8d399"
      }
     },
     "8360ccab421340fe8359c80d48b3af98": {
      "model_module": "@jupyter-widgets/controls",
      "model_module_version": "1.1.0",
      "model_name": "CheckboxModel",
      "state": {
       "description": "Thiophosphorylated",
       "disabled": false,
       "layout": "IPY_MODEL_348dd09fadad4ebabca896be5953bf79",
       "style": "IPY_MODEL_6913829a93234865a60accf8c52b569f",
       "value": false
      }
     },
     "83c6b4f47563426fae59378f7ad022a8": {
      "model_module": "@jupyter-widgets/base",
      "model_module_version": "1.0.0",
      "model_name": "LayoutModel",
      "state": {}
     },
     "83fbe62a3af14bb29b8a5c57dfef3bcf": {
      "model_module": "@jupyter-widgets/base",
      "model_module_version": "1.0.0",
      "model_name": "LayoutModel",
      "state": {}
     },
     "8440928c42274389afdc24faf8332908": {
      "model_module": "@jupyter-widgets/controls",
      "model_module_version": "1.1.0",
      "model_name": "DescriptionStyleModel",
      "state": {
       "description_width": ""
      }
     },
     "8448929420c144cb9115113937e18057": {
      "model_module": "@jupyter-widgets/controls",
      "model_module_version": "1.1.0",
      "model_name": "IntTextModel",
      "state": {
       "description": "Any:",
       "layout": "IPY_MODEL_6aeeb618405440dfa2bff07cc2b39e0c",
       "step": 1,
       "style": "IPY_MODEL_510fc6db2ceb48a99074df839ff8c25c",
       "value": 3
      }
     },
     "847dafa3821241ba8b26e7e21c43da1a": {
      "model_module": "@jupyter-widgets/controls",
      "model_module_version": "1.1.0",
      "model_name": "DescriptionStyleModel",
      "state": {
       "description_width": "initial"
      }
     },
     "8480fe1b507a452aa643682d1064c712": {
      "model_module": "@jupyter-widgets/controls",
      "model_module_version": "1.1.0",
      "model_name": "DescriptionStyleModel",
      "state": {
       "description_width": "initial"
      }
     },
     "84b3605e5291403b84d4ea0c0abd37f3": {
      "model_module": "@jupyter-widgets/controls",
      "model_module_version": "1.1.0",
      "model_name": "DescriptionStyleModel",
      "state": {
       "description_width": "initial"
      }
     },
     "84b5dad0d7a24ca38553da4367b2670d": {
      "model_module": "@jupyter-widgets/controls",
      "model_module_version": "1.1.0",
      "model_name": "DescriptionStyleModel",
      "state": {
       "description_width": "initial"
      }
     },
     "84b8bad2281c4d5b9812b79b3c5105fd": {
      "model_module": "@jupyter-widgets/controls",
      "model_module_version": "1.1.0",
      "model_name": "IntTextModel",
      "state": {
       "description": "Number of thiophosphates at the 5'-end",
       "layout": "IPY_MODEL_2250db762cfd48339584ca811765b6e8",
       "step": 1,
       "style": "IPY_MODEL_3bd6d29a848b4884a3870ab6c7a2ed91",
       "value": 3
      }
     },
     "84cba010717f44faa7483f0d80723939": {
      "model_module": "@jupyter-widgets/controls",
      "model_module_version": "1.1.0",
      "model_name": "TextModel",
      "state": {
       "description": "Sequence",
       "layout": "IPY_MODEL_d82474b596c247c7aa91092060757d0b",
       "placeholder": "Enter your RNA sequence",
       "style": "IPY_MODEL_c8d5b2ae66e2414f99adc00afd3fa51c",
       "value": "AGNTPOGAF"
      }
     },
     "84cdea7f96634a448463fe9fb6ab1b39": {
      "model_module": "@jupyter-widgets/controls",
      "model_module_version": "1.1.0",
      "model_name": "IntTextModel",
      "state": {
       "description": "Thiophosphates & OMe at the 5'-end",
       "layout": "IPY_MODEL_9dc9a31c73a04f9a8389a6b6390c77ef",
       "step": 1,
       "style": "IPY_MODEL_7b21cc34a81c490f9bcffb1ca41b6ed0",
       "value": 3
      }
     },
     "8530bd6f0b234027b3227c18763299d5": {
      "model_module": "@jupyter-widgets/controls",
      "model_module_version": "1.1.0",
      "model_name": "IntTextModel",
      "state": {
       "description": "Insert after position:",
       "layout": "IPY_MODEL_9c40cb2e66de4f4c8fc50560a41d8dc6",
       "step": 1,
       "style": "IPY_MODEL_2387a53420ed48a38ddc214f726c09ee"
      }
     },
     "85ac9159008841c480515ed47a5aab31": {
      "model_module": "@jupyter-widgets/base",
      "model_module_version": "1.0.0",
      "model_name": "LayoutModel",
      "state": {}
     },
     "85c3dbb35f484270a97285d4c9cc40bc": {
      "model_module": "@jupyter-widgets/controls",
      "model_module_version": "1.1.0",
      "model_name": "RadioButtonsModel",
      "state": {
       "_options_labels": [
        "OH",
        "Methyl",
        "Fluoro"
       ],
       "description": "2'-",
       "index": 2,
       "layout": "IPY_MODEL_533cd89e9e3944b99ea094ee8f8842b6",
       "style": "IPY_MODEL_cad8794d60db4b03a1597e2355d1c71e"
      }
     },
     "874c1b7df5c04d11ace139e7fe4f354e": {
      "model_module": "@jupyter-widgets/controls",
      "model_module_version": "1.1.0",
      "model_name": "IntTextModel",
      "state": {
       "description": "Thiophosphates & OMe at the 5'-end",
       "layout": "IPY_MODEL_34f735f8a54e4e2a828d1059d8ba5e74",
       "step": 1,
       "style": "IPY_MODEL_c1c66cac1e644a32b0c826ff8c1ab1a4",
       "value": 3
      }
     },
     "8764ac03c9f8434299a4a1b5b46a0c17": {
      "model_module": "@jupyter-widgets/controls",
      "model_module_version": "1.1.0",
      "model_name": "SelectModel",
      "state": {
       "_options_labels": [
        "None",
        "A",
        "C",
        "G",
        "U",
        "X"
       ],
       "description": "Base to insert:",
       "index": 0,
       "layout": "IPY_MODEL_52d5507038f544b4b1206d49ac4bb92b",
       "style": "IPY_MODEL_43e7094441054989b1d1c3e6eec44b65"
      }
     },
     "87fc1bb631d9442683b3c9aa326a7f52": {
      "model_module": "@jupyter-widgets/controls",
      "model_module_version": "1.1.0",
      "model_name": "DescriptionStyleModel",
      "state": {
       "description_width": "initial"
      }
     },
     "880d133cb4714887a9f7dee612b8d399": {
      "model_module": "@jupyter-widgets/controls",
      "model_module_version": "1.1.0",
      "model_name": "DescriptionStyleModel",
      "state": {
       "description_width": "initial"
      }
     },
     "89d10a37838948ce97e1dcac79fb9099": {
      "model_module": "@jupyter-widgets/controls",
      "model_module_version": "1.1.0",
      "model_name": "TextModel",
      "state": {
       "description": "Sequence",
       "layout": "IPY_MODEL_17a61c56f91045bab41c12421d912e4f",
       "placeholder": "Enter your RNA sequence",
       "style": "IPY_MODEL_b59cb3580ba34881ad59cea0974ef649",
       "value": "AGTCGGUTAG"
      }
     },
     "8a3469c60d604a5f89fc9397e1b1ae55": {
      "model_module": "@jupyter-widgets/base",
      "model_module_version": "1.0.0",
      "model_name": "LayoutModel",
      "state": {}
     },
     "8b63829aa23e4497b7a9ae5d4d2eab55": {
      "model_module": "@jupyter-widgets/controls",
      "model_module_version": "1.1.0",
      "model_name": "IntTextModel",
      "state": {
       "description": "Thiophosphates & OMe at the 5'-end",
       "layout": "IPY_MODEL_5fe8efe763fc46eeb9310c7bd29b591c",
       "step": 1,
       "style": "IPY_MODEL_a6ac7801cf4d4671933196dff6d1cd38",
       "value": 3
      }
     },
     "8b8441226c1a41b7a90cacce59a70710": {
      "model_module": "@jupyter-widgets/controls",
      "model_module_version": "1.1.0",
      "model_name": "DescriptionStyleModel",
      "state": {
       "description_width": ""
      }
     },
     "8bb4d808a58d44fd99d77cd878c998ca": {
      "model_module": "@jupyter-widgets/controls",
      "model_module_version": "1.1.0",
      "model_name": "IntTextModel",
      "state": {
       "description": "Thiophosphates at the 5'-end",
       "layout": "IPY_MODEL_63f4b3854d344b918fd2a8abebfdcf05",
       "step": 1,
       "style": "IPY_MODEL_d522a2e29669407b8f6c0457a50f9a92",
       "value": 3
      }
     },
     "8bba4169aea84aaf93cb2380ef2dfdb3": {
      "model_module": "@jupyter-widgets/controls",
      "model_module_version": "1.1.0",
      "model_name": "DropdownModel",
      "state": {
       "_options_labels": [
        "",
        "A",
        "C",
        "G",
        "U",
        "X"
       ],
       "description": "Base: to insert",
       "index": 0,
       "layout": "IPY_MODEL_edbe7b3d1d454e2b98ba1efdfdb9ab34",
       "style": "IPY_MODEL_9b952249738746d4bc5efe2b93e2da88"
      }
     },
     "8bcaae0d66ee4f63a3d2067302fe3ae2": {
      "model_module": "@jupyter-widgets/controls",
      "model_module_version": "1.1.0",
      "model_name": "DescriptionStyleModel",
      "state": {
       "description_width": "initial"
      }
     },
     "8bd9dd350bcc4018b183b4a0b30cf758": {
      "model_module": "@jupyter-widgets/controls",
      "model_module_version": "1.1.0",
      "model_name": "DescriptionStyleModel",
      "state": {
       "description_width": "initial"
      }
     },
     "8c6acecc4cdd4e5f88d69b53cf9f651e": {
      "model_module": "@jupyter-widgets/controls",
      "model_module_version": "1.1.0",
      "model_name": "IntTextModel",
      "state": {
       "description": "Thiophosphates & OMe at the 3'-end",
       "layout": "IPY_MODEL_09268e53bf804590ba821147bb2c6360",
       "step": 1,
       "style": "IPY_MODEL_2dc87c542bea47e4b86c870f3c8a44e2",
       "value": 3
      }
     },
     "8d06cb20e2924bf2a99187bf3251d414": {
      "model_module": "@jupyter-widgets/controls",
      "model_module_version": "1.1.0",
      "model_name": "CheckboxModel",
      "state": {
       "description": "Thiophosphorylated",
       "disabled": false,
       "layout": "IPY_MODEL_636c1a48abc542d3926a20d7c2557506",
       "style": "IPY_MODEL_0061045ed35844878def7ba87f2668c4",
       "value": false
      }
     },
     "8d0fe8aea6854dca95b4b5844e05d040": {
      "model_module": "@jupyter-widgets/base",
      "model_module_version": "1.0.0",
      "model_name": "LayoutModel",
      "state": {}
     },
     "8d908b243f264ac68e1fa67a81ac2c48": {
      "model_module": "@jupyter-widgets/base",
      "model_module_version": "1.0.0",
      "model_name": "LayoutModel",
      "state": {}
     },
     "8dde0f36a18b4c94a6f5fe90dbc660d5": {
      "model_module": "@jupyter-widgets/controls",
      "model_module_version": "1.1.0",
      "model_name": "DescriptionStyleModel",
      "state": {
       "description_width": "initial"
      }
     },
     "8e2d18b27a084fbfb651e2e6cf5b620b": {
      "model_module": "@jupyter-widgets/controls",
      "model_module_version": "1.1.0",
      "model_name": "SliderStyleModel",
      "state": {
       "description_width": ""
      }
     },
     "8e3a0c57f5304eaabc26e52008a0af6d": {
      "model_module": "@jupyter-widgets/base",
      "model_module_version": "1.0.0",
      "model_name": "LayoutModel",
      "state": {}
     },
     "8e7c91722b2d4de5815b4ce659911fe4": {
      "model_module": "@jupyter-widgets/base",
      "model_module_version": "1.0.0",
      "model_name": "LayoutModel",
      "state": {}
     },
     "8ecb3b86ee5347a9864c119c2fa81b48": {
      "model_module": "@jupyter-widgets/base",
      "model_module_version": "1.0.0",
      "model_name": "LayoutModel",
      "state": {}
     },
     "8eddd4b58df641f4a9ded788d667ef01": {
      "model_module": "@jupyter-widgets/controls",
      "model_module_version": "1.1.0",
      "model_name": "IntTextModel",
      "state": {
       "description": "and before position:",
       "layout": "IPY_MODEL_814870d1ed5f45cd99253f245fbb10f7",
       "step": 1,
       "style": "IPY_MODEL_8480fe1b507a452aa643682d1064c712",
       "value": 1
      }
     },
     "8f1345af626446cab52ba6408c56125a": {
      "model_module": "@jupyter-widgets/controls",
      "model_module_version": "1.1.0",
      "model_name": "IntTextModel",
      "state": {
       "description": "5'-end thio",
       "layout": "IPY_MODEL_2ccfd2eac27945758afe44fbabc45b0e",
       "step": 1,
       "style": "IPY_MODEL_c5fab00e5abb4ccf9834e2dbea72d1c1",
       "value": 3
      }
     },
     "8f5c59a7462a4cffa1ea47cf7f5ffdeb": {
      "model_module": "@jupyter-widgets/base",
      "model_module_version": "1.0.0",
      "model_name": "LayoutModel",
      "state": {}
     },
     "8fc5106934b74e21b814234ab0e48718": {
      "model_module": "@jupyter-widgets/controls",
      "model_module_version": "1.1.0",
      "model_name": "TextModel",
      "state": {
       "description": "Sequence",
       "disabled": true,
       "layout": "IPY_MODEL_d7a755f2ea564e289a5f181cb16ea4d9",
       "placeholder": "Enter your RNA sequence",
       "style": "IPY_MODEL_41f1d4db7dd442df85f5f267aee3911c"
      }
     },
     "903eba1e2cbd4a06879d21d0363c1238": {
      "model_module": "@jupyter-widgets/base",
      "model_module_version": "1.0.0",
      "model_name": "LayoutModel",
      "state": {}
     },
     "90b995b612a84cd795f9ad7922b17adb": {
      "model_module": "@jupyter-widgets/controls",
      "model_module_version": "1.1.0",
      "model_name": "DescriptionStyleModel",
      "state": {
       "description_width": "initial"
      }
     },
     "91c022cd5e9a4c2db3fd035f5f0080ba": {
      "model_module": "@jupyter-widgets/controls",
      "model_module_version": "1.1.0",
      "model_name": "SelectModel",
      "state": {
       "_options_labels": [
        "None",
        "A",
        "C",
        "G",
        "U",
        "X"
       ],
       "description": "Base to insert:",
       "index": 0,
       "layout": "IPY_MODEL_299e87100eeb4c9ca5885b9f763a06ca",
       "style": "IPY_MODEL_61cc01d1cffd4ed7b6d69d7a4eb01951"
      }
     },
     "922d2e43f7e34cc9be298901e4ccb051": {
      "model_module": "@jupyter-widgets/base",
      "model_module_version": "1.0.0",
      "model_name": "LayoutModel",
      "state": {}
     },
     "9266a96c977e4c898b8aee01f3e3b0d0": {
      "model_module": "@jupyter-widgets/base",
      "model_module_version": "1.0.0",
      "model_name": "LayoutModel",
      "state": {}
     },
     "92cdc422148248b493f58fb1a4b476d3": {
      "model_module": "@jupyter-widgets/base",
      "model_module_version": "1.0.0",
      "model_name": "LayoutModel",
      "state": {}
     },
     "93e70fe214744f9c9e539203d1a94304": {
      "model_module": "@jupyter-widgets/controls",
      "model_module_version": "1.1.0",
      "model_name": "DescriptionStyleModel",
      "state": {
       "description_width": "initial"
      }
     },
     "943d9d585e4d42568f6e9f5f98474b09": {
      "model_module": "@jupyter-widgets/controls",
      "model_module_version": "1.1.0",
      "model_name": "IntTextModel",
      "state": {
       "description": "and before position:",
       "layout": "IPY_MODEL_e7ab9ebf95f641a9812c8807122b83a3",
       "step": 1,
       "style": "IPY_MODEL_542b32a25e1b4ccabeebe3383d6d135f",
       "value": 5
      }
     },
     "948f52622a614ccf972d15ea1c8981e0": {
      "model_module": "@jupyter-widgets/base",
      "model_module_version": "1.0.0",
      "model_name": "LayoutModel",
      "state": {}
     },
     "9539a9ef133343c7a37164e011ae612c": {
      "model_module": "@jupyter-widgets/controls",
      "model_module_version": "1.1.0",
      "model_name": "DescriptionStyleModel",
      "state": {
       "description_width": "initial"
      }
     },
     "95be77756d9f41ea9bf69ccb872e4cd2": {
      "model_module": "@jupyter-widgets/controls",
      "model_module_version": "1.1.0",
      "model_name": "DescriptionStyleModel",
      "state": {
       "description_width": "initial"
      }
     },
     "95ee207a875144d6b29103a238843f29": {
      "model_module": "@jupyter-widgets/controls",
      "model_module_version": "1.1.0",
      "model_name": "DescriptionStyleModel",
      "state": {
       "description_width": "initial"
      }
     },
     "96126f2e142c4681bb363f9f605a7175": {
      "model_module": "@jupyter-widgets/controls",
      "model_module_version": "1.1.0",
      "model_name": "SelectModel",
      "state": {
       "_options_labels": [
        "None",
        "A",
        "C",
        "G",
        "U",
        "X"
       ],
       "description": "Base to insert:",
       "index": 2,
       "layout": "IPY_MODEL_764e46566afc482288b691414809ccf6",
       "style": "IPY_MODEL_799345540f6f4ea48b1748e37e729906"
      }
     },
     "963ab8eadb4748b9b9c514b8f96d2348": {
      "model_module": "@jupyter-widgets/controls",
      "model_module_version": "1.1.0",
      "model_name": "DescriptionStyleModel",
      "state": {
       "description_width": "initial"
      }
     },
     "97369cefedec408fad6409a4ca5fbe50": {
      "model_module": "@jupyter-widgets/base",
      "model_module_version": "1.0.0",
      "model_name": "LayoutModel",
      "state": {}
     },
     "9762dd6adfbb4df0bd1d5beafed4059d": {
      "model_module": "@jupyter-widgets/controls",
      "model_module_version": "1.1.0",
      "model_name": "DescriptionStyleModel",
      "state": {
       "description_width": "initial"
      }
     },
     "9764e25fd0e94b319f296d7d04c9e69c": {
      "model_module": "@jupyter-widgets/base",
      "model_module_version": "1.0.0",
      "model_name": "LayoutModel",
      "state": {}
     },
     "97ce68def9f34d379be0dc15fd34d220": {
      "model_module": "@jupyter-widgets/controls",
      "model_module_version": "1.1.0",
      "model_name": "TextModel",
      "state": {
       "description": "Sequence",
       "layout": "IPY_MODEL_250dcf9fcd7b474fb775cb6d1e571944",
       "placeholder": "Enter your RNA sequence",
       "style": "IPY_MODEL_c55f9a3299e048e8a563d59a254bff72"
      }
     },
     "98265c748d8f481c8a8b7a7219cd19ad": {
      "model_module": "@jupyter-widgets/base",
      "model_module_version": "1.0.0",
      "model_name": "LayoutModel",
      "state": {}
     },
     "982b62953e0c4d349ce2cdb7eb7a2325": {
      "model_module": "@jupyter-widgets/base",
      "model_module_version": "1.0.0",
      "model_name": "LayoutModel",
      "state": {}
     },
     "994d7a09cefb44bb87bc4e25ee87315f": {
      "model_module": "@jupyter-widgets/controls",
      "model_module_version": "1.1.0",
      "model_name": "IntTextModel",
      "state": {
       "description": "Number of thiophosphates at the 3'-end",
       "layout": "IPY_MODEL_d6834b3dc4e44a5e854629fd1254954d",
       "step": 1,
       "style": "IPY_MODEL_0370b4156da04cf1b3a6fe5bfb8edd5c",
       "value": 3
      }
     },
     "9a1aa17129244e54ae34e2f2d605ea42": {
      "model_module": "@jupyter-widgets/base",
      "model_module_version": "1.0.0",
      "model_name": "LayoutModel",
      "state": {}
     },
     "9a32b77a89534ecc966b1da5b255e446": {
      "model_module": "@jupyter-widgets/base",
      "model_module_version": "1.0.0",
      "model_name": "LayoutModel",
      "state": {}
     },
     "9a63181b30dc4edb975d5e7b473f111d": {
      "model_module": "@jupyter-widgets/base",
      "model_module_version": "1.0.0",
      "model_name": "LayoutModel",
      "state": {}
     },
     "9b5d09832af448a1b71600480928461a": {
      "model_module": "@jupyter-widgets/controls",
      "model_module_version": "1.1.0",
      "model_name": "IntTextModel",
      "state": {
       "description": "and before position:",
       "layout": "IPY_MODEL_4b9127e321e7405497626cc289ad6bcf",
       "step": 1,
       "style": "IPY_MODEL_fda6a938b6ee49e193b151e9cfd8b62e",
       "value": 10
      }
     },
     "9b952249738746d4bc5efe2b93e2da88": {
      "model_module": "@jupyter-widgets/controls",
      "model_module_version": "1.1.0",
      "model_name": "DescriptionStyleModel",
      "state": {
       "description_width": "initial"
      }
     },
     "9bbeccfd818a4610bf460ef7a839f0ae": {
      "model_module": "@jupyter-widgets/base",
      "model_module_version": "1.0.0",
      "model_name": "LayoutModel",
      "state": {}
     },
     "9c245ace821e403f8a54ea33ca3c81d3": {
      "model_module": "@jupyter-widgets/controls",
      "model_module_version": "1.1.0",
      "model_name": "IntTextModel",
      "state": {
       "description": "Insert after position:",
       "layout": "IPY_MODEL_acff7aa19d90463f86670669430ee5c5",
       "step": 1,
       "style": "IPY_MODEL_c3e48fc00be344db91b718b12add17fd",
       "value": 12
      }
     },
     "9c40cb2e66de4f4c8fc50560a41d8dc6": {
      "model_module": "@jupyter-widgets/base",
      "model_module_version": "1.0.0",
      "model_name": "LayoutModel",
      "state": {}
     },
     "9ca8db197cf0414e8cda40db750dc0cf": {
      "model_module": "@jupyter-widgets/controls",
      "model_module_version": "1.1.0",
      "model_name": "CheckboxModel",
      "state": {
       "description": "Thiophosphorylated",
       "disabled": false,
       "layout": "IPY_MODEL_2d3a81136333428dba034f300a313066",
       "style": "IPY_MODEL_a9ef435c24a149b69063e959d9c74f85",
       "value": false
      }
     },
     "9cf1c97d0f2c4343ad993e0692970095": {
      "model_module": "@jupyter-widgets/controls",
      "model_module_version": "1.1.0",
      "model_name": "SelectModel",
      "state": {
       "_options_labels": [
        "None",
        "A",
        "C",
        "G",
        "U",
        "X"
       ],
       "description": "Base to insert:",
       "index": 5,
       "layout": "IPY_MODEL_81e5e9a06c91471c9486b0eceacb6e2f",
       "style": "IPY_MODEL_135f0797cc6b4f54b3e3eca2e26e924c"
      }
     },
     "9d439ff2a29a4110bb1f42b9c287f2ea": {
      "model_module": "@jupyter-widgets/base",
      "model_module_version": "1.0.0",
      "model_name": "LayoutModel",
      "state": {}
     },
     "9d6039d503bb441785d2c9a328e8f466": {
      "model_module": "@jupyter-widgets/controls",
      "model_module_version": "1.1.0",
      "model_name": "IntTextModel",
      "state": {
       "description": "Number of thiophosphates at the 5'-end",
       "layout": "IPY_MODEL_eb6f2df56d3a4908bee36d2b0d019de4",
       "step": 1,
       "style": "IPY_MODEL_0ae44b3e20ee42509077b855f6009a28",
       "value": 3
      }
     },
     "9dc9a31c73a04f9a8389a6b6390c77ef": {
      "model_module": "@jupyter-widgets/base",
      "model_module_version": "1.0.0",
      "model_name": "LayoutModel",
      "state": {}
     },
     "9e38f11d3f2a4e9395aabdb3b9e90351": {
      "model_module": "@jupyter-widgets/controls",
      "model_module_version": "1.1.0",
      "model_name": "DescriptionStyleModel",
      "state": {
       "description_width": "initial"
      }
     },
     "9f78cfe327854d9ab6addcd466f3e86a": {
      "model_module": "@jupyter-widgets/controls",
      "model_module_version": "1.1.0",
      "model_name": "IntTextModel",
      "state": {
       "description": "Any:",
       "layout": "IPY_MODEL_6d6a5106e29f45ba9b04bb81b48b28d5",
       "step": 1,
       "style": "IPY_MODEL_ad0d21002c114d1ba4c4afcba9dac292",
       "value": 3
      }
     },
     "9fe5708f9ef04035b6d4efc16da35976": {
      "model_module": "@jupyter-widgets/controls",
      "model_module_version": "1.1.0",
      "model_name": "IntTextModel",
      "state": {
       "description": "Insert after position:",
       "layout": "IPY_MODEL_e5d35dcedefb42f9b5abc4e9a7168567",
       "step": 1,
       "style": "IPY_MODEL_03b39ad7501c4b2889afff76810c72d8",
       "value": 9
      }
     },
     "a007a07755dd489db50945a2e4c3fe60": {
      "model_module": "@jupyter-widgets/base",
      "model_module_version": "1.0.0",
      "model_name": "LayoutModel",
      "state": {}
     },
     "a05746e1c7b64e15844ffe19d64d830d": {
      "model_module": "@jupyter-widgets/base",
      "model_module_version": "1.0.0",
      "model_name": "LayoutModel",
      "state": {}
     },
     "a0c0a545a86c4e8b8f491360594377cc": {
      "model_module": "@jupyter-widgets/controls",
      "model_module_version": "1.1.0",
      "model_name": "DescriptionStyleModel",
      "state": {
       "description_width": ""
      }
     },
     "a0fcd301891449aeb5f022fdf66f0126": {
      "model_module": "@jupyter-widgets/controls",
      "model_module_version": "1.1.0",
      "model_name": "IntTextModel",
      "state": {
       "description": "Thiophosphates & OMe at the 3'-end",
       "layout": "IPY_MODEL_794bc4367c384401a3915cd8c7344774",
       "step": 1,
       "style": "IPY_MODEL_5661f3ef87674f61b4f5111732c4ec94",
       "value": 3
      }
     },
     "a13482433aa0419c80d39dba328ebe2d": {
      "model_module": "@jupyter-widgets/base",
      "model_module_version": "1.0.0",
      "model_name": "LayoutModel",
      "state": {}
     },
     "a14be892ff6c4b338922257ae9475f45": {
      "model_module": "@jupyter-widgets/base",
      "model_module_version": "1.0.0",
      "model_name": "LayoutModel",
      "state": {}
     },
     "a272ce598558460eae780a5533ea68b0": {
      "model_module": "@jupyter-widgets/base",
      "model_module_version": "1.0.0",
      "model_name": "LayoutModel",
      "state": {}
     },
     "a291bbef72ed4c30a522d266212bf74d": {
      "model_module": "@jupyter-widgets/controls",
      "model_module_version": "1.1.0",
      "model_name": "IntTextModel",
      "state": {
       "description": "Thiophosphates & OMe at the 5'-end",
       "layout": "IPY_MODEL_8e7c91722b2d4de5815b4ce659911fe4",
       "step": 1,
       "style": "IPY_MODEL_fddc1644496446c092079a98f81b1854",
       "value": 5
      }
     },
     "a2fa5bab229e4937b8542e5f10b605e1": {
      "model_module": "@jupyter-widgets/controls",
      "model_module_version": "1.1.0",
      "model_name": "DescriptionStyleModel",
      "state": {
       "description_width": "initial"
      }
     },
     "a37330cf17cf4338aaabd7537f877b4e": {
      "model_module": "@jupyter-widgets/controls",
      "model_module_version": "1.1.0",
      "model_name": "TextModel",
      "state": {
       "description": "Sequence",
       "layout": "IPY_MODEL_cf68883c94a84867963c73ec8d5daceb",
       "placeholder": "Enter your RNA sequence",
       "style": "IPY_MODEL_c1c03784317c4b44b2a4400b35326e4e"
      }
     },
     "a3b2ec39b0c3412397e020c444ae0748": {
      "model_module": "@jupyter-widgets/controls",
      "model_module_version": "1.1.0",
      "model_name": "IntTextModel",
      "state": {
       "description": "Thiophosphates & OMe at the 5'-end",
       "layout": "IPY_MODEL_00abc2f16324451ba8cd2056efefa024",
       "step": 1,
       "style": "IPY_MODEL_82e24ec8e47b47078c97e898498b0048",
       "value": 1
      }
     },
     "a3c3c6d654ee43bea389f1d908d20454": {
      "model_module": "@jupyter-widgets/controls",
      "model_module_version": "1.1.0",
      "model_name": "CheckboxModel",
      "state": {
       "description": "Thiophosphorylated",
       "disabled": false,
       "layout": "IPY_MODEL_24bfe33c14a3426ea9fa559012f14cae",
       "style": "IPY_MODEL_a95250888d104037a8f41d9a79f701a7",
       "value": false
      }
     },
     "a3cb6e80dede4e1b82fa50d13abaad21": {
      "model_module": "@jupyter-widgets/controls",
      "model_module_version": "1.1.0",
      "model_name": "DescriptionStyleModel",
      "state": {
       "description_width": "initial"
      }
     },
     "a3f2626e59044f2aa59f70df926d9346": {
      "model_module": "@jupyter-widgets/controls",
      "model_module_version": "1.1.0",
      "model_name": "DescriptionStyleModel",
      "state": {
       "description_width": "initial"
      }
     },
     "a4028683e12e49b8a79b625fcecf6c0e": {
      "model_module": "@jupyter-widgets/base",
      "model_module_version": "1.0.0",
      "model_name": "LayoutModel",
      "state": {}
     },
     "a4aa663ed970445ba7276a093a0151d2": {
      "model_module": "@jupyter-widgets/controls",
      "model_module_version": "1.1.0",
      "model_name": "DescriptionStyleModel",
      "state": {
       "description_width": ""
      }
     },
     "a4cbbc2bb0724e9cb44a526cf1ca7446": {
      "model_module": "@jupyter-widgets/controls",
      "model_module_version": "1.1.0",
      "model_name": "DescriptionStyleModel",
      "state": {
       "description_width": "initial"
      }
     },
     "a4d7616626c84fcea9d0df4a1e774a37": {
      "model_module": "@jupyter-widgets/controls",
      "model_module_version": "1.1.0",
      "model_name": "CheckboxModel",
      "state": {
       "description": "Thiophosphorylated",
       "disabled": false,
       "layout": "IPY_MODEL_8d908b243f264ac68e1fa67a81ac2c48",
       "style": "IPY_MODEL_6bd7ffab7f934ce5a0796a96c81c153d",
       "value": false
      }
     },
     "a5cfa9982fd64ea9a2fefb87545589b6": {
      "model_module": "@jupyter-widgets/controls",
      "model_module_version": "1.1.0",
      "model_name": "RadioButtonsModel",
      "state": {
       "_options_labels": [
        "OH",
        "Methyl",
        "Fluoro"
       ],
       "description": "2'-",
       "index": 0,
       "layout": "IPY_MODEL_c2a3965a482f4cd29e655bed926be829",
       "style": "IPY_MODEL_52d543b1b63a442bac3f904d944cc403"
      }
     },
     "a5ee257bf9c348428cd6404311ee690a": {
      "model_module": "@jupyter-widgets/controls",
      "model_module_version": "1.1.0",
      "model_name": "DescriptionStyleModel",
      "state": {
       "description_width": ""
      }
     },
     "a6ac7801cf4d4671933196dff6d1cd38": {
      "model_module": "@jupyter-widgets/controls",
      "model_module_version": "1.1.0",
      "model_name": "DescriptionStyleModel",
      "state": {
       "description_width": "initial"
      }
     },
     "a6d31abe1b4143609d6ec840886a220a": {
      "model_module": "@jupyter-widgets/controls",
      "model_module_version": "1.1.0",
      "model_name": "IntTextModel",
      "state": {
       "description": "Thiophosphates & OMe at the 5'-end",
       "layout": "IPY_MODEL_ff51e94b169c44a588e52f1a252cdc3e",
       "step": 1,
       "style": "IPY_MODEL_e4e9b0195ce443e79f56cfd4f4de1938",
       "value": 3
      }
     },
     "a700ae22c82842c9ba02982be7a49800": {
      "model_module": "@jupyter-widgets/controls",
      "model_module_version": "1.1.0",
      "model_name": "DescriptionStyleModel",
      "state": {
       "description_width": "initial"
      }
     },
     "a75ae2b5fc2c49da981e5a8a05b1d4df": {
      "model_module": "@jupyter-widgets/base",
      "model_module_version": "1.0.0",
      "model_name": "LayoutModel",
      "state": {}
     },
     "a7dfc3069aef4ed59f56543df7eec07e": {
      "model_module": "@jupyter-widgets/controls",
      "model_module_version": "1.1.0",
      "model_name": "DescriptionStyleModel",
      "state": {
       "description_width": "initial"
      }
     },
     "a7ee73d4737446fd92d74e2438a9f831": {
      "model_module": "@jupyter-widgets/base",
      "model_module_version": "1.0.0",
      "model_name": "LayoutModel",
      "state": {}
     },
     "a7fb131cb3464355b5f02546ce6e9fb5": {
      "model_module": "@jupyter-widgets/base",
      "model_module_version": "1.0.0",
      "model_name": "LayoutModel",
      "state": {}
     },
     "a818754fa6c84cd2a5dbc5470b048272": {
      "model_module": "@jupyter-widgets/controls",
      "model_module_version": "1.1.0",
      "model_name": "IntTextModel",
      "state": {
       "description": "Any:",
       "layout": "IPY_MODEL_4834b94f89a24c9284dc50a856c579c0",
       "step": 1,
       "style": "IPY_MODEL_ff0b68194ae14339ab3596d65623b3e9",
       "value": 3
      }
     },
     "a82411b30704492099629f022d22a6f8": {
      "model_module": "@jupyter-widgets/controls",
      "model_module_version": "1.1.0",
      "model_name": "DescriptionStyleModel",
      "state": {
       "description_width": "initial"
      }
     },
     "a83f83b46b2c4e95ba013a7ac92aef6f": {
      "model_module": "@jupyter-widgets/controls",
      "model_module_version": "1.1.0",
      "model_name": "IntTextModel",
      "state": {
       "description": "Thiophosphates & OMe at the 3'-end",
       "layout": "IPY_MODEL_628c0eec900c4a739b416bfc7dcc7ba8",
       "step": 1,
       "style": "IPY_MODEL_e3ca7933a1d747d6ad240a6dd0a2385f",
       "value": 3
      }
     },
     "a86de03612f54115bcb07f026b401c09": {
      "model_module": "@jupyter-widgets/base",
      "model_module_version": "1.0.0",
      "model_name": "LayoutModel",
      "state": {}
     },
     "a907dd59196c41ddaa7a8dc6e46ebfde": {
      "model_module": "@jupyter-widgets/controls",
      "model_module_version": "1.1.0",
      "model_name": "DescriptionStyleModel",
      "state": {
       "description_width": "initial"
      }
     },
     "a931c5eb0b304ffea04d9ebc20b39e05": {
      "model_module": "@jupyter-widgets/base",
      "model_module_version": "1.0.0",
      "model_name": "LayoutModel",
      "state": {}
     },
     "a95250888d104037a8f41d9a79f701a7": {
      "model_module": "@jupyter-widgets/controls",
      "model_module_version": "1.1.0",
      "model_name": "DescriptionStyleModel",
      "state": {
       "description_width": ""
      }
     },
     "a9c733c943ba46ccace62e0139086228": {
      "model_module": "@jupyter-widgets/controls",
      "model_module_version": "1.1.0",
      "model_name": "IntTextModel",
      "state": {
       "description": "Thiophosphates & OMe at the 5'-end",
       "layout": "IPY_MODEL_78ceef851d4948ec9940b627c00371a0",
       "step": 1,
       "style": "IPY_MODEL_6592c680e9aa4dfb872e5af71db856d7",
       "value": 3
      }
     },
     "a9ef435c24a149b69063e959d9c74f85": {
      "model_module": "@jupyter-widgets/controls",
      "model_module_version": "1.1.0",
      "model_name": "DescriptionStyleModel",
      "state": {
       "description_width": ""
      }
     },
     "aa93dbdd7ac24bba8cc1d775014b86c4": {
      "model_module": "@jupyter-widgets/controls",
      "model_module_version": "1.1.0",
      "model_name": "DescriptionStyleModel",
      "state": {
       "description_width": "initial"
      }
     },
     "ab21d8f706cf402a8b696c6d208eccae": {
      "model_module": "@jupyter-widgets/base",
      "model_module_version": "1.0.0",
      "model_name": "LayoutModel",
      "state": {}
     },
     "ab84f34c411948aaa18603477d60b053": {
      "model_module": "@jupyter-widgets/controls",
      "model_module_version": "1.1.0",
      "model_name": "DescriptionStyleModel",
      "state": {
       "description_width": "initial"
      }
     },
     "abff5130ec28449aa0e5739c0459a04d": {
      "model_module": "@jupyter-widgets/base",
      "model_module_version": "1.0.0",
      "model_name": "LayoutModel",
      "state": {}
     },
     "ac3199288a8b45ea83c45743aa2ceb42": {
      "model_module": "@jupyter-widgets/controls",
      "model_module_version": "1.1.0",
      "model_name": "DescriptionStyleModel",
      "state": {
       "description_width": ""
      }
     },
     "accbdf68b98d43a196f4c13ec1b344f8": {
      "model_module": "@jupyter-widgets/controls",
      "model_module_version": "1.1.0",
      "model_name": "DescriptionStyleModel",
      "state": {
       "description_width": "initial"
      }
     },
     "ace2ed5f7ab94ebd85c9d07316660dbd": {
      "model_module": "@jupyter-widgets/base",
      "model_module_version": "1.0.0",
      "model_name": "LayoutModel",
      "state": {}
     },
     "acf924ddffe94f8db8de5b0a67358a42": {
      "model_module": "@jupyter-widgets/controls",
      "model_module_version": "1.1.0",
      "model_name": "DescriptionStyleModel",
      "state": {
       "description_width": ""
      }
     },
     "acff7aa19d90463f86670669430ee5c5": {
      "model_module": "@jupyter-widgets/base",
      "model_module_version": "1.0.0",
      "model_name": "LayoutModel",
      "state": {}
     },
     "ad0d21002c114d1ba4c4afcba9dac292": {
      "model_module": "@jupyter-widgets/controls",
      "model_module_version": "1.1.0",
      "model_name": "DescriptionStyleModel",
      "state": {
       "description_width": ""
      }
     },
     "adb6951c29964e16ab0aad127a9970a6": {
      "model_module": "@jupyter-widgets/controls",
      "model_module_version": "1.1.0",
      "model_name": "DescriptionStyleModel",
      "state": {
       "description_width": "initial"
      }
     },
     "adcb36fed4f24e20ba3d111ba686b344": {
      "model_module": "@jupyter-widgets/controls",
      "model_module_version": "1.1.0",
      "model_name": "TextModel",
      "state": {
       "description": "Sequence",
       "layout": "IPY_MODEL_8ecb3b86ee5347a9864c119c2fa81b48",
       "placeholder": "Enter your RNA sequence",
       "style": "IPY_MODEL_8440928c42274389afdc24faf8332908",
       "value": "AGCT"
      }
     },
     "ade8caf9e2f744eabe09105e9582a460": {
      "model_module": "@jupyter-widgets/controls",
      "model_module_version": "1.1.0",
      "model_name": "DescriptionStyleModel",
      "state": {
       "description_width": "initial"
      }
     },
     "afd2bb7f76f04169997f7985f50c514b": {
      "model_module": "@jupyter-widgets/controls",
      "model_module_version": "1.1.0",
      "model_name": "DescriptionStyleModel",
      "state": {
       "description_width": "initial"
      }
     },
     "b1106593604f49dc9313c383aa60bc69": {
      "model_module": "@jupyter-widgets/controls",
      "model_module_version": "1.1.0",
      "model_name": "IntTextModel",
      "state": {
       "description": "Any:",
       "layout": "IPY_MODEL_d757f2c90ff941608cb46fed664bb758",
       "step": 1,
       "style": "IPY_MODEL_080aaac0f7eb43e59e37f5508d62fa66",
       "value": 9
      }
     },
     "b12f867d3a6e445f8d2de80c7a5cce85": {
      "model_module": "@jupyter-widgets/base",
      "model_module_version": "1.0.0",
      "model_name": "LayoutModel",
      "state": {}
     },
     "b203e24c1c4546cca5f10cb7ec43b11b": {
      "model_module": "@jupyter-widgets/controls",
      "model_module_version": "1.1.0",
      "model_name": "DescriptionStyleModel",
      "state": {
       "description_width": "initial"
      }
     },
     "b208de9730d44e36a535881ec1a35dc1": {
      "model_module": "@jupyter-widgets/controls",
      "model_module_version": "1.1.0",
      "model_name": "CheckboxModel",
      "state": {
       "description": "Thiophosphorylated",
       "disabled": false,
       "layout": "IPY_MODEL_5e8d71ebdb0d4b99a1455d6cf3be4c99",
       "style": "IPY_MODEL_f000cc743747478383db0b1e95f62966",
       "value": false
      }
     },
     "b31840733ade490984dfad9a04be216e": {
      "model_module": "@jupyter-widgets/controls",
      "model_module_version": "1.1.0",
      "model_name": "IntTextModel",
      "state": {
       "description": "Number of thiophosphates at the 5'-end",
       "layout": "IPY_MODEL_433abda073c1465c8fae7309c37a76c5",
       "step": 1,
       "style": "IPY_MODEL_93e70fe214744f9c9e539203d1a94304",
       "value": 3
      }
     },
     "b37bb1746f8c4fcfa797cf1d6f1ed534": {
      "model_module": "@jupyter-widgets/controls",
      "model_module_version": "1.1.0",
      "model_name": "TextModel",
      "state": {
       "layout": "IPY_MODEL_1d41a60698264d6491d586dd8e04cc2e",
       "style": "IPY_MODEL_21c0fb49a56f465ba3ea3465e9cc1d26"
      }
     },
     "b3d5f0d054504fdbb75027be9d4e0b2e": {
      "model_module": "@jupyter-widgets/base",
      "model_module_version": "1.0.0",
      "model_name": "LayoutModel",
      "state": {}
     },
     "b3e315b1c67844f6a5b0eb15a4fa49f1": {
      "model_module": "@jupyter-widgets/controls",
      "model_module_version": "1.1.0",
      "model_name": "IntTextModel",
      "state": {
       "description": "Thiophosphates & OMe at the 3'-end",
       "layout": "IPY_MODEL_23a55540c80942f38ed050b78d14010c",
       "step": 1,
       "style": "IPY_MODEL_e8e5d9002382442ab5607d0e8f24c70e",
       "value": 3
      }
     },
     "b4f3694dc8764fd786d695581d3904a2": {
      "model_module": "@jupyter-widgets/controls",
      "model_module_version": "1.1.0",
      "model_name": "RadioButtonsModel",
      "state": {
       "_options_labels": [
        "OH",
        "Methyl",
        "Fluoro"
       ],
       "description": "2'-",
       "index": 0,
       "layout": "IPY_MODEL_254b3cfd069944af9e01b88f830d1c29",
       "style": "IPY_MODEL_46fcfc546d2b4001bb49f4040cc44981"
      }
     },
     "b532075595794f5cbfba7355212ea354": {
      "model_module": "@jupyter-widgets/controls",
      "model_module_version": "1.1.0",
      "model_name": "DescriptionStyleModel",
      "state": {
       "description_width": ""
      }
     },
     "b54a126d15cc491ba01b03dd8282e50a": {
      "model_module": "@jupyter-widgets/base",
      "model_module_version": "1.0.0",
      "model_name": "LayoutModel",
      "state": {}
     },
     "b59cb3580ba34881ad59cea0974ef649": {
      "model_module": "@jupyter-widgets/controls",
      "model_module_version": "1.1.0",
      "model_name": "DescriptionStyleModel",
      "state": {
       "description_width": ""
      }
     },
     "b5cd437d374148709b1ea12c0ec1b398": {
      "model_module": "@jupyter-widgets/controls",
      "model_module_version": "1.1.0",
      "model_name": "IntTextModel",
      "state": {
       "description": "and before position:",
       "layout": "IPY_MODEL_a75ae2b5fc2c49da981e5a8a05b1d4df",
       "step": 1,
       "style": "IPY_MODEL_a7dfc3069aef4ed59f56543df7eec07e"
      }
     },
     "b5cfcd9f42e746c6ab0877b599eb0322": {
      "model_module": "@jupyter-widgets/controls",
      "model_module_version": "1.1.0",
      "model_name": "IntTextModel",
      "state": {
       "description": "Insert after position:",
       "layout": "IPY_MODEL_155b91a2d0804677955038e12c060d95",
       "step": 1,
       "style": "IPY_MODEL_3207228d95d64d2988b486f21fbf1881"
      }
     },
     "b5e3a20401fa4617837f7d016d5cc28f": {
      "model_module": "@jupyter-widgets/controls",
      "model_module_version": "1.1.0",
      "model_name": "DescriptionStyleModel",
      "state": {
       "description_width": ""
      }
     },
     "b5e449c3eb1644249734462acad0221c": {
      "model_module": "@jupyter-widgets/controls",
      "model_module_version": "1.1.0",
      "model_name": "DescriptionStyleModel",
      "state": {
       "description_width": "initial"
      }
     },
     "b660bb31066a46d1b5f93cba59ea2d72": {
      "model_module": "@jupyter-widgets/controls",
      "model_module_version": "1.1.0",
      "model_name": "IntTextModel",
      "state": {
       "description": "Thiophosphates & OMe at the 5'-end",
       "layout": "IPY_MODEL_7f79ce0c523b47a38079786549d5b782",
       "step": 1,
       "style": "IPY_MODEL_5f8a23a351a74bdcb8ea2ac64341d68e",
       "value": 3
      }
     },
     "b6b897a757e0492da27ed4cbdf1e070b": {
      "model_module": "@jupyter-widgets/base",
      "model_module_version": "1.0.0",
      "model_name": "LayoutModel",
      "state": {}
     },
     "b6d4f612b204468bbc4322304d4e1d61": {
      "model_module": "@jupyter-widgets/controls",
      "model_module_version": "1.1.0",
      "model_name": "SelectModel",
      "state": {
       "_options_labels": [
        "None",
        "A",
        "C",
        "G",
        "U",
        "X"
       ],
       "description": "Base to insert:",
       "index": 3,
       "layout": "IPY_MODEL_443a61271b1846cfb20da06660612156",
       "style": "IPY_MODEL_b203e24c1c4546cca5f10cb7ec43b11b"
      }
     },
     "b6e4b238e43c42b49af0d0b89751f5e0": {
      "model_module": "@jupyter-widgets/base",
      "model_module_version": "1.0.0",
      "model_name": "LayoutModel",
      "state": {}
     },
     "b7cc7d4cb503430c9247de9c51dd4468": {
      "model_module": "@jupyter-widgets/controls",
      "model_module_version": "1.1.0",
      "model_name": "SliderStyleModel",
      "state": {
       "description_width": ""
      }
     },
     "b7d8953b92124e66ad95f6520f145ada": {
      "model_module": "@jupyter-widgets/controls",
      "model_module_version": "1.1.0",
      "model_name": "DescriptionStyleModel",
      "state": {
       "description_width": ""
      }
     },
     "b8082aa134444a00b96fa3ba7912b786": {
      "model_module": "@jupyter-widgets/controls",
      "model_module_version": "1.1.0",
      "model_name": "TextModel",
      "state": {
       "description": "Sequence",
       "layout": "IPY_MODEL_2afd2d0c24a14ec68e1b3bfa9747bb60",
       "placeholder": "Enter your RNA sequence",
       "style": "IPY_MODEL_c4d095fd892c43a6a2b8257b9cfecdea",
       "value": "-Gms-Ams-Ams-Aro-Gfo-Gro-Cro-Uro-Gro-Cro-Aro-Gro-Aro-Aro-Gro-Gro-Gro-Aro-Uro-Uro-Cro-Cro-Aro-Uro-Gro-Gro-Uro-Uro-Uro-Uro-Aro-Gro-Aro-Gro-Cro-Uro-Aro-Gro-Aro-Aro-Aro-Uro-Aro-Gro-Cro-Aro-Aro-Gro-Uro-Uro-Aro-Aro-Aro-Aro-Uro-Aro-Aro-Gro-Gro-Cro-Uro-Aro-Gro-Uro-Cro-Cro-Gro-Uro-Uro-Aro-Uro-Cro-Aro-Aro-Cro-Uro-Uro-Gro-Aro-Aro-Aro-Aro-Aro-Gro-Uro-Gro-Gro-Cro-Aro-Cro-Cro-Gro-Aro-Gro-Uro-Cro-Gro-Gro-Uro-Gro-Cro-Uro-Ums-Ums-Um"
      }
     },
     "b82b51f3898a43a98813577f63a03113": {
      "model_module": "@jupyter-widgets/base",
      "model_module_version": "1.0.0",
      "model_name": "LayoutModel",
      "state": {}
     },
     "b92b6d90d70343a6a505faaff27fdb6e": {
      "model_module": "@jupyter-widgets/controls",
      "model_module_version": "1.1.0",
      "model_name": "DescriptionStyleModel",
      "state": {
       "description_width": ""
      }
     },
     "b93e118bf4e04ff889d27ec38e9ddcdf": {
      "model_module": "@jupyter-widgets/base",
      "model_module_version": "1.0.0",
      "model_name": "LayoutModel",
      "state": {}
     },
     "b97804f69578416793280c53aea322bf": {
      "model_module": "@jupyter-widgets/controls",
      "model_module_version": "1.1.0",
      "model_name": "DescriptionStyleModel",
      "state": {
       "description_width": ""
      }
     },
     "b990d612defe4c3188ef0013ea355fe2": {
      "model_module": "@jupyter-widgets/controls",
      "model_module_version": "1.1.0",
      "model_name": "IntTextModel",
      "state": {
       "description": "Any:",
       "layout": "IPY_MODEL_c2a95586dcb8478897385583adefdb2f",
       "step": 1,
       "style": "IPY_MODEL_7c6eed007f724003a508b753cc799ca8",
       "value": 7
      }
     },
     "b9d74bf798394e0ea6d241d3664dafa3": {
      "model_module": "@jupyter-widgets/controls",
      "model_module_version": "1.1.0",
      "model_name": "IntTextModel",
      "state": {
       "description": "Insert after position:",
       "layout": "IPY_MODEL_5ba8dcfaa8a84ce497e504db23e8c1b1",
       "step": 1,
       "style": "IPY_MODEL_ab84f34c411948aaa18603477d60b053"
      }
     },
     "ba87e3978b374390bd51324db2160618": {
      "model_module": "@jupyter-widgets/base",
      "model_module_version": "1.0.0",
      "model_name": "LayoutModel",
      "state": {}
     },
     "baa5f27b2ff74b8ba149c53c03514403": {
      "model_module": "@jupyter-widgets/controls",
      "model_module_version": "1.1.0",
      "model_name": "IntTextModel",
      "state": {
       "description": "Thiophosphates & OMe at the 3'-end",
       "layout": "IPY_MODEL_7880618b79154e46afade3ba7800f6b0",
       "step": 1,
       "style": "IPY_MODEL_847dafa3821241ba8b26e7e21c43da1a",
       "value": 3
      }
     },
     "babef95afbbc43aeb0be45c14bb83fa7": {
      "model_module": "@jupyter-widgets/controls",
      "model_module_version": "1.1.0",
      "model_name": "TextModel",
      "state": {
       "description": "Sequence",
       "layout": "IPY_MODEL_efaf07410b464edbab5e3db0a1c603b1",
       "placeholder": "Enter your RNA sequence",
       "style": "IPY_MODEL_0b6172a6ae314af3bc2be99b42a96088",
       "value": "-Gms-Ams-Ams-Aro-Gfo-Gro-Cro-Uro-Gro-Cro-Aro-Gro-Aro-Aro-Gro-Gro-Gro-Aro-Uro-Uro-Cro-Cro-Aro-Uro-Gro-Gro-Uro-Uro-Uro-Uro-Aro-Gro-Aro-Gro-Cro-Uro-Aro-Gro-Aro-Aro-Aro-Uro-Aro-Gro-Cro-Aro-Aro-Gro-Uro-Uro-Aro-Aro-Aro-Aro-Uro-Aro-Aro-Gro-Gro-Cro-Uro-Aro-Gro-Uro-Cro-Cro-Gro-Uro-Uro-Aro-Uro-Cro-Aro-Aro-Cro-Uro-Uro-Gro-Aro-Aro-Aro-Aro-Aro-Gro-Uro-Gro-Gro-Cro-Aro-Cro-Cro-Gro-Aro-Gro-Uro-Cro-Gro-Gro-Uro-Gro-Cro-Uro-Ums-Ums-Um"
      }
     },
     "bacd117d7cf941e884d1ce4923816027": {
      "model_module": "@jupyter-widgets/controls",
      "model_module_version": "1.1.0",
      "model_name": "IntTextModel",
      "state": {
       "description": "and before position:",
       "layout": "IPY_MODEL_d3c7822c26e0412ea4a33327fa35a5f3",
       "step": 1,
       "style": "IPY_MODEL_1d45529b468948ad86bb4a814b48c7b3",
       "value": 10
      }
     },
     "bb241c4352e1465683b013f1f4aaa3c6": {
      "model_module": "@jupyter-widgets/controls",
      "model_module_version": "1.1.0",
      "model_name": "DescriptionStyleModel",
      "state": {
       "description_width": "initial"
      }
     },
     "bb741c4ac6644560b2b5afdfa968fcb1": {
      "model_module": "@jupyter-widgets/controls",
      "model_module_version": "1.1.0",
      "model_name": "DescriptionStyleModel",
      "state": {
       "description_width": "initial"
      }
     },
     "bb90637f21714ffa9332b1a2e07e6b78": {
      "model_module": "@jupyter-widgets/base",
      "model_module_version": "1.0.0",
      "model_name": "LayoutModel",
      "state": {}
     },
     "bbc135e305d644619ee04bf213d3c39e": {
      "model_module": "@jupyter-widgets/controls",
      "model_module_version": "1.1.0",
      "model_name": "DescriptionStyleModel",
      "state": {
       "description_width": ""
      }
     },
     "bbc1ec5a29f54f9e8a0a51f0f6b96db4": {
      "model_module": "@jupyter-widgets/base",
      "model_module_version": "1.0.0",
      "model_name": "LayoutModel",
      "state": {}
     },
     "bc695dbf0a0c4d129badb7abe4b472dd": {
      "model_module": "@jupyter-widgets/controls",
      "model_module_version": "1.1.0",
      "model_name": "IntTextModel",
      "state": {
       "description": "Thiophosphates & OMe at the 5'-end",
       "layout": "IPY_MODEL_c0bad3946cf24cb7a509792559b22f97",
       "step": 1,
       "style": "IPY_MODEL_c28231ec3756422f9058d328a54628c0"
      }
     },
     "bc793f2bf3e849419fd01c94bde665cf": {
      "model_module": "@jupyter-widgets/base",
      "model_module_version": "1.0.0",
      "model_name": "LayoutModel",
      "state": {}
     },
     "bc8b9d918b5342ac99f2025015c937bf": {
      "model_module": "@jupyter-widgets/controls",
      "model_module_version": "1.1.0",
      "model_name": "RadioButtonsModel",
      "state": {
       "_options_labels": [
        "OH",
        "Methyl",
        "Fluoro"
       ],
       "description": "2'-",
       "index": 0,
       "layout": "IPY_MODEL_72b3d46ab36444be8048304f69a1f217",
       "style": "IPY_MODEL_1174b4c248904334a3345cbac8ee1ba1"
      }
     },
     "bd30ee993c244578a7847df6a35c09e4": {
      "model_module": "@jupyter-widgets/base",
      "model_module_version": "1.0.0",
      "model_name": "LayoutModel",
      "state": {}
     },
     "bd667a6e83c2462ab0ee480904e465cc": {
      "model_module": "@jupyter-widgets/controls",
      "model_module_version": "1.1.0",
      "model_name": "IntTextModel",
      "state": {
       "description": "Insert after position:",
       "layout": "IPY_MODEL_ee8330eb6d7a4223a53ddcfc89d8a9e1",
       "step": 1,
       "style": "IPY_MODEL_4082a8f4476c4ba88f4dd42fadd33a6f"
      }
     },
     "bd7501d635d441f0a2989fc0e7d953c0": {
      "model_module": "@jupyter-widgets/base",
      "model_module_version": "1.0.0",
      "model_name": "LayoutModel",
      "state": {}
     },
     "bd81f5848a4e4e679a6dfd99180aa39b": {
      "model_module": "@jupyter-widgets/controls",
      "model_module_version": "1.1.0",
      "model_name": "DescriptionStyleModel",
      "state": {
       "description_width": "initial"
      }
     },
     "bd9295b2a3a84e7c8a826a7a8183fc9f": {
      "model_module": "@jupyter-widgets/controls",
      "model_module_version": "1.1.0",
      "model_name": "CheckboxModel",
      "state": {
       "description": "Thiophosphorylated",
       "disabled": false,
       "layout": "IPY_MODEL_60968a2191404b9cb757382166285283",
       "style": "IPY_MODEL_c0fde9cb41b14aa0a64747c9625a2dad",
       "value": false
      }
     },
     "bdf40bc7a9c04e8da5ee5544551f739a": {
      "model_module": "@jupyter-widgets/base",
      "model_module_version": "1.0.0",
      "model_name": "LayoutModel",
      "state": {}
     },
     "be28f845caf640c18d329531a0017ae2": {
      "model_module": "@jupyter-widgets/controls",
      "model_module_version": "1.1.0",
      "model_name": "DescriptionStyleModel",
      "state": {
       "description_width": ""
      }
     },
     "be6bc11c9a3c4e4cb0c7d4a49168b2c0": {
      "model_module": "@jupyter-widgets/controls",
      "model_module_version": "1.1.0",
      "model_name": "RadioButtonsModel",
      "state": {
       "_options_labels": [
        "OH",
        "Methyl",
        "Fluoro"
       ],
       "description": "2'-",
       "index": 2,
       "layout": "IPY_MODEL_089bdcf46cb8469dbfd5f8e4b8ba4bbb",
       "style": "IPY_MODEL_f172e77efb7645e787da1070e41de237"
      }
     },
     "bec9a337fc1f4bc8a9c7c3a61a583d9d": {
      "model_module": "@jupyter-widgets/controls",
      "model_module_version": "1.1.0",
      "model_name": "DescriptionStyleModel",
      "state": {
       "description_width": "initial"
      }
     },
     "bef977f444774ef39e11fe84e8a6358f": {
      "model_module": "@jupyter-widgets/controls",
      "model_module_version": "1.1.0",
      "model_name": "DescriptionStyleModel",
      "state": {
       "description_width": ""
      }
     },
     "bf0cda97060544ffa703336b331bcc3a": {
      "model_module": "@jupyter-widgets/controls",
      "model_module_version": "1.1.0",
      "model_name": "RadioButtonsModel",
      "state": {
       "_options_labels": [
        "r",
        "m",
        "f"
       ],
       "description": "2'-",
       "index": 0,
       "layout": "IPY_MODEL_cd651f621b584bb89b5e6802df56ade5",
       "style": "IPY_MODEL_4128c06ecabe45d29d79aef36888f62f"
      }
     },
     "bf16a4a7dcdf4c3fa5387be53257ae8e": {
      "model_module": "@jupyter-widgets/base",
      "model_module_version": "1.0.0",
      "model_name": "LayoutModel",
      "state": {}
     },
     "bf4fa7d354ff4b0ca652502cd1958111": {
      "model_module": "@jupyter-widgets/base",
      "model_module_version": "1.0.0",
      "model_name": "LayoutModel",
      "state": {}
     },
     "c0bad3946cf24cb7a509792559b22f97": {
      "model_module": "@jupyter-widgets/base",
      "model_module_version": "1.0.0",
      "model_name": "LayoutModel",
      "state": {}
     },
     "c0fde9cb41b14aa0a64747c9625a2dad": {
      "model_module": "@jupyter-widgets/controls",
      "model_module_version": "1.1.0",
      "model_name": "DescriptionStyleModel",
      "state": {
       "description_width": ""
      }
     },
     "c1179ee180fd4952940f15ac5f208cf3": {
      "model_module": "@jupyter-widgets/controls",
      "model_module_version": "1.1.0",
      "model_name": "DropdownModel",
      "state": {
       "_options_labels": [
        "",
        "A",
        "C",
        "G",
        "U",
        "X"
       ],
       "description": "Base: to insert",
       "index": 0,
       "layout": "IPY_MODEL_3fbdefcd6267438284bd1c75a12f660a",
       "style": "IPY_MODEL_cb9acd79290442c3b6e2d868ae7ce9e8"
      }
     },
     "c1c03784317c4b44b2a4400b35326e4e": {
      "model_module": "@jupyter-widgets/controls",
      "model_module_version": "1.1.0",
      "model_name": "DescriptionStyleModel",
      "state": {
       "description_width": ""
      }
     },
     "c1c66cac1e644a32b0c826ff8c1ab1a4": {
      "model_module": "@jupyter-widgets/controls",
      "model_module_version": "1.1.0",
      "model_name": "DescriptionStyleModel",
      "state": {
       "description_width": "initial"
      }
     },
     "c28231ec3756422f9058d328a54628c0": {
      "model_module": "@jupyter-widgets/controls",
      "model_module_version": "1.1.0",
      "model_name": "DescriptionStyleModel",
      "state": {
       "description_width": "initial"
      }
     },
     "c29a3fee5ed14b74b18eb82ef31441cb": {
      "model_module": "@jupyter-widgets/controls",
      "model_module_version": "1.1.0",
      "model_name": "CheckboxModel",
      "state": {
       "description": "Thiophosphorylated",
       "disabled": false,
       "layout": "IPY_MODEL_618a4eb1a85a467dae25d00724a6921a",
       "style": "IPY_MODEL_edc95be5fe5f4a989157976a4e05074c",
       "value": false
      }
     },
     "c2a3965a482f4cd29e655bed926be829": {
      "model_module": "@jupyter-widgets/base",
      "model_module_version": "1.0.0",
      "model_name": "LayoutModel",
      "state": {}
     },
     "c2a95586dcb8478897385583adefdb2f": {
      "model_module": "@jupyter-widgets/base",
      "model_module_version": "1.0.0",
      "model_name": "LayoutModel",
      "state": {}
     },
     "c2f3ad682d704083a9c56db679cd5942": {
      "model_module": "@jupyter-widgets/controls",
      "model_module_version": "1.1.0",
      "model_name": "IntTextModel",
      "state": {
       "description": "and before position:",
       "layout": "IPY_MODEL_9a63181b30dc4edb975d5e7b473f111d",
       "step": 1,
       "style": "IPY_MODEL_800274484bc14f22b553b93f9d56ca92"
      }
     },
     "c32eee2a5db9454cb093e4a805ad8378": {
      "model_module": "@jupyter-widgets/controls",
      "model_module_version": "1.1.0",
      "model_name": "DescriptionStyleModel",
      "state": {
       "description_width": "initial"
      }
     },
     "c36eeda3f4614776a1906fb5a053df3d": {
      "model_module": "@jupyter-widgets/controls",
      "model_module_version": "1.1.0",
      "model_name": "IntTextModel",
      "state": {
       "description": "Thiophosphates & OMe at the 5'-end",
       "layout": "IPY_MODEL_ee06018e83674b40898556568e3364a5",
       "step": 1,
       "style": "IPY_MODEL_95be77756d9f41ea9bf69ccb872e4cd2",
       "value": 3
      }
     },
     "c386c00e85d84a908c78b2dcac28463b": {
      "model_module": "@jupyter-widgets/controls",
      "model_module_version": "1.1.0",
      "model_name": "TextModel",
      "state": {
       "layout": "IPY_MODEL_7bd0817ad3aa40e9a360a3f33c395ba2",
       "style": "IPY_MODEL_c5fb59b2a2d04db79cef6ec04eb66154"
      }
     },
     "c3874f10ae8d4c89b662f07e143403e7": {
      "model_module": "@jupyter-widgets/controls",
      "model_module_version": "1.1.0",
      "model_name": "DescriptionStyleModel",
      "state": {
       "description_width": "initial"
      }
     },
     "c39f16aa4b314b8ba3cbfe361a43c576": {
      "model_module": "@jupyter-widgets/base",
      "model_module_version": "1.0.0",
      "model_name": "LayoutModel",
      "state": {}
     },
     "c3caf1d41bf2489a952d5da66b3a87da": {
      "model_module": "@jupyter-widgets/base",
      "model_module_version": "1.0.0",
      "model_name": "LayoutModel",
      "state": {}
     },
     "c3e48fc00be344db91b718b12add17fd": {
      "model_module": "@jupyter-widgets/controls",
      "model_module_version": "1.1.0",
      "model_name": "DescriptionStyleModel",
      "state": {
       "description_width": "initial"
      }
     },
     "c41e414a3d3f41d784ca58c315f72b49": {
      "model_module": "@jupyter-widgets/controls",
      "model_module_version": "1.1.0",
      "model_name": "DescriptionStyleModel",
      "state": {
       "description_width": "initial"
      }
     },
     "c425ccbb6fd14a55810951db9421d986": {
      "model_module": "@jupyter-widgets/controls",
      "model_module_version": "1.1.0",
      "model_name": "DescriptionStyleModel",
      "state": {
       "description_width": "initial"
      }
     },
     "c43a73b8cbf547d58157fd240aa88c65": {
      "model_module": "@jupyter-widgets/controls",
      "model_module_version": "1.1.0",
      "model_name": "DescriptionStyleModel",
      "state": {
       "description_width": ""
      }
     },
     "c495ae89f3c24593a53a2b01cea28260": {
      "model_module": "@jupyter-widgets/controls",
      "model_module_version": "1.1.0",
      "model_name": "IntSliderModel",
      "state": {
       "layout": "IPY_MODEL_37530872c1a84b45a00a9fd7a2e29c9e",
       "style": "IPY_MODEL_b7cc7d4cb503430c9247de9c51dd4468",
       "value": 74
      }
     },
     "c4d095fd892c43a6a2b8257b9cfecdea": {
      "model_module": "@jupyter-widgets/controls",
      "model_module_version": "1.1.0",
      "model_name": "DescriptionStyleModel",
      "state": {
       "description_width": ""
      }
     },
     "c4dc5a20d02246c0835142050ec98f18": {
      "model_module": "@jupyter-widgets/controls",
      "model_module_version": "1.1.0",
      "model_name": "TextModel",
      "state": {
       "layout": "IPY_MODEL_0c6f074b8e7e4b6daba10adeb2505462",
       "style": "IPY_MODEL_78d3de05fa9f4f23b9e1e0f278dfb8f8",
       "value": "sfwww"
      }
     },
     "c53a7c7d04814999b591ba5a90dbaa1f": {
      "model_module": "@jupyter-widgets/controls",
      "model_module_version": "1.1.0",
      "model_name": "TextModel",
      "state": {
       "description": "Sequence",
       "layout": "IPY_MODEL_6144fc3395e748a491d26b626f9c3b15",
       "placeholder": "Enter your RNA sequence",
       "style": "IPY_MODEL_57b57fb6aec644d39fde88096dee3312",
       "value": "GAAAGCUGCAGAAGGGAUUCCAUGGUUUUAGAGCUAGAAAUAGCAAGUUAAAAUAAGGCUAGUCCGUUAUCAACUUGAAAAAGUGGCACCGAGUCGGUGCUUUU"
      }
     },
     "c555dbd581f746179d243f117b87814a": {
      "model_module": "@jupyter-widgets/controls",
      "model_module_version": "1.1.0",
      "model_name": "IntTextModel",
      "state": {
       "description": "Thiophosphates & OMe at the 3'-end",
       "layout": "IPY_MODEL_83c6b4f47563426fae59378f7ad022a8",
       "step": 1,
       "style": "IPY_MODEL_a3cb6e80dede4e1b82fa50d13abaad21"
      }
     },
     "c55f9a3299e048e8a563d59a254bff72": {
      "model_module": "@jupyter-widgets/controls",
      "model_module_version": "1.1.0",
      "model_name": "DescriptionStyleModel",
      "state": {
       "description_width": ""
      }
     },
     "c56e0f16826d454abbe680f7f3fb614c": {
      "model_module": "@jupyter-widgets/controls",
      "model_module_version": "1.1.0",
      "model_name": "IntTextModel",
      "state": {
       "description": "Insert at position:",
       "layout": "IPY_MODEL_fc56d1a0130240a2996fcb8ce5468f0e",
       "step": 1,
       "style": "IPY_MODEL_a700ae22c82842c9ba02982be7a49800"
      }
     },
     "c592bfd2edf94616b6f0e47dd72e9382": {
      "model_module": "@jupyter-widgets/output",
      "model_module_version": "1.0.0",
      "model_name": "OutputModel",
      "state": {
       "layout": "IPY_MODEL_c8c39179c51a48e69cdd36dcc68c1d4f",
       "outputs": [
        {
         "name": "stdout",
         "output_type": "stream",
         "text": "(83, 78, 74)\n"
        }
       ]
      }
     },
     "c5fab00e5abb4ccf9834e2dbea72d1c1": {
      "model_module": "@jupyter-widgets/controls",
      "model_module_version": "1.1.0",
      "model_name": "DescriptionStyleModel",
      "state": {
       "description_width": "initial"
      }
     },
     "c5fb59b2a2d04db79cef6ec04eb66154": {
      "model_module": "@jupyter-widgets/controls",
      "model_module_version": "1.1.0",
      "model_name": "DescriptionStyleModel",
      "state": {
       "description_width": ""
      }
     },
     "c63fea5c98da4d3e8a359f9e24737188": {
      "model_module": "@jupyter-widgets/base",
      "model_module_version": "1.0.0",
      "model_name": "LayoutModel",
      "state": {}
     },
     "c6d6af8bff0148da9b2a672992976dee": {
      "model_module": "@jupyter-widgets/controls",
      "model_module_version": "1.1.0",
      "model_name": "IntTextModel",
      "state": {
       "description": "and before position:",
       "layout": "IPY_MODEL_bdf40bc7a9c04e8da5ee5544551f739a",
       "step": 1,
       "style": "IPY_MODEL_adb6951c29964e16ab0aad127a9970a6",
       "value": 13
      }
     },
     "c7548ac14954482bb442873b860c5227": {
      "model_module": "@jupyter-widgets/controls",
      "model_module_version": "1.1.0",
      "model_name": "IntTextModel",
      "state": {
       "description": "Number of thiophosphates at the 5'-end",
       "layout": "IPY_MODEL_0b7bbaa55355423d84469f53d4cc5473",
       "step": 1,
       "style": "IPY_MODEL_7c69ca26b26a4fcf93680c102c83fcaf",
       "value": 3
      }
     },
     "c791b6ae4d37491daa5034341b9ff130": {
      "model_module": "@jupyter-widgets/base",
      "model_module_version": "1.0.0",
      "model_name": "LayoutModel",
      "state": {}
     },
     "c8c39179c51a48e69cdd36dcc68c1d4f": {
      "model_module": "@jupyter-widgets/base",
      "model_module_version": "1.0.0",
      "model_name": "LayoutModel",
      "state": {}
     },
     "c8d5b2ae66e2414f99adc00afd3fa51c": {
      "model_module": "@jupyter-widgets/controls",
      "model_module_version": "1.1.0",
      "model_name": "DescriptionStyleModel",
      "state": {
       "description_width": ""
      }
     },
     "c90f755878e84946849ae12a9bb71d63": {
      "model_module": "@jupyter-widgets/controls",
      "model_module_version": "1.1.0",
      "model_name": "CheckboxModel",
      "state": {
       "description": "Check me",
       "disabled": false,
       "layout": "IPY_MODEL_c63fea5c98da4d3e8a359f9e24737188",
       "style": "IPY_MODEL_227e249e7a72423eaabb2ac1141c8a50",
       "value": true
      }
     },
     "c94831746ab14eeda2294c2c2c8c5d24": {
      "model_module": "@jupyter-widgets/controls",
      "model_module_version": "1.1.0",
      "model_name": "CheckboxModel",
      "state": {
       "description": "Thiophosphorylated",
       "disabled": false,
       "layout": "IPY_MODEL_d28d85316a4848eaaeb6320266f9c209",
       "style": "IPY_MODEL_1677c6cf64d145a5a7f05fb7d4a4f5c0",
       "value": false
      }
     },
     "c9712483f17c4e5c80898041f45826da": {
      "model_module": "@jupyter-widgets/base",
      "model_module_version": "1.0.0",
      "model_name": "LayoutModel",
      "state": {}
     },
     "ca278d4de3154a7099c2afa0f0ddbe1d": {
      "model_module": "@jupyter-widgets/controls",
      "model_module_version": "1.1.0",
      "model_name": "IntTextModel",
      "state": {
       "description": "Insert after position:",
       "layout": "IPY_MODEL_d7ea2059ddd8487aa02b056f8651893b",
       "step": 1,
       "style": "IPY_MODEL_13d3c4dbd5b3401aa35121bc1d9afa28"
      }
     },
     "ca932b09784743efa0598062412505ab": {
      "model_module": "@jupyter-widgets/controls",
      "model_module_version": "1.1.0",
      "model_name": "DescriptionStyleModel",
      "state": {
       "description_width": ""
      }
     },
     "caa667dc40824640ad9dde7aa22f2ad9": {
      "model_module": "@jupyter-widgets/base",
      "model_module_version": "1.0.0",
      "model_name": "LayoutModel",
      "state": {}
     },
     "cad8794d60db4b03a1597e2355d1c71e": {
      "model_module": "@jupyter-widgets/controls",
      "model_module_version": "1.1.0",
      "model_name": "DescriptionStyleModel",
      "state": {
       "description_width": ""
      }
     },
     "caf0eee8eb2b46f085d86eaa07f62f9c": {
      "model_module": "@jupyter-widgets/controls",
      "model_module_version": "1.1.0",
      "model_name": "IntTextModel",
      "state": {
       "description": "Thiophosphates & OMe at the 3'-end",
       "layout": "IPY_MODEL_40d30f961be14ac89822f4d9f21c3906",
       "step": 1,
       "style": "IPY_MODEL_ce9bb1dc43a44f99a9c16c1125a3f016",
       "value": 3
      }
     },
     "cb9acd79290442c3b6e2d868ae7ce9e8": {
      "model_module": "@jupyter-widgets/controls",
      "model_module_version": "1.1.0",
      "model_name": "DescriptionStyleModel",
      "state": {
       "description_width": ""
      }
     },
     "cbdd85a43c944ac1a4db6f0886b61c85": {
      "model_module": "@jupyter-widgets/controls",
      "model_module_version": "1.1.0",
      "model_name": "SelectModel",
      "state": {
       "_options_labels": [
        "None",
        "A",
        "C",
        "G",
        "U",
        "X"
       ],
       "description": "Base to insert:",
       "index": 0,
       "layout": "IPY_MODEL_f333b843960443e4b95a00e06f356a09",
       "style": "IPY_MODEL_3002fddbc98d4c85bc0b81d94a1659cf"
      }
     },
     "cbf588fefa8e463dbdafd1eeff694df2": {
      "model_module": "@jupyter-widgets/controls",
      "model_module_version": "1.1.0",
      "model_name": "IntTextModel",
      "state": {
       "description": "Thiophosphates & OMe at the 3'-end",
       "layout": "IPY_MODEL_3f15e43f206f4263b1344a1d0a41b5be",
       "step": 1,
       "style": "IPY_MODEL_494bf4d8d16b4861abb3b0152b7c7cb9",
       "value": 3
      }
     },
     "cc4ac939b3f6481f994cd94ebdd17b27": {
      "model_module": "@jupyter-widgets/base",
      "model_module_version": "1.0.0",
      "model_name": "LayoutModel",
      "state": {}
     },
     "cca0b32769b1425aa819d42cfd723901": {
      "model_module": "@jupyter-widgets/controls",
      "model_module_version": "1.1.0",
      "model_name": "SelectModel",
      "state": {
       "_options_labels": [
        "None",
        "A",
        "C",
        "G",
        "U",
        "X"
       ],
       "description": "Base to insert:",
       "index": 4,
       "layout": "IPY_MODEL_922d2e43f7e34cc9be298901e4ccb051",
       "style": "IPY_MODEL_57b4f2f37c034231900938e25792de94"
      }
     },
     "cd5c14e37e3f465bae514bb6daa119eb": {
      "model_module": "@jupyter-widgets/base",
      "model_module_version": "1.0.0",
      "model_name": "LayoutModel",
      "state": {}
     },
     "cd651f621b584bb89b5e6802df56ade5": {
      "model_module": "@jupyter-widgets/base",
      "model_module_version": "1.0.0",
      "model_name": "LayoutModel",
      "state": {}
     },
     "cde2680e63df45a991ceda176a9389ae": {
      "model_module": "@jupyter-widgets/controls",
      "model_module_version": "1.1.0",
      "model_name": "DescriptionStyleModel",
      "state": {
       "description_width": "initial"
      }
     },
     "ce2d5f8be44640dd8358cf716481e6a4": {
      "model_module": "@jupyter-widgets/controls",
      "model_module_version": "1.1.0",
      "model_name": "IntTextModel",
      "state": {
       "description": "Thiophosphates & OMe at the 3'-end",
       "layout": "IPY_MODEL_ce71d79bc09040108b5188355ddd3ba6",
       "step": 1,
       "style": "IPY_MODEL_f0c1a75372d3421bb9c336e3d28ad50a",
       "value": 1
      }
     },
     "ce71d79bc09040108b5188355ddd3ba6": {
      "model_module": "@jupyter-widgets/base",
      "model_module_version": "1.0.0",
      "model_name": "LayoutModel",
      "state": {}
     },
     "ce76a941ed7848fca8d9cdffb77ad249": {
      "model_module": "@jupyter-widgets/controls",
      "model_module_version": "1.1.0",
      "model_name": "IntTextModel",
      "state": {
       "description": "Thiophosphates & OMe at the 5'-end",
       "layout": "IPY_MODEL_73a609d88bc84b4a995ded06962085a5",
       "step": 1,
       "style": "IPY_MODEL_6f72bc25969a4cd39b5c569a20a3b8ce",
       "value": 5
      }
     },
     "ce8cb8605a0b4f358b9a8245f0e6d5ba": {
      "model_module": "@jupyter-widgets/controls",
      "model_module_version": "1.1.0",
      "model_name": "TextModel",
      "state": {
       "description": "Sequence",
       "layout": "IPY_MODEL_948f52622a614ccf972d15ea1c8981e0",
       "placeholder": "Enter your RNA sequence",
       "style": "IPY_MODEL_fe5ea71e209046499baafcab7f6d16ae",
       "value": "-Ams-Gms-Cms-Uro-Gro-Aro-Gro-Aro-Aro-Aro-Uro-Cro-Aro-Gfo-Gro-Cro-Uro-Gro-Cro-Aro-Gro-Aro-Aro-Gro-Gro-Gro-Aro-Uro-Uro-Cro-Cro-Aro-Uro-Gro-Gro-Uro-Uro-Uro-Uro-Aro-Gro-Aro-Gro-Cro-Uro-Aro-Gro-Aro-Aro-Aro-Uro-Aro-Gro-Cro-Aro-Aro-Gro-Uro-Uro-Aro-Aro-Aro-Aro-Uro-Aro-Aro-Gro-Gro-Cro-Uro-Aro-Gro-Uro-Cro-Cro-Gro-Uro-Uro-Aro-Uro-Cro-Aro-Aro-Cro-Uro-Uro-Gro-Aro-Aro-Aro-Aro-Aro-Gro-Uro-Gro-Gro-Cro-Aro-Cro-Cro-Gro-Aro-Gro-Uro-Cro-Gro-Gro-Uro-Gro-Cro-Uro-Ums-Ums-Um"
      }
     },
     "ce9bb1dc43a44f99a9c16c1125a3f016": {
      "model_module": "@jupyter-widgets/controls",
      "model_module_version": "1.1.0",
      "model_name": "DescriptionStyleModel",
      "state": {
       "description_width": "initial"
      }
     },
     "ceafc27f4ef049d0a11a491aff66ec73": {
      "model_module": "@jupyter-widgets/controls",
      "model_module_version": "1.1.0",
      "model_name": "DescriptionStyleModel",
      "state": {
       "description_width": "initial"
      }
     },
     "cec8f986b7894f9cbe147a76cf266857": {
      "model_module": "@jupyter-widgets/controls",
      "model_module_version": "1.1.0",
      "model_name": "DescriptionStyleModel",
      "state": {
       "description_width": "initial"
      }
     },
     "ced32c972128485e86e5c2e3ebc216e0": {
      "model_module": "@jupyter-widgets/controls",
      "model_module_version": "1.1.0",
      "model_name": "DescriptionStyleModel",
      "state": {
       "description_width": ""
      }
     },
     "cf2cacfe08be44738ac601c2e2c548eb": {
      "model_module": "@jupyter-widgets/controls",
      "model_module_version": "1.1.0",
      "model_name": "DescriptionStyleModel",
      "state": {
       "description_width": "initial"
      }
     },
     "cf5860e9ecb84ba1bcb9ff44c66ec3cf": {
      "model_module": "@jupyter-widgets/controls",
      "model_module_version": "1.1.0",
      "model_name": "IntTextModel",
      "state": {
       "description": "Thiophosphates & OMe at the 5'-end",
       "layout": "IPY_MODEL_abff5130ec28449aa0e5739c0459a04d",
       "step": 1,
       "style": "IPY_MODEL_bd81f5848a4e4e679a6dfd99180aa39b",
       "value": 3
      }
     },
     "cf672d02ca894a1ebc3ba1628d2871f4": {
      "model_module": "@jupyter-widgets/base",
      "model_module_version": "1.0.0",
      "model_name": "LayoutModel",
      "state": {}
     },
     "cf68883c94a84867963c73ec8d5daceb": {
      "model_module": "@jupyter-widgets/base",
      "model_module_version": "1.0.0",
      "model_name": "LayoutModel",
      "state": {}
     },
     "cf695ba1abb14aff80c04499ab230c45": {
      "model_module": "@jupyter-widgets/controls",
      "model_module_version": "1.1.0",
      "model_name": "IntTextModel",
      "state": {
       "description": "Thiophosphates & OMe at the 3'-end",
       "layout": "IPY_MODEL_438b3ac660324dd6bead7de246ed5732",
       "step": 1,
       "style": "IPY_MODEL_bec9a337fc1f4bc8a9c7c3a61a583d9d",
       "value": 3
      }
     },
     "cffb12a66e01486990167b2f6dac3114": {
      "model_module": "@jupyter-widgets/controls",
      "model_module_version": "1.1.0",
      "model_name": "DescriptionStyleModel",
      "state": {
       "description_width": ""
      }
     },
     "d03364f2638a414697147c0a42eb81ec": {
      "model_module": "@jupyter-widgets/controls",
      "model_module_version": "1.1.0",
      "model_name": "IntTextModel",
      "state": {
       "description": "Insert after position:",
       "layout": "IPY_MODEL_25c51571851b4b00a2e829e8b1721139",
       "step": 1,
       "style": "IPY_MODEL_364c88a729c640cea248d212c7ee2e6e",
       "value": 4
      }
     },
     "d07019f0bd3740c1b8a601cd6d037df8": {
      "model_module": "@jupyter-widgets/controls",
      "model_module_version": "1.1.0",
      "model_name": "DescriptionStyleModel",
      "state": {
       "description_width": "initial"
      }
     },
     "d23d77c4e65544ca8173c72ca291dade": {
      "model_module": "@jupyter-widgets/base",
      "model_module_version": "1.0.0",
      "model_name": "LayoutModel",
      "state": {}
     },
     "d28d85316a4848eaaeb6320266f9c209": {
      "model_module": "@jupyter-widgets/base",
      "model_module_version": "1.0.0",
      "model_name": "LayoutModel",
      "state": {}
     },
     "d2dd8f510bd74202aa4d88e84c35044a": {
      "model_module": "@jupyter-widgets/controls",
      "model_module_version": "1.1.0",
      "model_name": "DescriptionStyleModel",
      "state": {
       "description_width": "initial"
      }
     },
     "d33177ab608f4bacb3325c745ca7dfd6": {
      "model_module": "@jupyter-widgets/controls",
      "model_module_version": "1.1.0",
      "model_name": "IntTextModel",
      "state": {
       "description": "Insert after position:",
       "layout": "IPY_MODEL_0f0639eaff044935a8560f8921f16364",
       "step": 1,
       "style": "IPY_MODEL_cec8f986b7894f9cbe147a76cf266857",
       "value": 12
      }
     },
     "d3bdf173b03248d1924aaf33407b7571": {
      "model_module": "@jupyter-widgets/base",
      "model_module_version": "1.0.0",
      "model_name": "LayoutModel",
      "state": {}
     },
     "d3c7822c26e0412ea4a33327fa35a5f3": {
      "model_module": "@jupyter-widgets/base",
      "model_module_version": "1.0.0",
      "model_name": "LayoutModel",
      "state": {}
     },
     "d3e20298f267463887c21be5a8391f7c": {
      "model_module": "@jupyter-widgets/controls",
      "model_module_version": "1.1.0",
      "model_name": "DescriptionStyleModel",
      "state": {
       "description_width": ""
      }
     },
     "d421964747c34488bcbcb5ba6cfe3cd3": {
      "model_module": "@jupyter-widgets/base",
      "model_module_version": "1.0.0",
      "model_name": "LayoutModel",
      "state": {}
     },
     "d44cc165c30849f1a8794d4b5681dfaf": {
      "model_module": "@jupyter-widgets/base",
      "model_module_version": "1.0.0",
      "model_name": "LayoutModel",
      "state": {}
     },
     "d4711190fcb64eb98089169561e3e102": {
      "model_module": "@jupyter-widgets/controls",
      "model_module_version": "1.1.0",
      "model_name": "IntTextModel",
      "state": {
       "description": "5'-end thio",
       "layout": "IPY_MODEL_2a780d43596544ab9fb977c685f50d49",
       "step": 1,
       "style": "IPY_MODEL_235da29d475c4c849804a27b9415c7e1",
       "value": 3
      }
     },
     "d522a2e29669407b8f6c0457a50f9a92": {
      "model_module": "@jupyter-widgets/controls",
      "model_module_version": "1.1.0",
      "model_name": "DescriptionStyleModel",
      "state": {
       "description_width": "initial"
      }
     },
     "d5336dd9e5a74f48951b9719a9c0a2bf": {
      "model_module": "@jupyter-widgets/base",
      "model_module_version": "1.0.0",
      "model_name": "LayoutModel",
      "state": {}
     },
     "d54ecc7d394246ea84ac4b7403c6ac60": {
      "model_module": "@jupyter-widgets/controls",
      "model_module_version": "1.1.0",
      "model_name": "IntTextModel",
      "state": {
       "description": "Insert at position:",
       "layout": "IPY_MODEL_dc127f1da636491f96a89db9c6cc1be2",
       "step": 1,
       "style": "IPY_MODEL_9539a9ef133343c7a37164e011ae612c"
      }
     },
     "d61cf0cb67a04d9eba149f539301fb69": {
      "model_module": "@jupyter-widgets/controls",
      "model_module_version": "1.1.0",
      "model_name": "IntTextModel",
      "state": {
       "description": "Insert at position:",
       "layout": "IPY_MODEL_562980604977419c94a08d788a78b152",
       "step": 1,
       "style": "IPY_MODEL_7c95a36c9f5f4ebdbd171c8ff6fe5058",
       "value": 11
      }
     },
     "d6834b3dc4e44a5e854629fd1254954d": {
      "model_module": "@jupyter-widgets/base",
      "model_module_version": "1.0.0",
      "model_name": "LayoutModel",
      "state": {}
     },
     "d6e5285006d04c149a0794a76e0c4eff": {
      "model_module": "@jupyter-widgets/controls",
      "model_module_version": "1.1.0",
      "model_name": "IntTextModel",
      "state": {
       "description": "Thiophosphates & OMe at the 3'-end",
       "layout": "IPY_MODEL_b6e4b238e43c42b49af0d0b89751f5e0",
       "step": 1,
       "style": "IPY_MODEL_8bd9dd350bcc4018b183b4a0b30cf758",
       "value": 3
      }
     },
     "d70087f677b04e898c978a2c3668c616": {
      "model_module": "@jupyter-widgets/base",
      "model_module_version": "1.0.0",
      "model_name": "LayoutModel",
      "state": {}
     },
     "d757f2c90ff941608cb46fed664bb758": {
      "model_module": "@jupyter-widgets/base",
      "model_module_version": "1.0.0",
      "model_name": "LayoutModel",
      "state": {}
     },
     "d7a755f2ea564e289a5f181cb16ea4d9": {
      "model_module": "@jupyter-widgets/base",
      "model_module_version": "1.0.0",
      "model_name": "LayoutModel",
      "state": {}
     },
     "d7c25f0408eb4b50b10fb2f1a296efb2": {
      "model_module": "@jupyter-widgets/controls",
      "model_module_version": "1.1.0",
      "model_name": "DescriptionStyleModel",
      "state": {
       "description_width": ""
      }
     },
     "d7e96dc4ecee44a6a5b82929c93d6f20": {
      "model_module": "@jupyter-widgets/controls",
      "model_module_version": "1.1.0",
      "model_name": "IntTextModel",
      "state": {
       "description": "Thiophosphates & OMe at the 5'-end",
       "layout": "IPY_MODEL_539aa6eeee51499eaa1e9ee298fae83b",
       "step": 1,
       "style": "IPY_MODEL_5678419b850e471f9712618f649aa2dc",
       "value": 3
      }
     },
     "d7ea2059ddd8487aa02b056f8651893b": {
      "model_module": "@jupyter-widgets/base",
      "model_module_version": "1.0.0",
      "model_name": "LayoutModel",
      "state": {}
     },
     "d80a9ab608394028857e3326c8617976": {
      "model_module": "@jupyter-widgets/base",
      "model_module_version": "1.0.0",
      "model_name": "LayoutModel",
      "state": {}
     },
     "d816275ff0a84441832f2e3f7750f012": {
      "model_module": "@jupyter-widgets/base",
      "model_module_version": "1.0.0",
      "model_name": "LayoutModel",
      "state": {}
     },
     "d82474b596c247c7aa91092060757d0b": {
      "model_module": "@jupyter-widgets/base",
      "model_module_version": "1.0.0",
      "model_name": "LayoutModel",
      "state": {}
     },
     "d827d50c652540e9b06e4857869778ac": {
      "model_module": "@jupyter-widgets/controls",
      "model_module_version": "1.1.0",
      "model_name": "TextModel",
      "state": {
       "description": "Sequence",
       "layout": "IPY_MODEL_cc4ac939b3f6481f994cd94ebdd17b27",
       "placeholder": "Enter your RNA sequence",
       "style": "IPY_MODEL_e91c888433d44408b5147eadb731e96b",
       "value": "GUGUUTGACG"
      }
     },
     "d82e4537b4e4496298e5fcd381870f92": {
      "model_module": "@jupyter-widgets/controls",
      "model_module_version": "1.1.0",
      "model_name": "DescriptionStyleModel",
      "state": {
       "description_width": ""
      }
     },
     "d874280a15d74ed3b64bf15285074683": {
      "model_module": "@jupyter-widgets/base",
      "model_module_version": "1.0.0",
      "model_name": "LayoutModel",
      "state": {}
     },
     "d9249d58d57549d294f11795e77041f2": {
      "model_module": "@jupyter-widgets/controls",
      "model_module_version": "1.1.0",
      "model_name": "DescriptionStyleModel",
      "state": {
       "description_width": "initial"
      }
     },
     "da090c63afae4e5e80b5d20fa643bc5b": {
      "model_module": "@jupyter-widgets/controls",
      "model_module_version": "1.1.0",
      "model_name": "DescriptionStyleModel",
      "state": {
       "description_width": "initial"
      }
     },
     "da9ba888a6de4e21a75fd7c345a2c9da": {
      "model_module": "@jupyter-widgets/controls",
      "model_module_version": "1.1.0",
      "model_name": "IntTextModel",
      "state": {
       "description": "Thiophosphates & OMe at the 5'-end",
       "layout": "IPY_MODEL_ff49c0bc215d4808905708bd190e1587",
       "step": 1,
       "style": "IPY_MODEL_30f9d48046c54845a97899af392897df",
       "value": 3
      }
     },
     "db50c0eb39fe4aa2ba4a21ce80813d45": {
      "model_module": "@jupyter-widgets/controls",
      "model_module_version": "1.1.0",
      "model_name": "DescriptionStyleModel",
      "state": {
       "description_width": ""
      }
     },
     "dc127f1da636491f96a89db9c6cc1be2": {
      "model_module": "@jupyter-widgets/base",
      "model_module_version": "1.0.0",
      "model_name": "LayoutModel",
      "state": {}
     },
     "dcdbab8e077f4517a520b98a9a3d0f95": {
      "model_module": "@jupyter-widgets/controls",
      "model_module_version": "1.1.0",
      "model_name": "RadioButtonsModel",
      "state": {
       "_options_labels": [
        "OH",
        "Methyl",
        "Fluoro"
       ],
       "description": "2'-",
       "index": 0,
       "layout": "IPY_MODEL_2e78242d9fb0488785bc8ab207f4cace",
       "style": "IPY_MODEL_14c67d38f4f34caf9b5b5ebb7431da4a"
      }
     },
     "ddff2601708f46158aeb05cc41dff881": {
      "model_module": "@jupyter-widgets/base",
      "model_module_version": "1.0.0",
      "model_name": "LayoutModel",
      "state": {}
     },
     "de003aabe9a74dab9004cb1a2ef0a6d8": {
      "model_module": "@jupyter-widgets/controls",
      "model_module_version": "1.1.0",
      "model_name": "IntTextModel",
      "state": {
       "description": "and before position:",
       "layout": "IPY_MODEL_f2db82f55b0848abb94c882fdd65f9c2",
       "step": 1,
       "style": "IPY_MODEL_ceafc27f4ef049d0a11a491aff66ec73"
      }
     },
     "de7ae0ca58204ea0aabc93e5f45ac3c9": {
      "model_module": "@jupyter-widgets/controls",
      "model_module_version": "1.1.0",
      "model_name": "IntTextModel",
      "state": {
       "description": "Any:",
       "layout": "IPY_MODEL_f7461718579e4edeaabb8cb63a9c1322",
       "step": 1,
       "style": "IPY_MODEL_7e5432207b284048b840b906c037542c",
       "value": 3
      }
     },
     "ded2fdacde8e409f8fbf2ad4acf72c15": {
      "model_module": "@jupyter-widgets/controls",
      "model_module_version": "1.1.0",
      "model_name": "IntTextModel",
      "state": {
       "description": "Insert after position:",
       "layout": "IPY_MODEL_d874280a15d74ed3b64bf15285074683",
       "step": 1,
       "style": "IPY_MODEL_963ab8eadb4748b9b9c514b8f96d2348",
       "value": 4
      }
     },
     "df359ee2b6984f67b17201b2164fef2d": {
      "model_module": "@jupyter-widgets/controls",
      "model_module_version": "1.1.0",
      "model_name": "DescriptionStyleModel",
      "state": {
       "description_width": "initial"
      }
     },
     "dfe2431924f140ddb08d7294098913fc": {
      "model_module": "@jupyter-widgets/base",
      "model_module_version": "1.0.0",
      "model_name": "LayoutModel",
      "state": {}
     },
     "dfe82c34697c42cf8f4d57d1c086d1da": {
      "model_module": "@jupyter-widgets/controls",
      "model_module_version": "1.1.0",
      "model_name": "IntTextModel",
      "state": {
       "description": "Insert after position:",
       "layout": "IPY_MODEL_13fd5d192f7b4c73a1e982a1fc480789",
       "step": 1,
       "style": "IPY_MODEL_5766117e1fc14ed0856c607045c6a239"
      }
     },
     "dfef736f7df64712834fb6f63210e6cd": {
      "model_module": "@jupyter-widgets/base",
      "model_module_version": "1.0.0",
      "model_name": "LayoutModel",
      "state": {}
     },
     "e0ef5b1bfc3245049505c3f1da0d87ea": {
      "model_module": "@jupyter-widgets/controls",
      "model_module_version": "1.1.0",
      "model_name": "DescriptionStyleModel",
      "state": {
       "description_width": "initial"
      }
     },
     "e2c2a95e99a248ad9a4e3a6efad9b5b8": {
      "model_module": "@jupyter-widgets/controls",
      "model_module_version": "1.1.0",
      "model_name": "DescriptionStyleModel",
      "state": {
       "description_width": "initial"
      }
     },
     "e346bf74d9e0409ab80c6aba5054ef0a": {
      "model_module": "@jupyter-widgets/controls",
      "model_module_version": "1.1.0",
      "model_name": "DescriptionStyleModel",
      "state": {
       "description_width": ""
      }
     },
     "e36f2a2a461e4f4f9b8808a9870f152e": {
      "model_module": "@jupyter-widgets/controls",
      "model_module_version": "1.1.0",
      "model_name": "TextModel",
      "state": {
       "layout": "IPY_MODEL_4ff91dd2bd0c4b328c64bfc8b6cc70e2",
       "style": "IPY_MODEL_b5e3a20401fa4617837f7d016d5cc28f",
       "value": "asfkmff"
      }
     },
     "e3ca7933a1d747d6ad240a6dd0a2385f": {
      "model_module": "@jupyter-widgets/controls",
      "model_module_version": "1.1.0",
      "model_name": "DescriptionStyleModel",
      "state": {
       "description_width": "initial"
      }
     },
     "e45b09f29ab949c6bd007867d79ecd7d": {
      "model_module": "@jupyter-widgets/controls",
      "model_module_version": "1.1.0",
      "model_name": "DescriptionStyleModel",
      "state": {
       "description_width": "initial"
      }
     },
     "e47c8754f2b0452499308e3789e00eff": {
      "model_module": "@jupyter-widgets/base",
      "model_module_version": "1.0.0",
      "model_name": "LayoutModel",
      "state": {}
     },
     "e4dd6f7431e0418ab524ff90654a5366": {
      "model_module": "@jupyter-widgets/controls",
      "model_module_version": "1.1.0",
      "model_name": "IntTextModel",
      "state": {
       "description": "Thiophosphates & OMe at the 3'-end",
       "layout": "IPY_MODEL_b6b897a757e0492da27ed4cbdf1e070b",
       "step": 1,
       "style": "IPY_MODEL_f99ccc0eab5b4f8ab9dc40b5bc0d93ff",
       "value": 3
      }
     },
     "e4e9b0195ce443e79f56cfd4f4de1938": {
      "model_module": "@jupyter-widgets/controls",
      "model_module_version": "1.1.0",
      "model_name": "DescriptionStyleModel",
      "state": {
       "description_width": "initial"
      }
     },
     "e4faa769baee494891aa4378c7a6c5d4": {
      "model_module": "@jupyter-widgets/controls",
      "model_module_version": "1.1.0",
      "model_name": "IntTextModel",
      "state": {
       "description": "Thiophosphates & OMe at the 5'-end",
       "layout": "IPY_MODEL_903eba1e2cbd4a06879d21d0363c1238",
       "step": 1,
       "style": "IPY_MODEL_cf2cacfe08be44738ac601c2e2c548eb",
       "value": 3
      }
     },
     "e4fef39f7e994493ae53aa89555b7ba2": {
      "model_module": "@jupyter-widgets/controls",
      "model_module_version": "1.1.0",
      "model_name": "DescriptionStyleModel",
      "state": {
       "description_width": ""
      }
     },
     "e513952239c94714876dde80eda05657": {
      "model_module": "@jupyter-widgets/controls",
      "model_module_version": "1.1.0",
      "model_name": "IntTextModel",
      "state": {
       "description": "Insert at position:",
       "layout": "IPY_MODEL_a931c5eb0b304ffea04d9ebc20b39e05",
       "step": 1,
       "style": "IPY_MODEL_84b5dad0d7a24ca38553da4367b2670d"
      }
     },
     "e51a0fb572b64698b978acb7497e752a": {
      "model_module": "@jupyter-widgets/base",
      "model_module_version": "1.0.0",
      "model_name": "LayoutModel",
      "state": {}
     },
     "e587520a52f04d3e84a08f542c143469": {
      "model_module": "@jupyter-widgets/controls",
      "model_module_version": "1.1.0",
      "model_name": "RadioButtonsModel",
      "state": {
       "_options_labels": [
        "OH",
        "Methyl",
        "Fluoro"
       ],
       "description": "2'-",
       "index": 2,
       "layout": "IPY_MODEL_294ab23d88b84752a5a1b145598eacd6",
       "style": "IPY_MODEL_6905597532684b2683174e58fe15cf4d"
      }
     },
     "e5d35dcedefb42f9b5abc4e9a7168567": {
      "model_module": "@jupyter-widgets/base",
      "model_module_version": "1.0.0",
      "model_name": "LayoutModel",
      "state": {}
     },
     "e5ddd052f6e441978e51a3a0e31ce88f": {
      "model_module": "@jupyter-widgets/controls",
      "model_module_version": "1.1.0",
      "model_name": "RadioButtonsModel",
      "state": {
       "_options_labels": [
        "OH",
        "Methyl",
        "Fluoro"
       ],
       "description": "2'-",
       "index": 2,
       "layout": "IPY_MODEL_982b62953e0c4d349ce2cdb7eb7a2325",
       "style": "IPY_MODEL_a0c0a545a86c4e8b8f491360594377cc"
      }
     },
     "e69508ab6c904c26946dd415b8745c7b": {
      "model_module": "@jupyter-widgets/controls",
      "model_module_version": "1.1.0",
      "model_name": "IntTextModel",
      "state": {
       "description": "Thiophosphates & OMe at the 3'-end",
       "layout": "IPY_MODEL_00552c7b59f04fca99e51cd8ded67caa",
       "step": 1,
       "style": "IPY_MODEL_f72344a1870245fb95e834a8a951f23d",
       "value": 3
      }
     },
     "e7ab9ebf95f641a9812c8807122b83a3": {
      "model_module": "@jupyter-widgets/base",
      "model_module_version": "1.0.0",
      "model_name": "LayoutModel",
      "state": {}
     },
     "e8e5d9002382442ab5607d0e8f24c70e": {
      "model_module": "@jupyter-widgets/controls",
      "model_module_version": "1.1.0",
      "model_name": "DescriptionStyleModel",
      "state": {
       "description_width": "initial"
      }
     },
     "e9060cb601bb4716a8bc9d491afc802a": {
      "model_module": "@jupyter-widgets/controls",
      "model_module_version": "1.1.0",
      "model_name": "RadioButtonsModel",
      "state": {
       "_options_labels": [
        "OH",
        "Methyl",
        "Fluoro"
       ],
       "description": "2'-",
       "index": 0,
       "layout": "IPY_MODEL_9764e25fd0e94b319f296d7d04c9e69c",
       "style": "IPY_MODEL_241fa41702c743d2a890e520a85269ee"
      }
     },
     "e91ab7ba9d9e435eaff0db546828921a": {
      "model_module": "@jupyter-widgets/controls",
      "model_module_version": "1.1.0",
      "model_name": "IntTextModel",
      "state": {
       "description": "Any:",
       "layout": "IPY_MODEL_03d224f0799d4ff6b5138d617bd44963",
       "step": 1,
       "style": "IPY_MODEL_a4aa663ed970445ba7276a093a0151d2",
       "value": 3
      }
     },
     "e91c888433d44408b5147eadb731e96b": {
      "model_module": "@jupyter-widgets/controls",
      "model_module_version": "1.1.0",
      "model_name": "DescriptionStyleModel",
      "state": {
       "description_width": ""
      }
     },
     "e950852c12b34c2ab0dd7b2a9a85c90d": {
      "model_module": "@jupyter-widgets/controls",
      "model_module_version": "1.1.0",
      "model_name": "DescriptionStyleModel",
      "state": {
       "description_width": ""
      }
     },
     "e97a3fd3c4da4823b0562cd3f97c0813": {
      "model_module": "@jupyter-widgets/controls",
      "model_module_version": "1.1.0",
      "model_name": "DescriptionStyleModel",
      "state": {
       "description_width": ""
      }
     },
     "e9bc4a10800046ce97813fb664814b3a": {
      "model_module": "@jupyter-widgets/controls",
      "model_module_version": "1.1.0",
      "model_name": "RadioButtonsModel",
      "state": {
       "_options_labels": [
        "OH",
        "Methyl",
        "Fluoro"
       ],
       "description": "2'-",
       "index": 0,
       "layout": "IPY_MODEL_ed3913284f20491a8d0eeb30e455f348",
       "style": "IPY_MODEL_30511b104db14d8e8a46eb1032e78667"
      }
     },
     "ea7158b4dca749d59b00679106211623": {
      "model_module": "@jupyter-widgets/base",
      "model_module_version": "1.0.0",
      "model_name": "LayoutModel",
      "state": {}
     },
     "eb6f2df56d3a4908bee36d2b0d019de4": {
      "model_module": "@jupyter-widgets/base",
      "model_module_version": "1.0.0",
      "model_name": "LayoutModel",
      "state": {}
     },
     "ebaeecd378bf4bcaba60121a6fdbdd54": {
      "model_module": "@jupyter-widgets/base",
      "model_module_version": "1.0.0",
      "model_name": "LayoutModel",
      "state": {}
     },
     "ecf423ae86cb42348c88b37cee09bad3": {
      "model_module": "@jupyter-widgets/controls",
      "model_module_version": "1.1.0",
      "model_name": "RadioButtonsModel",
      "state": {
       "_options_labels": [
        "OH",
        "Methyl",
        "Fluoro"
       ],
       "description": "2'-",
       "index": 0,
       "layout": "IPY_MODEL_b3d5f0d054504fdbb75027be9d4e0b2e",
       "style": "IPY_MODEL_f83d2c9e989e498f85c90da4fa2f8f50"
      }
     },
     "ed23772b5bc743faaa49ea13fb1f4b57": {
      "model_module": "@jupyter-widgets/base",
      "model_module_version": "1.0.0",
      "model_name": "LayoutModel",
      "state": {}
     },
     "ed317e5a2ef8467c8cd924431a85f357": {
      "model_module": "@jupyter-widgets/controls",
      "model_module_version": "1.1.0",
      "model_name": "DescriptionStyleModel",
      "state": {
       "description_width": "initial"
      }
     },
     "ed3913284f20491a8d0eeb30e455f348": {
      "model_module": "@jupyter-widgets/base",
      "model_module_version": "1.0.0",
      "model_name": "LayoutModel",
      "state": {}
     },
     "ed72d5a1eb7748f8a799cdc3785aa71a": {
      "model_module": "@jupyter-widgets/controls",
      "model_module_version": "1.1.0",
      "model_name": "DescriptionStyleModel",
      "state": {
       "description_width": ""
      }
     },
     "edbe7b3d1d454e2b98ba1efdfdb9ab34": {
      "model_module": "@jupyter-widgets/base",
      "model_module_version": "1.0.0",
      "model_name": "LayoutModel",
      "state": {}
     },
     "edc95be5fe5f4a989157976a4e05074c": {
      "model_module": "@jupyter-widgets/controls",
      "model_module_version": "1.1.0",
      "model_name": "DescriptionStyleModel",
      "state": {
       "description_width": ""
      }
     },
     "ee06018e83674b40898556568e3364a5": {
      "model_module": "@jupyter-widgets/base",
      "model_module_version": "1.0.0",
      "model_name": "LayoutModel",
      "state": {}
     },
     "ee8330eb6d7a4223a53ddcfc89d8a9e1": {
      "model_module": "@jupyter-widgets/base",
      "model_module_version": "1.0.0",
      "model_name": "LayoutModel",
      "state": {}
     },
     "ef7898b9f6db46279983dd8e4d568ae3": {
      "model_module": "@jupyter-widgets/base",
      "model_module_version": "1.0.0",
      "model_name": "LayoutModel",
      "state": {}
     },
     "ef92e843524a459abeb1654eb3bd54c9": {
      "model_module": "@jupyter-widgets/controls",
      "model_module_version": "1.1.0",
      "model_name": "DescriptionStyleModel",
      "state": {
       "description_width": ""
      }
     },
     "efaf07410b464edbab5e3db0a1c603b1": {
      "model_module": "@jupyter-widgets/base",
      "model_module_version": "1.0.0",
      "model_name": "LayoutModel",
      "state": {}
     },
     "efcad16b289e4073bf73c5207f2ea9f5": {
      "model_module": "@jupyter-widgets/base",
      "model_module_version": "1.0.0",
      "model_name": "LayoutModel",
      "state": {}
     },
     "f000cc743747478383db0b1e95f62966": {
      "model_module": "@jupyter-widgets/controls",
      "model_module_version": "1.1.0",
      "model_name": "DescriptionStyleModel",
      "state": {
       "description_width": ""
      }
     },
     "f083e778f1f0483e86186361e0a3a4b1": {
      "model_module": "@jupyter-widgets/controls",
      "model_module_version": "1.1.0",
      "model_name": "IntTextModel",
      "state": {
       "description": "Thiophosphates & OMe at the 3'-end",
       "layout": "IPY_MODEL_0f223f25339c44079a451ac97e4ecfd0",
       "step": 1,
       "style": "IPY_MODEL_84b3605e5291403b84d4ea0c0abd37f3",
       "value": 3
      }
     },
     "f0c1a75372d3421bb9c336e3d28ad50a": {
      "model_module": "@jupyter-widgets/controls",
      "model_module_version": "1.1.0",
      "model_name": "DescriptionStyleModel",
      "state": {
       "description_width": "initial"
      }
     },
     "f1092f626cc64e60a31c4dbceb7c2e6b": {
      "model_module": "@jupyter-widgets/base",
      "model_module_version": "1.0.0",
      "model_name": "LayoutModel",
      "state": {}
     },
     "f12a4091633c4e989811f3197028a582": {
      "model_module": "@jupyter-widgets/controls",
      "model_module_version": "1.1.0",
      "model_name": "CheckboxModel",
      "state": {
       "description": "Thiophosphorylated",
       "disabled": false,
       "layout": "IPY_MODEL_f64b970d52354c5db9c07cc392d2f545",
       "style": "IPY_MODEL_acf924ddffe94f8db8de5b0a67358a42",
       "value": false
      }
     },
     "f172e77efb7645e787da1070e41de237": {
      "model_module": "@jupyter-widgets/controls",
      "model_module_version": "1.1.0",
      "model_name": "DescriptionStyleModel",
      "state": {
       "description_width": ""
      }
     },
     "f204fc24c76f400a8d1ad94cbc9ad172": {
      "model_module": "@jupyter-widgets/controls",
      "model_module_version": "1.1.0",
      "model_name": "IntTextModel",
      "state": {
       "description": "Thiophosphates & OMe at the 3'-end",
       "layout": "IPY_MODEL_408629a4ea8d45b89e66dd716f6944a1",
       "step": 1,
       "style": "IPY_MODEL_b5e449c3eb1644249734462acad0221c",
       "value": 3
      }
     },
     "f21ad8605852456e838b9b731cacf7fa": {
      "model_module": "@jupyter-widgets/controls",
      "model_module_version": "1.1.0",
      "model_name": "DescriptionStyleModel",
      "state": {
       "description_width": "initial"
      }
     },
     "f27d620271554d2db76ff530805aad28": {
      "model_module": "@jupyter-widgets/controls",
      "model_module_version": "1.1.0",
      "model_name": "IntTextModel",
      "state": {
       "description": "5'-end thio",
       "layout": "IPY_MODEL_b93e118bf4e04ff889d27ec38e9ddcdf",
       "step": 1,
       "style": "IPY_MODEL_1cbe1384dda5453d93425ad58877e934",
       "value": 3
      }
     },
     "f2db82f55b0848abb94c882fdd65f9c2": {
      "model_module": "@jupyter-widgets/base",
      "model_module_version": "1.0.0",
      "model_name": "LayoutModel",
      "state": {}
     },
     "f333b843960443e4b95a00e06f356a09": {
      "model_module": "@jupyter-widgets/base",
      "model_module_version": "1.0.0",
      "model_name": "LayoutModel",
      "state": {}
     },
     "f3e50c33d4954e219da5d7bf0ce3bf09": {
      "model_module": "@jupyter-widgets/controls",
      "model_module_version": "1.1.0",
      "model_name": "IntTextModel",
      "state": {
       "description": "Insert after position:",
       "layout": "IPY_MODEL_151d4e1d374e46938575a162a854c07d",
       "step": 1,
       "style": "IPY_MODEL_bb241c4352e1465683b013f1f4aaa3c6"
      }
     },
     "f4aa806dc72e495683be89b92755693b": {
      "model_module": "@jupyter-widgets/controls",
      "model_module_version": "1.1.0",
      "model_name": "DescriptionStyleModel",
      "state": {
       "description_width": ""
      }
     },
     "f529a02c328b4cc9a2db083b8dd844cf": {
      "model_module": "@jupyter-widgets/controls",
      "model_module_version": "1.1.0",
      "model_name": "DescriptionStyleModel",
      "state": {
       "description_width": "initial"
      }
     },
     "f53b90a8e5984a9dbd1d2365930726e9": {
      "model_module": "@jupyter-widgets/base",
      "model_module_version": "1.0.0",
      "model_name": "LayoutModel",
      "state": {}
     },
     "f5a051f246e342c3a0596e94a057e27c": {
      "model_module": "@jupyter-widgets/controls",
      "model_module_version": "1.1.0",
      "model_name": "IntTextModel",
      "state": {
       "description": "Insert after position:",
       "layout": "IPY_MODEL_2a85a16538844eddab490602aac8d9df",
       "step": 1,
       "style": "IPY_MODEL_699a4d77c13f40c7aa5db548a982e014"
      }
     },
     "f603ea259743496f8ff4bf071f7e288c": {
      "model_module": "@jupyter-widgets/controls",
      "model_module_version": "1.1.0",
      "model_name": "IntTextModel",
      "state": {
       "description": "Thiophosphates & OMe at the 3'-end",
       "layout": "IPY_MODEL_7591242327ed469d8e931642b8afb89d",
       "step": 1,
       "style": "IPY_MODEL_26c60fca92bc49fbb824079c839b73a9",
       "value": -6
      }
     },
     "f64b970d52354c5db9c07cc392d2f545": {
      "model_module": "@jupyter-widgets/base",
      "model_module_version": "1.0.0",
      "model_name": "LayoutModel",
      "state": {}
     },
     "f68c091c1a6d4879a535142059988898": {
      "model_module": "@jupyter-widgets/controls",
      "model_module_version": "1.1.0",
      "model_name": "DescriptionStyleModel",
      "state": {
       "description_width": ""
      }
     },
     "f715a2fe645a4f899dd9595304854b26": {
      "model_module": "@jupyter-widgets/controls",
      "model_module_version": "1.1.0",
      "model_name": "RadioButtonsModel",
      "state": {
       "_options_labels": [
        "OH",
        "Methyl",
        "Fluoro"
       ],
       "description": "2'-",
       "index": 0,
       "layout": "IPY_MODEL_f76deaf678454219828ab75d86566278",
       "style": "IPY_MODEL_46e7a5c06d584ccc9d47ce3c65f0ce48"
      }
     },
     "f72344a1870245fb95e834a8a951f23d": {
      "model_module": "@jupyter-widgets/controls",
      "model_module_version": "1.1.0",
      "model_name": "DescriptionStyleModel",
      "state": {
       "description_width": "initial"
      }
     },
     "f7461718579e4edeaabb8cb63a9c1322": {
      "model_module": "@jupyter-widgets/base",
      "model_module_version": "1.0.0",
      "model_name": "LayoutModel",
      "state": {}
     },
     "f75be4ce1ead4489b93d640465237c7a": {
      "model_module": "@jupyter-widgets/base",
      "model_module_version": "1.0.0",
      "model_name": "LayoutModel",
      "state": {}
     },
     "f76deaf678454219828ab75d86566278": {
      "model_module": "@jupyter-widgets/base",
      "model_module_version": "1.0.0",
      "model_name": "LayoutModel",
      "state": {}
     },
     "f7943991ef7f44bb94add93800b956ef": {
      "model_module": "@jupyter-widgets/controls",
      "model_module_version": "1.1.0",
      "model_name": "HBoxModel",
      "state": {
       "children": [
        "IPY_MODEL_8030725b106245f082d0f0691439a1f6",
        "IPY_MODEL_68e9fb58047e4fbc8e94ecd15d8514db",
        "IPY_MODEL_c495ae89f3c24593a53a2b01cea28260"
       ],
       "layout": "IPY_MODEL_ed23772b5bc743faaa49ea13fb1f4b57"
      }
     },
     "f83d2c9e989e498f85c90da4fa2f8f50": {
      "model_module": "@jupyter-widgets/controls",
      "model_module_version": "1.1.0",
      "model_name": "DescriptionStyleModel",
      "state": {
       "description_width": ""
      }
     },
     "f86cfa2656de4c24ab78c0ae20956b6a": {
      "model_module": "@jupyter-widgets/controls",
      "model_module_version": "1.1.0",
      "model_name": "RadioButtonsModel",
      "state": {
       "_options_labels": [
        "OH",
        "Methyl",
        "Fluoro"
       ],
       "description": "2'-",
       "index": 2,
       "layout": "IPY_MODEL_6e8dee58f1c443919e0195b303709ab7",
       "style": "IPY_MODEL_7c130634e8e2468687d7a4d588f80668"
      }
     },
     "f8f1284e428c4f3e9da76dd0fcd2ec2c": {
      "model_module": "@jupyter-widgets/controls",
      "model_module_version": "1.1.0",
      "model_name": "IntTextModel",
      "state": {
       "description": "Thiophosphates & OMe at the 3'-end",
       "layout": "IPY_MODEL_caa667dc40824640ad9dde7aa22f2ad9",
       "step": 1,
       "style": "IPY_MODEL_6b24a45ef53d46fda46cc85df9c7841e",
       "value": -5
      }
     },
     "f998261d68c044f18cc81e95ed378ede": {
      "model_module": "@jupyter-widgets/base",
      "model_module_version": "1.0.0",
      "model_name": "LayoutModel",
      "state": {}
     },
     "f99ccc0eab5b4f8ab9dc40b5bc0d93ff": {
      "model_module": "@jupyter-widgets/controls",
      "model_module_version": "1.1.0",
      "model_name": "DescriptionStyleModel",
      "state": {
       "description_width": "initial"
      }
     },
     "fc3367d91d2042ffbc531608b9687026": {
      "model_module": "@jupyter-widgets/controls",
      "model_module_version": "1.1.0",
      "model_name": "DescriptionStyleModel",
      "state": {
       "description_width": "initial"
      }
     },
     "fc44e4477b3748049c0f5272a1974c4a": {
      "model_module": "@jupyter-widgets/controls",
      "model_module_version": "1.1.0",
      "model_name": "DescriptionStyleModel",
      "state": {
       "description_width": "initial"
      }
     },
     "fc56d1a0130240a2996fcb8ce5468f0e": {
      "model_module": "@jupyter-widgets/base",
      "model_module_version": "1.0.0",
      "model_name": "LayoutModel",
      "state": {}
     },
     "fcb4852f88924bb8b0de7a6f67b88b2d": {
      "model_module": "@jupyter-widgets/controls",
      "model_module_version": "1.1.0",
      "model_name": "TextModel",
      "state": {
       "description": "Sequence",
       "layout": "IPY_MODEL_7040134b684040578485a7ec59766691",
       "placeholder": "Enter your RNA sequence",
       "style": "IPY_MODEL_d3e20298f267463887c21be5a8391f7c",
       "value": "UGGG"
      }
     },
     "fd0bdc4ba744433e89523e472ab48526": {
      "model_module": "@jupyter-widgets/controls",
      "model_module_version": "1.1.0",
      "model_name": "DescriptionStyleModel",
      "state": {
       "description_width": ""
      }
     },
     "fd5dca5d7ab74ba0b591bbea4497713c": {
      "model_module": "@jupyter-widgets/controls",
      "model_module_version": "1.1.0",
      "model_name": "DescriptionStyleModel",
      "state": {
       "description_width": ""
      }
     },
     "fd6d790cb9654cca8e4a32166a6a26fa": {
      "model_module": "@jupyter-widgets/controls",
      "model_module_version": "1.1.0",
      "model_name": "IntTextModel",
      "state": {
       "description": "Insert at position:",
       "layout": "IPY_MODEL_ba87e3978b374390bd51324db2160618",
       "step": 1,
       "style": "IPY_MODEL_95ee207a875144d6b29103a238843f29"
      }
     },
     "fd73d5227d4e482c8a1a381ca1b52b81": {
      "model_module": "@jupyter-widgets/controls",
      "model_module_version": "1.1.0",
      "model_name": "TextModel",
      "state": {
       "description": "Sequence",
       "layout": "IPY_MODEL_ebaeecd378bf4bcaba60121a6fdbdd54",
       "placeholder": "Enter your RNA sequence",
       "style": "IPY_MODEL_ed72d5a1eb7748f8a799cdc3785aa71a",
       "value": "-Gms-Ams-Ams-Aro-Gfo-Gro-Cro-Uro-Gro-Cro-Aro-Gro-Aro-Aro-Gro-Gro-Gro-Aro-Uro-Uro-Cro-Cro-Aro-Uro-Gro-Gro-Uro-Uro-Uro-Uro-Aro-Gro-Aro-Gro-Cro-Uro-Aro-Gro-Aro-Aro-Aro-Uro-Aro-Gro-Cro-Aro-Aro-Gro-Uro-Uro-Aro-Aro-Aro-Aro-Uro-Aro-Aro-Gro-Gro-Cro-Uro-Aro-Gro-Uro-Cro-Cro-Gro-Uro-Uro-Aro-Uro-Cro-Aro-Aro-Cro-Uro-Uro-Gro-Aro-Aro-Aro-Aro-Aro-Gro-Uro-Gro-Gro-Cro-Aro-Cro-Cro-Gro-Aro-Gro-Uro-Cro-Gro-Gro-Uro-Gro-Cro-Uro-Ums-Ums-Um"
      }
     },
     "fda6a938b6ee49e193b151e9cfd8b62e": {
      "model_module": "@jupyter-widgets/controls",
      "model_module_version": "1.1.0",
      "model_name": "DescriptionStyleModel",
      "state": {
       "description_width": "initial"
      }
     },
     "fddc1644496446c092079a98f81b1854": {
      "model_module": "@jupyter-widgets/controls",
      "model_module_version": "1.1.0",
      "model_name": "DescriptionStyleModel",
      "state": {
       "description_width": "initial"
      }
     },
     "fe5ea71e209046499baafcab7f6d16ae": {
      "model_module": "@jupyter-widgets/controls",
      "model_module_version": "1.1.0",
      "model_name": "DescriptionStyleModel",
      "state": {
       "description_width": ""
      }
     },
     "feb3ef9bf0fb4106adde129f24c96242": {
      "model_module": "@jupyter-widgets/controls",
      "model_module_version": "1.1.0",
      "model_name": "TextModel",
      "state": {
       "layout": "IPY_MODEL_8a3469c60d604a5f89fc9397e1b1ae55",
       "style": "IPY_MODEL_ac3199288a8b45ea83c45743aa2ceb42",
       "value": "sdfs,fls;dg"
      }
     },
     "ff0b68194ae14339ab3596d65623b3e9": {
      "model_module": "@jupyter-widgets/controls",
      "model_module_version": "1.1.0",
      "model_name": "DescriptionStyleModel",
      "state": {
       "description_width": ""
      }
     },
     "ff49c0bc215d4808905708bd190e1587": {
      "model_module": "@jupyter-widgets/base",
      "model_module_version": "1.0.0",
      "model_name": "LayoutModel",
      "state": {}
     },
     "ff51e94b169c44a588e52f1a252cdc3e": {
      "model_module": "@jupyter-widgets/base",
      "model_module_version": "1.0.0",
      "model_name": "LayoutModel",
      "state": {}
     },
     "ff7d6e7272e94f97b7c1b354832cd38a": {
      "model_module": "@jupyter-widgets/controls",
      "model_module_version": "1.1.0",
      "model_name": "IntTextModel",
      "state": {
       "description": "and before position:",
       "layout": "IPY_MODEL_5c8fcafd0ff646a68aee8666fcba856a",
       "step": 1,
       "style": "IPY_MODEL_bb741c4ac6644560b2b5afdfa968fcb1"
      }
     }
    },
    "version_major": 2,
    "version_minor": 0
   }
  }
 },
 "nbformat": 4,
 "nbformat_minor": 2
}
